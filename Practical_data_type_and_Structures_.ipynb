{
  "nbformat": 4,
  "nbformat_minor": 0,
  "metadata": {
    "colab": {
      "provenance": []
    },
    "kernelspec": {
      "name": "python3",
      "display_name": "Python 3"
    },
    "language_info": {
      "name": "python"
    }
  },
  "cells": [
    {
      "cell_type": "markdown",
      "source": [
        "### 1. Write a code to create a string with your name and print it"
      ],
      "metadata": {
        "id": "kTY4DzUlIW8b"
      }
    },
    {
      "cell_type": "code",
      "source": [
        "Name=\"Ankita\"\n",
        "print(type(Name),Name)"
      ],
      "metadata": {
        "colab": {
          "base_uri": "https://localhost:8080/"
        },
        "id": "UdVSXEuHIiI5",
        "outputId": "e2f5f1e6-6bd7-426d-a7ea-ea1e6978e07e"
      },
      "execution_count": 2,
      "outputs": [
        {
          "output_type": "stream",
          "name": "stdout",
          "text": [
            "<class 'str'> Ankita\n"
          ]
        }
      ]
    },
    {
      "cell_type": "markdown",
      "source": [
        "###2. Write a code to find the length of the string \"Hello World\"."
      ],
      "metadata": {
        "id": "JMf8ucnJI3MQ"
      }
    },
    {
      "cell_type": "code",
      "source": [
        "\"Hello World\"\n",
        "print(len(\"Hello World\"))\n"
      ],
      "metadata": {
        "colab": {
          "base_uri": "https://localhost:8080/"
        },
        "id": "2cihyAI1I9rP",
        "outputId": "09b56f19-541c-4454-ec1d-3d2bacd03ba8"
      },
      "execution_count": 5,
      "outputs": [
        {
          "output_type": "stream",
          "name": "stdout",
          "text": [
            "11\n"
          ]
        }
      ]
    },
    {
      "cell_type": "markdown",
      "source": [
        "###3. Write a code to slice the first 3 characters from the string \"Python Programming\"."
      ],
      "metadata": {
        "id": "Njm6s7pgJYNt"
      }
    },
    {
      "cell_type": "code",
      "source": [
        "str=\"Python Programming\"\n",
        "print(str[0:3])"
      ],
      "metadata": {
        "colab": {
          "base_uri": "https://localhost:8080/"
        },
        "id": "G6hyIBTEJf4H",
        "outputId": "f7689e97-8f16-433b-d156-332ea4235284"
      },
      "execution_count": 8,
      "outputs": [
        {
          "output_type": "stream",
          "name": "stdout",
          "text": [
            "Pyt\n"
          ]
        }
      ]
    },
    {
      "cell_type": "markdown",
      "source": [
        "###4.  Write a code to convert the string \"hello\" to uppercase."
      ],
      "metadata": {
        "id": "yvFiUr9nKM00"
      }
    },
    {
      "cell_type": "code",
      "source": [
        "str='hello'\n",
        "print(str.upper())"
      ],
      "metadata": {
        "colab": {
          "base_uri": "https://localhost:8080/"
        },
        "id": "KDfMR87iKUFK",
        "outputId": "42e112f5-433c-401a-c736-e7c8dfa87e7c"
      },
      "execution_count": 10,
      "outputs": [
        {
          "output_type": "stream",
          "name": "stdout",
          "text": [
            "HELLO\n"
          ]
        }
      ]
    },
    {
      "cell_type": "markdown",
      "source": [
        "###5. Write a code to replace the word \"apple\" with \"orange\" in the string \"I like apple\"."
      ],
      "metadata": {
        "id": "8Z0f4MubKhqx"
      }
    },
    {
      "cell_type": "code",
      "source": [
        "\n",
        "str=\"i like apple\"\n",
        "print(str.replace(\"apple\",\"orange\"))"
      ],
      "metadata": {
        "colab": {
          "base_uri": "https://localhost:8080/"
        },
        "id": "zFebyIx7Kqpe",
        "outputId": "97120b85-4ca5-4fb8-ffbe-c1d7bc15cc8b"
      },
      "execution_count": 12,
      "outputs": [
        {
          "output_type": "stream",
          "name": "stdout",
          "text": [
            "i like orange\n"
          ]
        }
      ]
    },
    {
      "cell_type": "markdown",
      "source": [
        "###6.Write a code to create a list with numbers 1 to 5 and print it."
      ],
      "metadata": {
        "id": "rIC73pd0L3qv"
      }
    },
    {
      "cell_type": "code",
      "source": [
        "list=[1,2,3,4,5]\n",
        "print(list)"
      ],
      "metadata": {
        "colab": {
          "base_uri": "https://localhost:8080/"
        },
        "id": "A3cE22zbL9Ax",
        "outputId": "080fb41b-1b7a-450a-b9df-504203576111"
      },
      "execution_count": 13,
      "outputs": [
        {
          "output_type": "stream",
          "name": "stdout",
          "text": [
            "[1, 2, 3, 4, 5]\n"
          ]
        }
      ]
    },
    {
      "cell_type": "markdown",
      "source": [
        "###7. Write a code to append the number 10 to the list [1, 2, 3, 4]."
      ],
      "metadata": {
        "id": "7S1DfXiBMHU-"
      }
    },
    {
      "cell_type": "code",
      "source": [
        "list=[1,2,3,4]\n",
        "list.append(10)\n",
        "print(list)"
      ],
      "metadata": {
        "colab": {
          "base_uri": "https://localhost:8080/"
        },
        "id": "ItkJHA2vMRkd",
        "outputId": "a7e78d2f-dbf4-4a9d-cd61-40f656aa3b1f"
      },
      "execution_count": 14,
      "outputs": [
        {
          "output_type": "stream",
          "name": "stdout",
          "text": [
            "[1, 2, 3, 4, 10]\n"
          ]
        }
      ]
    },
    {
      "cell_type": "markdown",
      "source": [
        "###8.Write a code to remove the number 3 from the list [1, 2, 3, 4, 5]."
      ],
      "metadata": {
        "id": "19mOnd_8Meoz"
      }
    },
    {
      "cell_type": "code",
      "source": [
        "list=[1,2,3,4,5]\n",
        "list.remove(3)\n",
        "print(list)"
      ],
      "metadata": {
        "colab": {
          "base_uri": "https://localhost:8080/"
        },
        "id": "rpIgfOeGMqfc",
        "outputId": "6ffd6202-3225-46f3-b0ac-11a9a5288877"
      },
      "execution_count": 15,
      "outputs": [
        {
          "output_type": "stream",
          "name": "stdout",
          "text": [
            "[1, 2, 4, 5]\n"
          ]
        }
      ]
    },
    {
      "cell_type": "markdown",
      "source": [
        "###9. Write a code to access the second element in the list ['a', 'b', 'c', 'd']."
      ],
      "metadata": {
        "id": "uBAKspX9M1Pl"
      }
    },
    {
      "cell_type": "code",
      "source": [
        "list=['a','b','c','d']\n",
        "print(list[1])"
      ],
      "metadata": {
        "colab": {
          "base_uri": "https://localhost:8080/"
        },
        "id": "tVlx-TouM9hO",
        "outputId": "b77b5a67-bae3-4b2d-a9a6-360429719701"
      },
      "execution_count": 16,
      "outputs": [
        {
          "output_type": "stream",
          "name": "stdout",
          "text": [
            "b\n"
          ]
        }
      ]
    },
    {
      "cell_type": "markdown",
      "source": [
        "###10. Write a code to reverse the list [10, 20, 30, 40, 50]."
      ],
      "metadata": {
        "id": "YAna_6M7NQoi"
      }
    },
    {
      "cell_type": "code",
      "source": [
        "list=[10,20,30,40,50]\n",
        "list.reverse()\n",
        "print(list)"
      ],
      "metadata": {
        "colab": {
          "base_uri": "https://localhost:8080/"
        },
        "id": "r2E7vO1HNVy7",
        "outputId": "cec3120d-ee1d-4ff9-d4a3-a528be66d9da"
      },
      "execution_count": 17,
      "outputs": [
        {
          "output_type": "stream",
          "name": "stdout",
          "text": [
            "[50, 40, 30, 20, 10]\n"
          ]
        }
      ]
    },
    {
      "cell_type": "markdown",
      "source": [
        "###11.Write a code to create a tuple with the elements 100, 200, 300 and print it."
      ],
      "metadata": {
        "id": "8JVJzVe_NiAE"
      }
    },
    {
      "cell_type": "code",
      "source": [
        "tup=(100,200,300)\n",
        "print(tup)"
      ],
      "metadata": {
        "colab": {
          "base_uri": "https://localhost:8080/"
        },
        "id": "IbgTogY8NmOw",
        "outputId": "cd18b76f-d491-4852-b9bf-3df94e37711a"
      },
      "execution_count": 18,
      "outputs": [
        {
          "output_type": "stream",
          "name": "stdout",
          "text": [
            "(100, 200, 300)\n"
          ]
        }
      ]
    },
    {
      "cell_type": "markdown",
      "source": [
        "###12.  Write a code to access the second-to-last element of the tuple ('red', 'green', 'blue', 'yellow')."
      ],
      "metadata": {
        "id": "sc_iJoJtNs5n"
      }
    },
    {
      "cell_type": "code",
      "source": [
        "tup=(\"red\",\"green\",\"blue\",\"yellow\")\n",
        "print(tup[-2])"
      ],
      "metadata": {
        "colab": {
          "base_uri": "https://localhost:8080/"
        },
        "id": "28Lm0redNyRD",
        "outputId": "a30c2d87-542e-49c0-beb7-a6f9341b82b3"
      },
      "execution_count": 21,
      "outputs": [
        {
          "output_type": "stream",
          "name": "stdout",
          "text": [
            "blue\n"
          ]
        }
      ]
    },
    {
      "cell_type": "markdown",
      "source": [
        "### 13. Write a code to find the minimum number in the tuple (10, 20, 5, 15)."
      ],
      "metadata": {
        "id": "Atj45z17Od8r"
      }
    },
    {
      "cell_type": "code",
      "source": [
        "tup=(10,20,5,15)\n",
        "print(min(tup))"
      ],
      "metadata": {
        "colab": {
          "base_uri": "https://localhost:8080/"
        },
        "id": "b7y00Fc0Oowj",
        "outputId": "5fd8ea78-f305-4c92-8ea4-5d42e9aa7252"
      },
      "execution_count": 22,
      "outputs": [
        {
          "output_type": "stream",
          "name": "stdout",
          "text": [
            "5\n"
          ]
        }
      ]
    },
    {
      "cell_type": "markdown",
      "source": [
        "### 14. Write a code to find the index of the element \"cat\" in the tuple ('dog', 'cat', 'rabbit')."
      ],
      "metadata": {
        "id": "31jfC149Q5Dh"
      }
    },
    {
      "cell_type": "code",
      "source": [
        "tup=('dog','cat','rabbit')\n",
        "print(tup.index('cat'))"
      ],
      "metadata": {
        "colab": {
          "base_uri": "https://localhost:8080/"
        },
        "id": "yNJ1ewsIQ-xx",
        "outputId": "84a388b7-8e2b-483d-8365-ec285e8660fb"
      },
      "execution_count": 23,
      "outputs": [
        {
          "output_type": "stream",
          "name": "stdout",
          "text": [
            "1\n"
          ]
        }
      ]
    },
    {
      "cell_type": "markdown",
      "source": [
        "###15.Write a code to create a tuple containing three different fruits and check if \"kiwi\" is in it."
      ],
      "metadata": {
        "id": "mWMiiAA-RQta"
      }
    },
    {
      "cell_type": "code",
      "source": [
        "fruit=(\"apple\",\"banana\",\"kiwi\")\n",
        "print(\"kiwi\"in fruit)\n"
      ],
      "metadata": {
        "colab": {
          "base_uri": "https://localhost:8080/"
        },
        "id": "xGPdTD4rRYO6",
        "outputId": "96aa4a3f-c858-4084-cbcb-43fb36ff23d3"
      },
      "execution_count": 26,
      "outputs": [
        {
          "output_type": "stream",
          "name": "stdout",
          "text": [
            "True\n"
          ]
        }
      ]
    },
    {
      "cell_type": "markdown",
      "source": [
        "### 16. Write a code to create a set with the elements 'a', 'b', 'c' and print it."
      ],
      "metadata": {
        "id": "Nt8PmPiGR5i5"
      }
    },
    {
      "cell_type": "code",
      "source": [
        "set={\"a\",\"b\",\"c\"}\n",
        "print(set)"
      ],
      "metadata": {
        "colab": {
          "base_uri": "https://localhost:8080/"
        },
        "id": "kRTW2ioNSGqb",
        "outputId": "ae62f59a-e856-47e3-a592-c9fbc32fd109"
      },
      "execution_count": 27,
      "outputs": [
        {
          "output_type": "stream",
          "name": "stdout",
          "text": [
            "{'b', 'c', 'a'}\n"
          ]
        }
      ]
    },
    {
      "cell_type": "markdown",
      "source": [
        "### 17.Write a code to clear all elements from the set {1, 2, 3, 4, 5}."
      ],
      "metadata": {
        "id": "06LdLqm-SRP9"
      }
    },
    {
      "cell_type": "code",
      "source": [
        "set={1,2,3,4,5}\n",
        "set.clear()\n",
        "print(set)"
      ],
      "metadata": {
        "colab": {
          "base_uri": "https://localhost:8080/"
        },
        "id": "qPkcVoCmSX9m",
        "outputId": "1be9df3e-9873-44ef-db49-a232b7ee113c"
      },
      "execution_count": 28,
      "outputs": [
        {
          "output_type": "stream",
          "name": "stdout",
          "text": [
            "set()\n"
          ]
        }
      ]
    },
    {
      "cell_type": "markdown",
      "source": [
        "###18. Write a code to remove the element 4 from the set {1, 2, 3, 4}."
      ],
      "metadata": {
        "id": "HT9obheXSiMQ"
      }
    },
    {
      "cell_type": "code",
      "source": [
        "set={1,2,3,4}\n",
        "set.remove(4)\n",
        "print(set)"
      ],
      "metadata": {
        "colab": {
          "base_uri": "https://localhost:8080/"
        },
        "id": "HPrpVN-pSvu4",
        "outputId": "f355edc4-6c60-4509-d0c7-25329555f298"
      },
      "execution_count": 30,
      "outputs": [
        {
          "output_type": "stream",
          "name": "stdout",
          "text": [
            "{1, 2, 3}\n"
          ]
        }
      ]
    },
    {
      "cell_type": "markdown",
      "source": [
        "### 19. Write a code to find the union of two sets {1, 2, 3} and {3, 4, 5}."
      ],
      "metadata": {
        "id": "SKeIo0gUS5Kl"
      }
    },
    {
      "cell_type": "code",
      "source": [
        "set1={1,2,3}\n",
        "set2={2,4,5}\n",
        "print(set1.union(set2))"
      ],
      "metadata": {
        "colab": {
          "base_uri": "https://localhost:8080/"
        },
        "id": "kbuTtP9VS9gp",
        "outputId": "9a9d64dd-3f51-412b-cfce-e4c7590a6ffd"
      },
      "execution_count": 31,
      "outputs": [
        {
          "output_type": "stream",
          "name": "stdout",
          "text": [
            "{1, 2, 3, 4, 5}\n"
          ]
        }
      ]
    },
    {
      "cell_type": "markdown",
      "source": [
        "### 20. Write a code to find the intersection of two sets {1, 2, 3} and {2, 3, 4}."
      ],
      "metadata": {
        "id": "1F-RTRN9TZE6"
      }
    },
    {
      "cell_type": "code",
      "source": [
        "set1={1 ,2,3}\n",
        "set2={2,3,4}\n",
        "print(set1.intersection(set2))"
      ],
      "metadata": {
        "colab": {
          "base_uri": "https://localhost:8080/"
        },
        "id": "GNNMQJj0ThLs",
        "outputId": "94483981-b1ea-4aea-b544-46f6f3c92a1c"
      },
      "execution_count": 33,
      "outputs": [
        {
          "output_type": "stream",
          "name": "stdout",
          "text": [
            "{2, 3}\n"
          ]
        }
      ]
    },
    {
      "cell_type": "markdown",
      "source": [
        "### 21. Write a code to create a dictionary with the keys \"name\", \"age\", and \"city\", and print it."
      ],
      "metadata": {
        "id": "MnQkVC2iT_33"
      }
    },
    {
      "cell_type": "code",
      "source": [
        "dict={\n",
        "    \"name\": \"Ankita\",\n",
        "    \"age\": \"21\",\n",
        "    \"city\":\"delhi\"\n",
        "}\n",
        "print(type(dict),dict)"
      ],
      "metadata": {
        "colab": {
          "base_uri": "https://localhost:8080/"
        },
        "id": "6IHv_9ieUFfD",
        "outputId": "a67741bd-a741-43ad-cc5e-42e1cdbe2afd"
      },
      "execution_count": 35,
      "outputs": [
        {
          "output_type": "stream",
          "name": "stdout",
          "text": [
            "<class 'dict'> {'name': 'Ankita', 'age': '21', 'city': 'delhi'}\n"
          ]
        }
      ]
    },
    {
      "cell_type": "markdown",
      "source": [
        "### 22. Write a code to add a new key-value pair \"country\": \"USA\" to the dictionary {'name': 'John', 'age': 25}."
      ],
      "metadata": {
        "id": "nJIhon45UiZG"
      }
    },
    {
      "cell_type": "code",
      "source": [
        "dict={\n",
        "    \"name\":\"john\",\n",
        "    \"age\":\"25\"\n",
        "}\n",
        "dict[\"country\"]=[\"USA\"]\n",
        "print(dict)"
      ],
      "metadata": {
        "colab": {
          "base_uri": "https://localhost:8080/"
        },
        "id": "TGgD6HCYUrrI",
        "outputId": "1925d40a-416f-4609-a56b-b338d07e971b"
      },
      "execution_count": 41,
      "outputs": [
        {
          "output_type": "stream",
          "name": "stdout",
          "text": [
            "{'name': 'john', 'age': '25', 'country': ['USA']}\n"
          ]
        }
      ]
    },
    {
      "cell_type": "markdown",
      "source": [
        "### 23. . Write a code to access the value associated with the key \"name\" in the dictionary {'name': 'Alice', 'age': 30}."
      ],
      "metadata": {
        "id": "x6ToY6koVyQD"
      }
    },
    {
      "cell_type": "code",
      "source": [
        "dict={\n",
        "    \"name\":\"alice\",\n",
        "    \"age\":\"30\"\n",
        "}\n",
        "print(dict.get(\"name\"))"
      ],
      "metadata": {
        "colab": {
          "base_uri": "https://localhost:8080/"
        },
        "id": "oCmV5inQV4H1",
        "outputId": "797b7726-d9e0-4c73-c902-7e53d4c38abd"
      },
      "execution_count": 42,
      "outputs": [
        {
          "output_type": "stream",
          "name": "stdout",
          "text": [
            "alice\n"
          ]
        }
      ]
    },
    {
      "cell_type": "markdown",
      "source": [
        "### 24.  Write a code to remove the key \"age\" from the dictionary {'name': 'Bob', 'age': 22, 'city': 'New York'}."
      ],
      "metadata": {
        "id": "Q-vJ0vzTWglf"
      }
    },
    {
      "cell_type": "code",
      "source": [
        "dict={\n",
        "    \"name\":\"Bob\",\n",
        "    \"age\":\"22\",\n",
        "    \"city\":\"New York\"\n",
        "}\n",
        "print(dict.pop(\"age\"))\n",
        "print(dict)"
      ],
      "metadata": {
        "colab": {
          "base_uri": "https://localhost:8080/"
        },
        "id": "czUFjxw4Wlr-",
        "outputId": "0592b721-37f6-4e5b-8fa8-bfab6dbca7aa"
      },
      "execution_count": 50,
      "outputs": [
        {
          "output_type": "stream",
          "name": "stdout",
          "text": [
            "22\n",
            "{'name': 'Bob', 'city': 'New York'}\n"
          ]
        }
      ]
    },
    {
      "cell_type": "markdown",
      "source": [
        "###25. Write a code to check if the key \"city\" exists in the dictionary {'name': 'Alice', 'city': 'Paris'}."
      ],
      "metadata": {
        "id": "H1dXXntJX79K"
      }
    },
    {
      "cell_type": "code",
      "source": [
        "dict={\n",
        "    \"name\":\"Alice\",\n",
        "    \"city\":\"Paris\"\n",
        "}\n",
        "print(\"city\" in dict)"
      ],
      "metadata": {
        "colab": {
          "base_uri": "https://localhost:8080/"
        },
        "id": "CJ44YdSjYBIg",
        "outputId": "047d976e-0e28-4562-fa29-c4ea08ecb152"
      },
      "execution_count": 51,
      "outputs": [
        {
          "output_type": "stream",
          "name": "stdout",
          "text": [
            "True\n"
          ]
        }
      ]
    },
    {
      "cell_type": "markdown",
      "source": [
        "### 26.  Write a code to create a list, a tuple, and a dictionary, and print them all."
      ],
      "metadata": {
        "id": "02lVjdb1YQ4s"
      }
    },
    {
      "cell_type": "code",
      "source": [
        "list=[1,2,\"ankita\",\"delhi\",2.4,2+4j]\n",
        "tup=(1,2,\"ankita\",\"delhi\",2.4,2+4j)\n",
        "dict={\n",
        "    \"name\":\"ankita\",\n",
        "    \"age\":\"21\",\n",
        "    \"city\":\"delhi\"\n",
        "}\n",
        "print(type(list),list)\n",
        "print(type(tup),tup)\n",
        "print(type(dict),dict)"
      ],
      "metadata": {
        "colab": {
          "base_uri": "https://localhost:8080/"
        },
        "id": "Bp8h3eGTYfii",
        "outputId": "9e7cc9dd-56b6-4d77-ec62-a2f7a0ce76d4"
      },
      "execution_count": 53,
      "outputs": [
        {
          "output_type": "stream",
          "name": "stdout",
          "text": [
            "<class 'list'> [1, 2, 'ankita', 'delhi', 2.4, (2+4j)]\n",
            "<class 'tuple'> (1, 2, 'ankita', 'delhi', 2.4, (2+4j))\n",
            "<class 'dict'> {'name': 'ankita', 'age': '21', 'city': 'delhi'}\n"
          ]
        }
      ]
    },
    {
      "cell_type": "markdown",
      "source": [
        "### 27. Write a code to create a list of 5 random numbers between 1 and 100, sort it in ascending order, and print the\n",
        "result.(replaced)."
      ],
      "metadata": {
        "id": "1n-GzmqmZhBy"
      }
    },
    {
      "cell_type": "code",
      "source": [
        "import random\n",
        "random=random.sample(range(1,100),5)\n",
        "random.sort()\n",
        "print(random)"
      ],
      "metadata": {
        "colab": {
          "base_uri": "https://localhost:8080/"
        },
        "id": "mF9WLh1zZoSm",
        "outputId": "be462c45-ea9b-4cc4-f5b6-5258d08d824e"
      },
      "execution_count": 63,
      "outputs": [
        {
          "output_type": "stream",
          "name": "stdout",
          "text": [
            "[1, 5, 6, 80, 98]\n"
          ]
        }
      ]
    },
    {
      "cell_type": "markdown",
      "source": [
        "### 28.Write a code to create a list with strings and print the element at the third index."
      ],
      "metadata": {
        "id": "wv2q2DDjcQ8w"
      }
    },
    {
      "cell_type": "code",
      "source": [
        "list=[\"1\",\"ankita\",\"21\",\"delhi\"]\n",
        "print(list[3])"
      ],
      "metadata": {
        "colab": {
          "base_uri": "https://localhost:8080/"
        },
        "id": "dc2zk7_ycWIn",
        "outputId": "de3f8850-a5f9-41d6-a268-85cb41124fe6"
      },
      "execution_count": 64,
      "outputs": [
        {
          "output_type": "stream",
          "name": "stdout",
          "text": [
            "delhi\n"
          ]
        }
      ]
    },
    {
      "cell_type": "markdown",
      "source": [
        "### 29.Write a code to combine two dictionaries into one and print the result."
      ],
      "metadata": {
        "id": "slyiDVtfcyMJ"
      }
    },
    {
      "cell_type": "code",
      "source": [
        "dict1={\n",
        "    \"name\":\"ankita\",\n",
        "    \"age\":\"21\",\n",
        "    \"city\":\"delhi\"\n",
        "}\n",
        "dict2={\n",
        "    \"phy\":\"58\",\n",
        "    \"che\":\"72\",\n",
        "    \"maths\":\"91\"\n",
        "}\n",
        "combine=dict1.copy()\n",
        "combine.update(dict2)\n",
        "print(combine)"
      ],
      "metadata": {
        "colab": {
          "base_uri": "https://localhost:8080/"
        },
        "id": "gg_TQsgNc4Do",
        "outputId": "2bc62a38-aca3-4653-ff9c-b8d77288c312"
      },
      "execution_count": 67,
      "outputs": [
        {
          "output_type": "stream",
          "name": "stdout",
          "text": [
            "{'name': 'ankita', 'age': '21', 'city': 'delhi', 'phy': '58', 'che': '72', 'maths': '91'}\n"
          ]
        }
      ]
    },
    {
      "cell_type": "markdown",
      "source": [
        "### 30. Write a code to convert a list of strings into a set."
      ],
      "metadata": {
        "id": "kfv18Di3eOK9"
      }
    },
    {
      "cell_type": "code",
      "source": [
        "list1=[\"ankita\",\"3+7j\",\"23.4\"]\n",
        "set_word = set(list1)\n",
        "print(set_word)"
      ],
      "metadata": {
        "colab": {
          "base_uri": "https://localhost:8080/",
          "height": 182
        },
        "id": "GLAUAqXaeR7W",
        "outputId": "b128bcb3-a51a-4da3-e666-cb3bc7e9668c"
      },
      "execution_count": 78,
      "outputs": [
        {
          "output_type": "error",
          "ename": "TypeError",
          "evalue": "'set' object is not callable",
          "traceback": [
            "\u001b[0;31m---------------------------------------------------------------------------\u001b[0m",
            "\u001b[0;31mTypeError\u001b[0m                                 Traceback (most recent call last)",
            "\u001b[0;32m<ipython-input-78-7873c8b55f56>\u001b[0m in \u001b[0;36m<cell line: 0>\u001b[0;34m()\u001b[0m\n\u001b[1;32m      1\u001b[0m \u001b[0mlist1\u001b[0m\u001b[0;34m=\u001b[0m\u001b[0;34m[\u001b[0m\u001b[0;34m\"ankita\"\u001b[0m\u001b[0;34m,\u001b[0m\u001b[0;34m\"3+7j\"\u001b[0m\u001b[0;34m,\u001b[0m\u001b[0;34m\"23.4\"\u001b[0m\u001b[0;34m]\u001b[0m\u001b[0;34m\u001b[0m\u001b[0;34m\u001b[0m\u001b[0m\n\u001b[0;32m----> 2\u001b[0;31m \u001b[0mset_word\u001b[0m \u001b[0;34m=\u001b[0m \u001b[0mset\u001b[0m\u001b[0;34m(\u001b[0m\u001b[0mlist1\u001b[0m\u001b[0;34m)\u001b[0m\u001b[0;34m\u001b[0m\u001b[0;34m\u001b[0m\u001b[0m\n\u001b[0m\u001b[1;32m      3\u001b[0m \u001b[0mprint\u001b[0m\u001b[0;34m(\u001b[0m\u001b[0mset_word\u001b[0m\u001b[0;34m)\u001b[0m\u001b[0;34m\u001b[0m\u001b[0;34m\u001b[0m\u001b[0m\n",
            "\u001b[0;31mTypeError\u001b[0m: 'set' object is not callable"
          ]
        }
      ]
    }
  ]
}