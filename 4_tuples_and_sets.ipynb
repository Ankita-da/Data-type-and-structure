{
  "cells": [
    {
      "cell_type": "markdown",
      "metadata": {
        "id": "view-in-github",
        "colab_type": "text"
      },
      "source": [
        "<a href=\"https://colab.research.google.com/github/Ankita-da/Data-type-and-structure/blob/main/4_tuples_and_sets.ipynb\" target=\"_parent\"><img src=\"https://colab.research.google.com/assets/colab-badge.svg\" alt=\"Open In Colab\"/></a>"
      ]
    },
    {
      "cell_type": "code",
      "execution_count": null,
      "id": "2a1f2a0c-793a-454c-8dd0-88b0062c64f1",
      "metadata": {
        "id": "2a1f2a0c-793a-454c-8dd0-88b0062c64f1"
      },
      "outputs": [],
      "source": [
        "#Tuples are ordered collection of elements, heterogenous\n",
        "#Tuples are immutable"
      ]
    },
    {
      "cell_type": "code",
      "execution_count": null,
      "id": "baf75395-b30c-4340-881e-73e73a80091b",
      "metadata": {
        "id": "baf75395-b30c-4340-881e-73e73a80091b"
      },
      "outputs": [],
      "source": [
        "t = ()"
      ]
    },
    {
      "cell_type": "code",
      "execution_count": null,
      "id": "ba34435e-e137-48df-bf00-47fc4a3103c3",
      "metadata": {
        "id": "ba34435e-e137-48df-bf00-47fc4a3103c3",
        "outputId": "3a3251cd-bb84-4692-c26a-0ce2bd471706"
      },
      "outputs": [
        {
          "data": {
            "text/plain": [
              "tuple"
            ]
          },
          "execution_count": 3,
          "metadata": {},
          "output_type": "execute_result"
        }
      ],
      "source": [
        "type(t)"
      ]
    },
    {
      "cell_type": "code",
      "execution_count": null,
      "id": "076d0696-c806-4352-8d6e-54a6839715c4",
      "metadata": {
        "id": "076d0696-c806-4352-8d6e-54a6839715c4"
      },
      "outputs": [],
      "source": [
        "t = (\"pwskills\", \"Ajay\", 2, 2.3, True, 3+5j)"
      ]
    },
    {
      "cell_type": "code",
      "execution_count": null,
      "id": "e11f09fb-e78e-4f1e-9469-bb758313eeca",
      "metadata": {
        "id": "e11f09fb-e78e-4f1e-9469-bb758313eeca",
        "outputId": "1268beeb-7f3d-43ef-af5c-7ae7f3e77a52"
      },
      "outputs": [
        {
          "data": {
            "text/plain": [
              "tuple"
            ]
          },
          "execution_count": 5,
          "metadata": {},
          "output_type": "execute_result"
        }
      ],
      "source": [
        "type(t)"
      ]
    },
    {
      "cell_type": "code",
      "execution_count": null,
      "id": "2235d1c2-ff76-4219-b114-051f96afbe26",
      "metadata": {
        "id": "2235d1c2-ff76-4219-b114-051f96afbe26",
        "outputId": "837130bf-0b27-46aa-e7b0-49d93c634e02"
      },
      "outputs": [
        {
          "data": {
            "text/plain": [
              "'pwskills'"
            ]
          },
          "execution_count": 6,
          "metadata": {},
          "output_type": "execute_result"
        }
      ],
      "source": [
        "t[0]"
      ]
    },
    {
      "cell_type": "code",
      "execution_count": null,
      "id": "a42899d8-1e77-49d8-b6f0-16d2d1405507",
      "metadata": {
        "id": "a42899d8-1e77-49d8-b6f0-16d2d1405507",
        "outputId": "9695416b-98f0-4f2c-dd14-ebac20d0bb40"
      },
      "outputs": [
        {
          "data": {
            "text/plain": [
              "(3+5j)"
            ]
          },
          "execution_count": 7,
          "metadata": {},
          "output_type": "execute_result"
        }
      ],
      "source": [
        "t[-1]"
      ]
    },
    {
      "cell_type": "code",
      "execution_count": null,
      "id": "06f2589e-e14a-463f-a061-419b25986b07",
      "metadata": {
        "id": "06f2589e-e14a-463f-a061-419b25986b07",
        "outputId": "0871045c-3272-4265-9be4-d2ce23d247e8"
      },
      "outputs": [
        {
          "data": {
            "text/plain": [
              "'pwskills'"
            ]
          },
          "execution_count": 8,
          "metadata": {},
          "output_type": "execute_result"
        }
      ],
      "source": [
        "#Tuples are immutable\n",
        "t[0]"
      ]
    },
    {
      "cell_type": "code",
      "execution_count": null,
      "id": "192b53d1-98da-40fe-9676-a6676731246a",
      "metadata": {
        "id": "192b53d1-98da-40fe-9676-a6676731246a",
        "outputId": "256aa15e-36ce-4aab-defd-7ed0e028e61b"
      },
      "outputs": [
        {
          "ename": "TypeError",
          "evalue": "'tuple' object does not support item assignment",
          "output_type": "error",
          "traceback": [
            "\u001b[0;31m---------------------------------------------------------------------------\u001b[0m",
            "\u001b[0;31mTypeError\u001b[0m                                 Traceback (most recent call last)",
            "Cell \u001b[0;32mIn[9], line 1\u001b[0m\n\u001b[0;32m----> 1\u001b[0m \u001b[43mt\u001b[49m\u001b[43m[\u001b[49m\u001b[38;5;241;43m0\u001b[39;49m\u001b[43m]\u001b[49m \u001b[38;5;241m=\u001b[39m \u001b[38;5;241m100\u001b[39m\n",
            "\u001b[0;31mTypeError\u001b[0m: 'tuple' object does not support item assignment"
          ]
        }
      ],
      "source": [
        "t[0] = 100"
      ]
    },
    {
      "cell_type": "code",
      "execution_count": null,
      "id": "75c669c8-9f42-41be-823c-aa4b0bedff95",
      "metadata": {
        "id": "75c669c8-9f42-41be-823c-aa4b0bedff95",
        "outputId": "b58a4565-3166-408f-ca66-b50909ca2302"
      },
      "outputs": [
        {
          "ename": "TypeError",
          "evalue": "'tuple' object does not support item assignment",
          "output_type": "error",
          "traceback": [
            "\u001b[0;31m---------------------------------------------------------------------------\u001b[0m",
            "\u001b[0;31mTypeError\u001b[0m                                 Traceback (most recent call last)",
            "Cell \u001b[0;32mIn[10], line 2\u001b[0m\n\u001b[1;32m      1\u001b[0m empid \u001b[38;5;241m=\u001b[39m (\u001b[38;5;241m1\u001b[39m, \u001b[38;5;241m2\u001b[39m, \u001b[38;5;241m3\u001b[39m, \u001b[38;5;241m4\u001b[39m, \u001b[38;5;241m5\u001b[39m)\n\u001b[0;32m----> 2\u001b[0m \u001b[43mempid\u001b[49m\u001b[43m[\u001b[49m\u001b[38;5;241;43m1\u001b[39;49m\u001b[43m]\u001b[49m \u001b[38;5;241m=\u001b[39m \u001b[38;5;241m100\u001b[39m\n",
            "\u001b[0;31mTypeError\u001b[0m: 'tuple' object does not support item assignment"
          ]
        }
      ],
      "source": [
        "#use> use tuples as a data structure where you dont want to modify the data\n",
        "empid = (1, 2, 3, 4, 5)\n",
        "empid[1] = 100"
      ]
    },
    {
      "cell_type": "code",
      "execution_count": null,
      "id": "b833e7dc-c8fe-46f8-884e-48fee33d630f",
      "metadata": {
        "id": "b833e7dc-c8fe-46f8-884e-48fee33d630f",
        "outputId": "7e317f75-f581-4f14-99dc-e5251e549930"
      },
      "outputs": [
        {
          "data": {
            "text/plain": [
              "3"
            ]
          },
          "execution_count": 13,
          "metadata": {},
          "output_type": "execute_result"
        }
      ],
      "source": [
        "tuple1 = (\"pwskills\", 1, 1, 1, 2, 2, \"pwskills\", 2.2)\n",
        "tuple1.count(1)"
      ]
    },
    {
      "cell_type": "code",
      "execution_count": null,
      "id": "8cba0869-478f-4787-82f3-3beffe1894a4",
      "metadata": {
        "id": "8cba0869-478f-4787-82f3-3beffe1894a4",
        "outputId": "0cd426d4-a3ba-4c44-cade-eede50f091dd"
      },
      "outputs": [
        {
          "data": {
            "text/plain": [
              "2"
            ]
          },
          "execution_count": 14,
          "metadata": {},
          "output_type": "execute_result"
        }
      ],
      "source": [
        "tuple1.count(\"pwskills\")"
      ]
    },
    {
      "cell_type": "code",
      "execution_count": null,
      "id": "31804375-c672-44c4-b673-f3e52dc99eca",
      "metadata": {
        "id": "31804375-c672-44c4-b673-f3e52dc99eca",
        "outputId": "9ea7d788-3b60-41c8-b688-b5fbb3c43baa"
      },
      "outputs": [
        {
          "data": {
            "text/plain": [
              "0"
            ]
          },
          "execution_count": 15,
          "metadata": {},
          "output_type": "execute_result"
        }
      ],
      "source": [
        "tuple1.index(\"pwskills\")"
      ]
    },
    {
      "cell_type": "code",
      "execution_count": null,
      "id": "65233aed-0a2c-4e3f-b40c-c9ec2ee7ae5d",
      "metadata": {
        "id": "65233aed-0a2c-4e3f-b40c-c9ec2ee7ae5d",
        "outputId": "b8ec997c-c7e6-4667-8d45-3a8ebdab04cb"
      },
      "outputs": [
        {
          "name": "stdout",
          "output_type": "stream",
          "text": [
            "('pwskills', 1, 1, 1, 2, 2, 'pwskills', 2.2, 'pwskills', 1, 1, 1, 2, 2, 'pwskills', 2.2)\n"
          ]
        }
      ],
      "source": [
        "print(tuple1*2)"
      ]
    },
    {
      "cell_type": "code",
      "execution_count": null,
      "id": "14163e5d-f763-49d2-8299-4a1f746877e8",
      "metadata": {
        "id": "14163e5d-f763-49d2-8299-4a1f746877e8",
        "outputId": "7b275b0e-7bd1-4a30-b8e0-1ee1176d6c6b"
      },
      "outputs": [
        {
          "data": {
            "text/plain": [
              "('pwskills', 1, 1, 1, 2, 2, 'pwskills', 2.2)"
            ]
          },
          "execution_count": 17,
          "metadata": {},
          "output_type": "execute_result"
        }
      ],
      "source": [
        "tuple1"
      ]
    },
    {
      "cell_type": "code",
      "execution_count": null,
      "id": "b20cc15e-6fc5-4d26-a638-fe164a75f54d",
      "metadata": {
        "id": "b20cc15e-6fc5-4d26-a638-fe164a75f54d",
        "outputId": "00a922b9-5d6c-4669-eb71-017145569d9e"
      },
      "outputs": [
        {
          "data": {
            "text/plain": [
              "('pwskills', 1, 1, 1)"
            ]
          },
          "execution_count": 18,
          "metadata": {},
          "output_type": "execute_result"
        }
      ],
      "source": [
        "tuple1[0:4]"
      ]
    },
    {
      "cell_type": "code",
      "execution_count": null,
      "id": "46c99e55-7a77-4dd8-af69-cd0993808802",
      "metadata": {
        "id": "46c99e55-7a77-4dd8-af69-cd0993808802",
        "outputId": "e6bf1e8f-6a6d-47fb-f04c-a56f5f772a7f"
      },
      "outputs": [
        {
          "data": {
            "text/plain": [
              "(2.2, 'pwskills', 2, 2, 1, 1, 1, 'pwskills')"
            ]
          },
          "execution_count": 19,
          "metadata": {},
          "output_type": "execute_result"
        }
      ],
      "source": [
        "tuple1[::-1]"
      ]
    },
    {
      "cell_type": "code",
      "execution_count": null,
      "id": "c1d404d0-711f-4dd2-939c-5aff55cd2d08",
      "metadata": {
        "id": "c1d404d0-711f-4dd2-939c-5aff55cd2d08",
        "outputId": "33b353e0-1e6e-44e1-aed1-f43493c7a620"
      },
      "outputs": [
        {
          "name": "stdout",
          "output_type": "stream",
          "text": [
            "pwskills <class 'str'>\n",
            "1 <class 'int'>\n",
            "1 <class 'int'>\n",
            "1 <class 'int'>\n",
            "2 <class 'int'>\n",
            "2 <class 'int'>\n",
            "pwskills <class 'str'>\n",
            "2.2 <class 'float'>\n"
          ]
        }
      ],
      "source": [
        "for i in tuple1:\n",
        "    print(i, type(i))"
      ]
    },
    {
      "cell_type": "code",
      "execution_count": null,
      "id": "fe5dd35c-6bb4-48ca-bb29-438cfacb6585",
      "metadata": {
        "id": "fe5dd35c-6bb4-48ca-bb29-438cfacb6585",
        "outputId": "94fbf44b-2f49-4d8d-95f7-55c546e09252"
      },
      "outputs": [
        {
          "data": {
            "text/plain": [
              "200"
            ]
          },
          "execution_count": 22,
          "metadata": {},
          "output_type": "execute_result"
        }
      ],
      "source": [
        "t1 = (1, 2, 100, 0, 200)\n",
        "max(t1)"
      ]
    },
    {
      "cell_type": "code",
      "execution_count": null,
      "id": "4d2a4015-5c2f-465f-a9e9-b5659ecd6127",
      "metadata": {
        "id": "4d2a4015-5c2f-465f-a9e9-b5659ecd6127",
        "outputId": "e11e9061-c0e1-4247-82bf-6735f2ce9324"
      },
      "outputs": [
        {
          "data": {
            "text/plain": [
              "0"
            ]
          },
          "execution_count": 23,
          "metadata": {},
          "output_type": "execute_result"
        }
      ],
      "source": [
        "min(t1)"
      ]
    },
    {
      "cell_type": "code",
      "execution_count": null,
      "id": "f906052c-1ee0-41df-8cff-cac0b13aac96",
      "metadata": {
        "id": "f906052c-1ee0-41df-8cff-cac0b13aac96"
      },
      "outputs": [],
      "source": [
        "t2 = (101, 201)"
      ]
    },
    {
      "cell_type": "code",
      "execution_count": null,
      "id": "9070ee3f-93e8-432a-81fa-154ea6b05e14",
      "metadata": {
        "id": "9070ee3f-93e8-432a-81fa-154ea6b05e14",
        "outputId": "111cbd24-d6f1-41db-a0b8-ea5b300306e4"
      },
      "outputs": [
        {
          "data": {
            "text/plain": [
              "(101, 201)"
            ]
          },
          "execution_count": 25,
          "metadata": {},
          "output_type": "execute_result"
        }
      ],
      "source": [
        "t2"
      ]
    },
    {
      "cell_type": "code",
      "execution_count": null,
      "id": "7fea7dcc-d698-4677-888f-cc06ac2867f6",
      "metadata": {
        "id": "7fea7dcc-d698-4677-888f-cc06ac2867f6",
        "outputId": "8fc55bfb-2f85-4031-9f4e-a15dcfad71dc"
      },
      "outputs": [
        {
          "data": {
            "text/plain": [
              "(1, 2, 100, 0, 200)"
            ]
          },
          "execution_count": 26,
          "metadata": {},
          "output_type": "execute_result"
        }
      ],
      "source": [
        "t1"
      ]
    },
    {
      "cell_type": "code",
      "execution_count": null,
      "id": "ba9deed6-6852-4997-a29b-965814849f3e",
      "metadata": {
        "id": "ba9deed6-6852-4997-a29b-965814849f3e"
      },
      "outputs": [],
      "source": [
        "t3 = (t1, t2) #nested tuples"
      ]
    },
    {
      "cell_type": "code",
      "execution_count": null,
      "id": "4cde98f6-af86-4793-8626-754dc70b5a33",
      "metadata": {
        "id": "4cde98f6-af86-4793-8626-754dc70b5a33",
        "outputId": "c6bdf8d2-05be-415f-8f73-eb8b705b12be"
      },
      "outputs": [
        {
          "data": {
            "text/plain": [
              "((1, 2, 100, 0, 200), (101, 201))"
            ]
          },
          "execution_count": 28,
          "metadata": {},
          "output_type": "execute_result"
        }
      ],
      "source": [
        "t3"
      ]
    },
    {
      "cell_type": "code",
      "execution_count": null,
      "id": "46668569-a172-4673-a9a3-a7199715b9b5",
      "metadata": {
        "id": "46668569-a172-4673-a9a3-a7199715b9b5",
        "outputId": "7d66992d-3f7b-4f55-9331-21cab66138ea"
      },
      "outputs": [
        {
          "data": {
            "text/plain": [
              "tuple"
            ]
          },
          "execution_count": 29,
          "metadata": {},
          "output_type": "execute_result"
        }
      ],
      "source": [
        "type(t3)"
      ]
    },
    {
      "cell_type": "code",
      "execution_count": null,
      "id": "7ed4f6d3-7df4-447b-8350-8330fefb0468",
      "metadata": {
        "id": "7ed4f6d3-7df4-447b-8350-8330fefb0468"
      },
      "outputs": [],
      "source": [
        "del t3"
      ]
    },
    {
      "cell_type": "code",
      "execution_count": null,
      "id": "4fdbd2f6-defa-475b-b2f1-75afb413f37f",
      "metadata": {
        "id": "4fdbd2f6-defa-475b-b2f1-75afb413f37f",
        "outputId": "aff11af1-1917-4fb8-ca9b-b7258d49b39b"
      },
      "outputs": [
        {
          "ename": "NameError",
          "evalue": "name 't3' is not defined",
          "output_type": "error",
          "traceback": [
            "\u001b[0;31m---------------------------------------------------------------------------\u001b[0m",
            "\u001b[0;31mNameError\u001b[0m                                 Traceback (most recent call last)",
            "Cell \u001b[0;32mIn[32], line 1\u001b[0m\n\u001b[0;32m----> 1\u001b[0m \u001b[43mt3\u001b[49m\n",
            "\u001b[0;31mNameError\u001b[0m: name 't3' is not defined"
          ]
        }
      ],
      "source": [
        "t3\n"
      ]
    },
    {
      "cell_type": "code",
      "execution_count": null,
      "id": "67cf34e8-1344-4d6b-9ff0-10de50a71bdb",
      "metadata": {
        "id": "67cf34e8-1344-4d6b-9ff0-10de50a71bdb",
        "outputId": "377f537b-ba91-4560-87f3-4b95953302c4"
      },
      "outputs": [
        {
          "data": {
            "text/plain": [
              "5"
            ]
          },
          "execution_count": 34,
          "metadata": {},
          "output_type": "execute_result"
        }
      ],
      "source": [
        "len(t1)"
      ]
    },
    {
      "cell_type": "code",
      "execution_count": null,
      "id": "9b6a30f0-a372-4c31-8945-6da58c8a9cdc",
      "metadata": {
        "id": "9b6a30f0-a372-4c31-8945-6da58c8a9cdc",
        "outputId": "2911a017-a05f-47f7-859c-f294ed7d6795"
      },
      "outputs": [
        {
          "data": {
            "text/plain": [
              "(1, 2, 100, 0, 200)"
            ]
          },
          "execution_count": 35,
          "metadata": {},
          "output_type": "execute_result"
        }
      ],
      "source": [
        "t1"
      ]
    },
    {
      "cell_type": "code",
      "execution_count": null,
      "id": "a93d7855-7b1f-4f54-bcc1-03ee0b8f8441",
      "metadata": {
        "id": "a93d7855-7b1f-4f54-bcc1-03ee0b8f8441",
        "outputId": "1865da25-ea23-487e-b9ca-b1b7b074230e"
      },
      "outputs": [
        {
          "data": {
            "text/plain": [
              "True"
            ]
          },
          "execution_count": 36,
          "metadata": {},
          "output_type": "execute_result"
        }
      ],
      "source": [
        "1 in t1"
      ]
    },
    {
      "cell_type": "code",
      "execution_count": null,
      "id": "0d11c85c-dcca-4ae5-91d8-f6eed1d1e3d0",
      "metadata": {
        "id": "0d11c85c-dcca-4ae5-91d8-f6eed1d1e3d0",
        "outputId": "084223b1-ed57-4506-a326-d678fa062cc7"
      },
      "outputs": [
        {
          "data": {
            "text/plain": [
              "True"
            ]
          },
          "execution_count": 38,
          "metadata": {},
          "output_type": "execute_result"
        }
      ],
      "source": [
        "'pwskills' in tuple1"
      ]
    },
    {
      "cell_type": "code",
      "execution_count": null,
      "id": "abf62c2b-9ea4-42ab-b327-f31219321916",
      "metadata": {
        "id": "abf62c2b-9ea4-42ab-b327-f31219321916",
        "outputId": "efe34f01-5959-4e1f-cdc1-dab66cbc85a9"
      },
      "outputs": [
        {
          "data": {
            "text/plain": [
              "False"
            ]
          },
          "execution_count": 39,
          "metadata": {},
          "output_type": "execute_result"
        }
      ],
      "source": [
        "'pwskills' not in tuple1"
      ]
    },
    {
      "cell_type": "code",
      "execution_count": null,
      "id": "b2e17330-c798-4264-929d-797771562b54",
      "metadata": {
        "id": "b2e17330-c798-4264-929d-797771562b54",
        "outputId": "4d91a87b-66d7-4108-992d-5ed8a849d6ea"
      },
      "outputs": [
        {
          "data": {
            "text/plain": [
              "(1, 2, 100, 0, 200)"
            ]
          },
          "execution_count": 40,
          "metadata": {},
          "output_type": "execute_result"
        }
      ],
      "source": [
        "t1"
      ]
    },
    {
      "cell_type": "code",
      "execution_count": null,
      "id": "938e3784-c752-49cc-b91d-b0b7ab6cc63e",
      "metadata": {
        "id": "938e3784-c752-49cc-b91d-b0b7ab6cc63e",
        "outputId": "f56f3fe5-6616-4068-9240-87e714f522c7"
      },
      "outputs": [
        {
          "data": {
            "text/plain": [
              "(101, 201)"
            ]
          },
          "execution_count": 41,
          "metadata": {},
          "output_type": "execute_result"
        }
      ],
      "source": [
        "t2"
      ]
    },
    {
      "cell_type": "code",
      "execution_count": null,
      "id": "a9664a0b-ddcb-429c-a57c-d335b9829daf",
      "metadata": {
        "id": "a9664a0b-ddcb-429c-a57c-d335b9829daf",
        "outputId": "1df30f9f-c388-4864-96b2-dd4c4632edeb"
      },
      "outputs": [
        {
          "data": {
            "text/plain": [
              "(1, 2, 100, 0, 200, 101, 201)"
            ]
          },
          "execution_count": 42,
          "metadata": {},
          "output_type": "execute_result"
        }
      ],
      "source": [
        "#combine both the tuples\n",
        "t1+t2"
      ]
    },
    {
      "cell_type": "code",
      "execution_count": null,
      "id": "143dba5a-3aae-4767-a948-66c9d11816ef",
      "metadata": {
        "id": "143dba5a-3aae-4767-a948-66c9d11816ef"
      },
      "outputs": [],
      "source": [
        "#sets>>sets are unordered and unique collection of elements\n",
        "#doesn't alllow duplicate elements\n",
        "#unordered>> indexing will not work"
      ]
    },
    {
      "cell_type": "code",
      "execution_count": null,
      "id": "d6b9f5d6-ae8d-4f6c-a869-e061a30b8bf7",
      "metadata": {
        "id": "d6b9f5d6-ae8d-4f6c-a869-e061a30b8bf7",
        "outputId": "316f0c22-4ade-40c3-bc0f-1e9d34c3b83d"
      },
      "outputs": [
        {
          "data": {
            "text/plain": [
              "dict"
            ]
          },
          "execution_count": 44,
          "metadata": {},
          "output_type": "execute_result"
        }
      ],
      "source": [
        "s = {}\n",
        "type(s)"
      ]
    },
    {
      "cell_type": "code",
      "execution_count": null,
      "id": "f9c12e6e-3285-4fc9-a6e1-727dce957887",
      "metadata": {
        "id": "f9c12e6e-3285-4fc9-a6e1-727dce957887",
        "outputId": "14f04798-9616-4d92-81a2-c0eac8f7ee8a"
      },
      "outputs": [
        {
          "data": {
            "text/plain": [
              "set"
            ]
          },
          "execution_count": 45,
          "metadata": {},
          "output_type": "execute_result"
        }
      ],
      "source": [
        "s = {1}\n",
        "type(s)"
      ]
    },
    {
      "cell_type": "code",
      "execution_count": null,
      "id": "6fede6ea-907a-4400-9008-ea304a277f0e",
      "metadata": {
        "id": "6fede6ea-907a-4400-9008-ea304a277f0e"
      },
      "outputs": [],
      "source": [
        "s = {1, 2, 3, 4}"
      ]
    },
    {
      "cell_type": "code",
      "execution_count": null,
      "id": "48e4d464-ec14-45a9-8e98-1a971153859d",
      "metadata": {
        "id": "48e4d464-ec14-45a9-8e98-1a971153859d",
        "outputId": "aae81370-8238-4433-c507-804fe9a6d319"
      },
      "outputs": [
        {
          "data": {
            "text/plain": [
              "set"
            ]
          },
          "execution_count": 47,
          "metadata": {},
          "output_type": "execute_result"
        }
      ],
      "source": [
        "type(s)"
      ]
    },
    {
      "cell_type": "code",
      "execution_count": null,
      "id": "f299d51d-a51a-4788-afd9-22e58533cdf3",
      "metadata": {
        "id": "f299d51d-a51a-4788-afd9-22e58533cdf3",
        "outputId": "9b0c23ed-3ecc-448c-e36b-0615406d5db8"
      },
      "outputs": [
        {
          "data": {
            "text/plain": [
              "{1, 2, 'Ajay', 'ajay'}"
            ]
          },
          "execution_count": 49,
          "metadata": {},
          "output_type": "execute_result"
        }
      ],
      "source": [
        "s = {1, 2, 1, 2, 2, \"Ajay\", \"Ajay\", \"Ajay\", \"ajay\", \"ajay\"}\n",
        "s"
      ]
    },
    {
      "cell_type": "code",
      "execution_count": null,
      "id": "a0b242ad-6df9-4cf0-bdf2-f0f991d1ef91",
      "metadata": {
        "id": "a0b242ad-6df9-4cf0-bdf2-f0f991d1ef91"
      },
      "outputs": [],
      "source": [
        "#use case\n",
        "list1 = [1, 2, 3, \"Brinjal\", \"Brinjal\", \"Apple\", \"Apple\"]\n",
        "s = set(list1)"
      ]
    },
    {
      "cell_type": "code",
      "execution_count": null,
      "id": "499d14fc-fb15-484f-9477-62574a6f551d",
      "metadata": {
        "id": "499d14fc-fb15-484f-9477-62574a6f551d",
        "outputId": "79985767-21b5-4e3a-d825-961faf98f34d"
      },
      "outputs": [
        {
          "data": {
            "text/plain": [
              "{1, 2, 3, 'Apple', 'Brinjal'}"
            ]
          },
          "execution_count": 52,
          "metadata": {},
          "output_type": "execute_result"
        }
      ],
      "source": [
        "s"
      ]
    },
    {
      "cell_type": "code",
      "execution_count": null,
      "id": "3bf22bfd-7b9f-4b9b-888c-3d1054e29c55",
      "metadata": {
        "id": "3bf22bfd-7b9f-4b9b-888c-3d1054e29c55"
      },
      "outputs": [],
      "source": [
        "list1 = list(s)"
      ]
    },
    {
      "cell_type": "code",
      "execution_count": null,
      "id": "9929a390-8309-4ddf-a174-74353e8092ef",
      "metadata": {
        "id": "9929a390-8309-4ddf-a174-74353e8092ef",
        "outputId": "6e3e00ba-f623-42da-8d29-084044abf6e4"
      },
      "outputs": [
        {
          "data": {
            "text/plain": [
              "[1, 2, 3, 'Brinjal', 'Apple']"
            ]
          },
          "execution_count": 54,
          "metadata": {},
          "output_type": "execute_result"
        }
      ],
      "source": [
        "list1"
      ]
    },
    {
      "cell_type": "code",
      "execution_count": null,
      "id": "cb4f6807-5ab9-4235-bdb2-81699a5791b2",
      "metadata": {
        "id": "cb4f6807-5ab9-4235-bdb2-81699a5791b2",
        "outputId": "81830027-3f63-4d8c-b964-881a88a1c907"
      },
      "outputs": [
        {
          "ename": "TypeError",
          "evalue": "'set' object is not subscriptable",
          "output_type": "error",
          "traceback": [
            "\u001b[0;31m---------------------------------------------------------------------------\u001b[0m",
            "\u001b[0;31mTypeError\u001b[0m                                 Traceback (most recent call last)",
            "Cell \u001b[0;32mIn[56], line 1\u001b[0m\n\u001b[0;32m----> 1\u001b[0m \u001b[43ms\u001b[49m\u001b[43m[\u001b[49m\u001b[38;5;241;43m0\u001b[39;49m\u001b[43m]\u001b[49m\n",
            "\u001b[0;31mTypeError\u001b[0m: 'set' object is not subscriptable"
          ]
        }
      ],
      "source": [
        "s[0]"
      ]
    },
    {
      "cell_type": "code",
      "execution_count": null,
      "id": "d187eafb-244f-429c-a7e7-f66fcef61e86",
      "metadata": {
        "id": "d187eafb-244f-429c-a7e7-f66fcef61e86",
        "outputId": "3cf1e55a-374e-4702-abd6-325204b4f774"
      },
      "outputs": [
        {
          "ename": "TypeError",
          "evalue": "'set' object is not subscriptable",
          "output_type": "error",
          "traceback": [
            "\u001b[0;31m---------------------------------------------------------------------------\u001b[0m",
            "\u001b[0;31mTypeError\u001b[0m                                 Traceback (most recent call last)",
            "Cell \u001b[0;32mIn[57], line 1\u001b[0m\n\u001b[0;32m----> 1\u001b[0m \u001b[43ms\u001b[49m\u001b[43m[\u001b[49m\u001b[38;5;241;43m1\u001b[39;49m\u001b[43m]\u001b[49m\n",
            "\u001b[0;31mTypeError\u001b[0m: 'set' object is not subscriptable"
          ]
        }
      ],
      "source": [
        "s[1]"
      ]
    },
    {
      "cell_type": "code",
      "execution_count": null,
      "id": "cb48aa50-ef9a-4321-a8f9-bb4e521c0ed6",
      "metadata": {
        "id": "cb48aa50-ef9a-4321-a8f9-bb4e521c0ed6",
        "outputId": "ad310d22-fd34-4a82-dc95-5850e8a0332b"
      },
      "outputs": [
        {
          "data": {
            "text/plain": [
              "{1, 2, 3, 4}"
            ]
          },
          "execution_count": 58,
          "metadata": {},
          "output_type": "execute_result"
        }
      ],
      "source": [
        "s = {1, 1, 2, 2, 3, 4}\n",
        "s"
      ]
    },
    {
      "cell_type": "code",
      "execution_count": null,
      "id": "751fb04c-ed72-4ef0-bbb1-8c615b0dc27d",
      "metadata": {
        "id": "751fb04c-ed72-4ef0-bbb1-8c615b0dc27d",
        "outputId": "33e342a5-8e05-4828-f835-2fd283567895"
      },
      "outputs": [
        {
          "ename": "TypeError",
          "evalue": "unhashable type: 'set'",
          "output_type": "error",
          "traceback": [
            "\u001b[0;31m---------------------------------------------------------------------------\u001b[0m",
            "\u001b[0;31mTypeError\u001b[0m                                 Traceback (most recent call last)",
            "Cell \u001b[0;32mIn[61], line 1\u001b[0m\n\u001b[0;32m----> 1\u001b[0m s \u001b[38;5;241m=\u001b[39m {\u001b[38;5;241m1\u001b[39m, \u001b[38;5;241m2\u001b[39m, \u001b[38;5;241m3\u001b[39m, \u001b[38;5;241m4\u001b[39m, \u001b[38;5;241m5\u001b[39m, {\u001b[38;5;241m4\u001b[39m, \u001b[38;5;241m5\u001b[39m, \u001b[38;5;241m6\u001b[39m}} \u001b[38;5;66;03m#unhashable type>>it is mutable-list, set\u001b[39;00m\n",
            "\u001b[0;31mTypeError\u001b[0m: unhashable type: 'set'"
          ]
        }
      ],
      "source": [
        "s = {1, 2, 3, 4, 5, {4, 5, 6}} #unhashable type>>it is mutable-list, set\n",
        "#immutable data structure has a stable hash values like tuples"
      ]
    },
    {
      "cell_type": "code",
      "execution_count": null,
      "id": "1e6d28a6-bea7-4397-9223-ed40dbb940ee",
      "metadata": {
        "id": "1e6d28a6-bea7-4397-9223-ed40dbb940ee",
        "outputId": "ed19f636-20af-4054-f48c-af10abab9d0a"
      },
      "outputs": [
        {
          "ename": "TypeError",
          "evalue": "unhashable type: 'list'",
          "output_type": "error",
          "traceback": [
            "\u001b[0;31m---------------------------------------------------------------------------\u001b[0m",
            "\u001b[0;31mTypeError\u001b[0m                                 Traceback (most recent call last)",
            "Cell \u001b[0;32mIn[62], line 1\u001b[0m\n\u001b[0;32m----> 1\u001b[0m {\u001b[38;5;241m1\u001b[39m, \u001b[38;5;241m2\u001b[39m, \u001b[38;5;241m3\u001b[39m, \u001b[38;5;241m4\u001b[39m, \u001b[38;5;241m5\u001b[39m, [\u001b[38;5;241m4\u001b[39m, \u001b[38;5;241m5\u001b[39m, \u001b[38;5;241m6\u001b[39m]}\n",
            "\u001b[0;31mTypeError\u001b[0m: unhashable type: 'list'"
          ]
        }
      ],
      "source": [
        "{1, 2, 3, 4, 5, [4, 5, 6]}"
      ]
    },
    {
      "cell_type": "code",
      "execution_count": null,
      "id": "361aa9dc-1578-46fc-a583-8df59d0baf01",
      "metadata": {
        "id": "361aa9dc-1578-46fc-a583-8df59d0baf01",
        "outputId": "8fbb45be-c11f-445d-cc06-983d5d185220"
      },
      "outputs": [
        {
          "data": {
            "text/plain": [
              "{(4, 5, 6), 1, 2, 3, 4, 5}"
            ]
          },
          "execution_count": 64,
          "metadata": {},
          "output_type": "execute_result"
        }
      ],
      "source": [
        "{1, 2, 3, 4, 5, (4, 5, 6)} #it didnt throw error, because tuple is immutable>>stable hashtype"
      ]
    },
    {
      "cell_type": "code",
      "execution_count": null,
      "id": "2a7e3098-3465-4fe3-ae17-77e19f76d2a8",
      "metadata": {
        "id": "2a7e3098-3465-4fe3-ae17-77e19f76d2a8",
        "outputId": "0e41f1a2-81cd-46cf-861f-da368b462990"
      },
      "outputs": [
        {
          "ename": "TypeError",
          "evalue": "'set' object is not subscriptable",
          "output_type": "error",
          "traceback": [
            "\u001b[0;31m---------------------------------------------------------------------------\u001b[0m",
            "\u001b[0;31mTypeError\u001b[0m                                 Traceback (most recent call last)",
            "Cell \u001b[0;32mIn[66], line 1\u001b[0m\n\u001b[0;32m----> 1\u001b[0m \u001b[43ms\u001b[49m\u001b[43m[\u001b[49m\u001b[38;5;241;43m0\u001b[39;49m\u001b[43m]\u001b[49m\n",
            "\u001b[0;31mTypeError\u001b[0m: 'set' object is not subscriptable"
          ]
        }
      ],
      "source": [
        "s[0] #not indexed"
      ]
    },
    {
      "cell_type": "code",
      "execution_count": null,
      "id": "19897e0b-f3c6-4a57-90a7-fd6fcc8e3809",
      "metadata": {
        "id": "19897e0b-f3c6-4a57-90a7-fd6fcc8e3809",
        "outputId": "9144d4bc-0a77-444d-832f-772fcbe25051"
      },
      "outputs": [
        {
          "ename": "TypeError",
          "evalue": "'set' object is not subscriptable",
          "output_type": "error",
          "traceback": [
            "\u001b[0;31m---------------------------------------------------------------------------\u001b[0m",
            "\u001b[0;31mTypeError\u001b[0m                                 Traceback (most recent call last)",
            "Cell \u001b[0;32mIn[67], line 1\u001b[0m\n\u001b[0;32m----> 1\u001b[0m \u001b[43ms\u001b[49m\u001b[43m[\u001b[49m\u001b[43m:\u001b[49m\u001b[38;5;241;43m2\u001b[39;49m\u001b[43m]\u001b[49m\n",
            "\u001b[0;31mTypeError\u001b[0m: 'set' object is not subscriptable"
          ]
        }
      ],
      "source": [
        "s[:2]"
      ]
    },
    {
      "cell_type": "code",
      "execution_count": null,
      "id": "9b2428a1-02bb-44b5-a246-31b0b86f2cdb",
      "metadata": {
        "id": "9b2428a1-02bb-44b5-a246-31b0b86f2cdb",
        "outputId": "432889e3-9548-4fc8-af4a-8221ed37b50a"
      },
      "outputs": [
        {
          "name": "stdout",
          "output_type": "stream",
          "text": [
            "1\n",
            "2\n",
            "3\n",
            "4\n"
          ]
        }
      ],
      "source": [
        "for i in s:\n",
        "    print(i)"
      ]
    },
    {
      "cell_type": "code",
      "execution_count": null,
      "id": "68a1cede-0982-4d4f-a15f-d6bbd9a9902d",
      "metadata": {
        "id": "68a1cede-0982-4d4f-a15f-d6bbd9a9902d"
      },
      "outputs": [],
      "source": [
        "#set is mutable\n",
        "s.add(100)"
      ]
    },
    {
      "cell_type": "code",
      "execution_count": null,
      "id": "b6ea6b36-25d6-45e7-b626-05d28a1367d5",
      "metadata": {
        "id": "b6ea6b36-25d6-45e7-b626-05d28a1367d5",
        "outputId": "4e0a271a-7d63-4308-812a-0224f816b805"
      },
      "outputs": [
        {
          "data": {
            "text/plain": [
              "{1, 2, 3, 4, 100}"
            ]
          },
          "execution_count": 71,
          "metadata": {},
          "output_type": "execute_result"
        }
      ],
      "source": [
        "s"
      ]
    },
    {
      "cell_type": "code",
      "execution_count": null,
      "id": "1335b081-8894-4e05-8f2c-b713a9a289ce",
      "metadata": {
        "id": "1335b081-8894-4e05-8f2c-b713a9a289ce"
      },
      "outputs": [],
      "source": [
        "s.add(5) #not compulsory that it will add to the last of set"
      ]
    },
    {
      "cell_type": "code",
      "execution_count": null,
      "id": "674f642c-3675-4376-a393-0a7f16b9cf46",
      "metadata": {
        "id": "674f642c-3675-4376-a393-0a7f16b9cf46",
        "outputId": "1f356f17-fe66-4ddf-8dd2-46ec99e13296"
      },
      "outputs": [
        {
          "data": {
            "text/plain": [
              "{1, 2, 3, 4, 5, 100}"
            ]
          },
          "execution_count": 73,
          "metadata": {},
          "output_type": "execute_result"
        }
      ],
      "source": [
        "s"
      ]
    },
    {
      "cell_type": "code",
      "execution_count": null,
      "id": "367168bd-a705-4807-a3db-aad44be8c546",
      "metadata": {
        "id": "367168bd-a705-4807-a3db-aad44be8c546",
        "outputId": "3ebbaeac-7755-4989-f955-79e09f5dd6a5"
      },
      "outputs": [
        {
          "data": {
            "text/plain": [
              "1"
            ]
          },
          "execution_count": 74,
          "metadata": {},
          "output_type": "execute_result"
        }
      ],
      "source": [
        "s.pop() #it is not compulsory that it will remove the last element"
      ]
    },
    {
      "cell_type": "code",
      "execution_count": null,
      "id": "4f05d096-9dbe-4909-9acb-086c0ea80d03",
      "metadata": {
        "id": "4f05d096-9dbe-4909-9acb-086c0ea80d03"
      },
      "outputs": [],
      "source": [
        "s.remove(3) #removes a spcific element"
      ]
    },
    {
      "cell_type": "code",
      "execution_count": null,
      "id": "3a2aeaef-d7ea-4f97-a0a4-9b46ed4332b3",
      "metadata": {
        "id": "3a2aeaef-d7ea-4f97-a0a4-9b46ed4332b3",
        "outputId": "a825de91-612d-4a0f-ef46-5f04d84f7655"
      },
      "outputs": [
        {
          "data": {
            "text/plain": [
              "{2, 4, 5, 100}"
            ]
          },
          "execution_count": 77,
          "metadata": {},
          "output_type": "execute_result"
        }
      ],
      "source": [
        "s"
      ]
    },
    {
      "cell_type": "code",
      "execution_count": null,
      "id": "a1abf309-3dde-4376-a602-525565a87d62",
      "metadata": {
        "id": "a1abf309-3dde-4376-a602-525565a87d62",
        "outputId": "f1161810-0ea9-43f1-f24a-d3ce52af117d"
      },
      "outputs": [
        {
          "ename": "TypeError",
          "evalue": "set.pop() takes no arguments (1 given)",
          "output_type": "error",
          "traceback": [
            "\u001b[0;31m---------------------------------------------------------------------------\u001b[0m",
            "\u001b[0;31mTypeError\u001b[0m                                 Traceback (most recent call last)",
            "Cell \u001b[0;32mIn[78], line 1\u001b[0m\n\u001b[0;32m----> 1\u001b[0m \u001b[43ms\u001b[49m\u001b[38;5;241;43m.\u001b[39;49m\u001b[43mpop\u001b[49m\u001b[43m(\u001b[49m\u001b[38;5;241;43m4\u001b[39;49m\u001b[43m)\u001b[49m\n",
            "\u001b[0;31mTypeError\u001b[0m: set.pop() takes no arguments (1 given)"
          ]
        }
      ],
      "source": [
        "s.pop(4)#it removes randomly"
      ]
    },
    {
      "cell_type": "code",
      "execution_count": null,
      "id": "a6018f72-6a4b-481b-84bb-14270d0546f4",
      "metadata": {
        "id": "a6018f72-6a4b-481b-84bb-14270d0546f4",
        "outputId": "0be7a9c4-b7e5-4344-dcd1-bb5f75684b30"
      },
      "outputs": [
        {
          "ename": "KeyError",
          "evalue": "102",
          "output_type": "error",
          "traceback": [
            "\u001b[0;31m---------------------------------------------------------------------------\u001b[0m",
            "\u001b[0;31mKeyError\u001b[0m                                  Traceback (most recent call last)",
            "Cell \u001b[0;32mIn[80], line 1\u001b[0m\n\u001b[0;32m----> 1\u001b[0m \u001b[43ms\u001b[49m\u001b[38;5;241;43m.\u001b[39;49m\u001b[43mremove\u001b[49m\u001b[43m(\u001b[49m\u001b[38;5;241;43m102\u001b[39;49m\u001b[43m)\u001b[49m\n",
            "\u001b[0;31mKeyError\u001b[0m: 102"
          ]
        }
      ],
      "source": [
        "s.remove(102)"
      ]
    },
    {
      "cell_type": "code",
      "execution_count": null,
      "id": "357b130c-8799-4814-ae2a-3a84af84c609",
      "metadata": {
        "id": "357b130c-8799-4814-ae2a-3a84af84c609"
      },
      "outputs": [],
      "source": [
        "s.update(\"Ajay\") #updates take iterable"
      ]
    },
    {
      "cell_type": "code",
      "execution_count": null,
      "id": "956218c1-d46f-4d5c-a6f7-9d1f02b3f34d",
      "metadata": {
        "id": "956218c1-d46f-4d5c-a6f7-9d1f02b3f34d",
        "outputId": "2cac61df-82e0-42b4-b41e-334faa180689"
      },
      "outputs": [
        {
          "data": {
            "text/plain": [
              "{100, 2, 4, 5, 'A', 'a', 'j', 'y'}"
            ]
          },
          "execution_count": 83,
          "metadata": {},
          "output_type": "execute_result"
        }
      ],
      "source": [
        "s"
      ]
    },
    {
      "cell_type": "code",
      "execution_count": null,
      "id": "0ed5f9d3-60ba-46ff-aae3-bfe9fd320371",
      "metadata": {
        "id": "0ed5f9d3-60ba-46ff-aae3-bfe9fd320371"
      },
      "outputs": [],
      "source": [
        "s.update([\"Ajay\"])"
      ]
    },
    {
      "cell_type": "code",
      "execution_count": null,
      "id": "7cdad840-71ee-41dd-9b1b-61c483c78ad4",
      "metadata": {
        "id": "7cdad840-71ee-41dd-9b1b-61c483c78ad4",
        "outputId": "b5810cac-d0fc-4167-ea88-dd2a8c9d827a"
      },
      "outputs": [
        {
          "data": {
            "text/plain": [
              "{100, 2, 4, 5, 'A', 'Ajay', 'a', 'j', 'y'}"
            ]
          },
          "execution_count": 85,
          "metadata": {},
          "output_type": "execute_result"
        }
      ],
      "source": [
        "s"
      ]
    },
    {
      "cell_type": "code",
      "execution_count": null,
      "id": "f17f2d65-2632-4406-ba24-eca9f796aaa9",
      "metadata": {
        "id": "f17f2d65-2632-4406-ba24-eca9f796aaa9"
      },
      "outputs": [],
      "source": [
        "s.update([2, 3])"
      ]
    },
    {
      "cell_type": "code",
      "execution_count": null,
      "id": "77ef489d-2319-4ca2-97a0-4456fe872d51",
      "metadata": {
        "id": "77ef489d-2319-4ca2-97a0-4456fe872d51",
        "outputId": "92530722-73b7-4360-d5aa-8360971656d4"
      },
      "outputs": [
        {
          "data": {
            "text/plain": [
              "{100, 2, 3, 4, 5, 'A', 'Ajay', 'a', 'j', 'y'}"
            ]
          },
          "execution_count": 87,
          "metadata": {},
          "output_type": "execute_result"
        }
      ],
      "source": [
        "s"
      ]
    },
    {
      "cell_type": "code",
      "execution_count": null,
      "id": "037325f8-7aee-4300-b760-1f13846aba09",
      "metadata": {
        "id": "037325f8-7aee-4300-b760-1f13846aba09"
      },
      "outputs": [],
      "source": [
        "s = {(1, 2, 3), 100, '2', 3.4}"
      ]
    },
    {
      "cell_type": "code",
      "execution_count": null,
      "id": "c6248786-f86e-4c66-a48a-4a64be7151a9",
      "metadata": {
        "id": "c6248786-f86e-4c66-a48a-4a64be7151a9",
        "outputId": "8f5e0c2e-1693-4dd7-8c91-bf3d66ba9220"
      },
      "outputs": [
        {
          "data": {
            "text/plain": [
              "set"
            ]
          },
          "execution_count": 89,
          "metadata": {},
          "output_type": "execute_result"
        }
      ],
      "source": [
        "type(s)"
      ]
    },
    {
      "cell_type": "code",
      "execution_count": null,
      "id": "8f113dc1-8908-471e-af5d-c0a33a441ea6",
      "metadata": {
        "id": "8f113dc1-8908-471e-af5d-c0a33a441ea6"
      },
      "outputs": [],
      "source": [
        "s.clear()"
      ]
    },
    {
      "cell_type": "code",
      "execution_count": null,
      "id": "05498ab8-e6d2-4fb9-9d5e-b7496b35ad22",
      "metadata": {
        "id": "05498ab8-e6d2-4fb9-9d5e-b7496b35ad22",
        "outputId": "9be8bede-f1c8-4089-ee0f-aff0b96835ac"
      },
      "outputs": [
        {
          "data": {
            "text/plain": [
              "set()"
            ]
          },
          "execution_count": 91,
          "metadata": {},
          "output_type": "execute_result"
        }
      ],
      "source": [
        "s"
      ]
    },
    {
      "cell_type": "code",
      "execution_count": null,
      "id": "f10794ee-f5dd-462c-8190-bcded56c7820",
      "metadata": {
        "id": "f10794ee-f5dd-462c-8190-bcded56c7820"
      },
      "outputs": [],
      "source": [
        "del s"
      ]
    },
    {
      "cell_type": "code",
      "execution_count": null,
      "id": "8938dd9e-be8b-4393-9064-52b4c703aa17",
      "metadata": {
        "id": "8938dd9e-be8b-4393-9064-52b4c703aa17",
        "outputId": "8c5a8bfe-2300-4360-c89c-2a86d812c48a"
      },
      "outputs": [
        {
          "ename": "NameError",
          "evalue": "name 's' is not defined",
          "output_type": "error",
          "traceback": [
            "\u001b[0;31m---------------------------------------------------------------------------\u001b[0m",
            "\u001b[0;31mNameError\u001b[0m                                 Traceback (most recent call last)",
            "Cell \u001b[0;32mIn[93], line 1\u001b[0m\n\u001b[0;32m----> 1\u001b[0m \u001b[43ms\u001b[49m\n",
            "\u001b[0;31mNameError\u001b[0m: name 's' is not defined"
          ]
        }
      ],
      "source": [
        "s"
      ]
    },
    {
      "cell_type": "code",
      "execution_count": null,
      "id": "8adecdbf-21cf-4b41-8d89-cc0a532d62ac",
      "metadata": {
        "id": "8adecdbf-21cf-4b41-8d89-cc0a532d62ac"
      },
      "outputs": [],
      "source": [
        "s = {(1, 2, 3), 100,101, 102, '2', 3.4}\n"
      ]
    },
    {
      "cell_type": "code",
      "execution_count": null,
      "id": "4447dfaf-4ae2-488e-8726-792f83d9f4cc",
      "metadata": {
        "id": "4447dfaf-4ae2-488e-8726-792f83d9f4cc",
        "outputId": "7614c0bf-3d8b-42a6-9fca-62365182e2e3"
      },
      "outputs": [
        {
          "data": {
            "text/plain": [
              "{(1, 2, 3), 100, 101, 102, '2', 3.4}"
            ]
          },
          "execution_count": 95,
          "metadata": {},
          "output_type": "execute_result"
        }
      ],
      "source": [
        "s"
      ]
    },
    {
      "cell_type": "code",
      "execution_count": null,
      "id": "7499c22a-d289-431c-be42-98703c355253",
      "metadata": {
        "id": "7499c22a-d289-431c-be42-98703c355253"
      },
      "outputs": [],
      "source": [
        "s.remove(101)"
      ]
    },
    {
      "cell_type": "code",
      "execution_count": null,
      "id": "405a8202-8fa3-42bf-972d-5823baae5fdf",
      "metadata": {
        "id": "405a8202-8fa3-42bf-972d-5823baae5fdf",
        "outputId": "fa1989cf-ff7f-461b-ab78-2f8ee4dfa353"
      },
      "outputs": [
        {
          "data": {
            "text/plain": [
              "{(1, 2, 3), 100, 102, '2', 3.4}"
            ]
          },
          "execution_count": 97,
          "metadata": {},
          "output_type": "execute_result"
        }
      ],
      "source": [
        "s"
      ]
    },
    {
      "cell_type": "code",
      "execution_count": null,
      "id": "efae5c98-05c2-4d0e-ae9c-cfc8620447ec",
      "metadata": {
        "id": "efae5c98-05c2-4d0e-ae9c-cfc8620447ec",
        "outputId": "aabe8fe5-ab2b-4c3e-ede1-8c6714f954d4"
      },
      "outputs": [
        {
          "ename": "KeyError",
          "evalue": "110",
          "output_type": "error",
          "traceback": [
            "\u001b[0;31m---------------------------------------------------------------------------\u001b[0m",
            "\u001b[0;31mKeyError\u001b[0m                                  Traceback (most recent call last)",
            "Cell \u001b[0;32mIn[98], line 1\u001b[0m\n\u001b[0;32m----> 1\u001b[0m \u001b[43ms\u001b[49m\u001b[38;5;241;43m.\u001b[39;49m\u001b[43mremove\u001b[49m\u001b[43m(\u001b[49m\u001b[38;5;241;43m110\u001b[39;49m\u001b[43m)\u001b[49m\n",
            "\u001b[0;31mKeyError\u001b[0m: 110"
          ]
        }
      ],
      "source": [
        "s.remove(110)#throw an error as 110 is not present"
      ]
    },
    {
      "cell_type": "code",
      "execution_count": null,
      "id": "a34f1dc5-bb11-4b13-96f6-e2955d72ade4",
      "metadata": {
        "id": "a34f1dc5-bb11-4b13-96f6-e2955d72ade4",
        "outputId": "9f6b04d9-dd24-41b4-8f06-6b770ce8f8a4"
      },
      "outputs": [
        {
          "data": {
            "text/plain": [
              "{(1, 2, 3), 100, 102, '2', 3.4}"
            ]
          },
          "execution_count": 99,
          "metadata": {},
          "output_type": "execute_result"
        }
      ],
      "source": [
        "s"
      ]
    },
    {
      "cell_type": "code",
      "execution_count": null,
      "id": "4d74ff21-a9e9-469d-9fe3-4e61805a01fb",
      "metadata": {
        "id": "4d74ff21-a9e9-469d-9fe3-4e61805a01fb"
      },
      "outputs": [],
      "source": [
        "s.discard(100)"
      ]
    },
    {
      "cell_type": "code",
      "execution_count": null,
      "id": "c088d3b8-3d27-49e3-bcf5-bc0a775c7033",
      "metadata": {
        "id": "c088d3b8-3d27-49e3-bcf5-bc0a775c7033",
        "outputId": "505c3d81-4d87-4c2b-c7d4-92bf320068a4"
      },
      "outputs": [
        {
          "data": {
            "text/plain": [
              "{(1, 2, 3), 102, '2', 3.4}"
            ]
          },
          "execution_count": 101,
          "metadata": {},
          "output_type": "execute_result"
        }
      ],
      "source": [
        "s"
      ]
    },
    {
      "cell_type": "code",
      "execution_count": null,
      "id": "aba725f6-031b-4a40-8053-9e9fc829f748",
      "metadata": {
        "id": "aba725f6-031b-4a40-8053-9e9fc829f748"
      },
      "outputs": [],
      "source": [
        "s.discard(110)#error will not be thrown unlikely remove if the element is not present"
      ]
    },
    {
      "cell_type": "code",
      "execution_count": null,
      "id": "52fecb89-3389-42c3-8135-77e64de5bacb",
      "metadata": {
        "id": "52fecb89-3389-42c3-8135-77e64de5bacb",
        "outputId": "965a4ab3-2cc8-4438-f99a-950eedcfc02a"
      },
      "outputs": [
        {
          "data": {
            "text/plain": [
              "{(1, 2, 3), 102, '2', 3.4}"
            ]
          },
          "execution_count": 103,
          "metadata": {},
          "output_type": "execute_result"
        }
      ],
      "source": [
        "s"
      ]
    },
    {
      "cell_type": "code",
      "execution_count": null,
      "id": "e8e3fba9-5545-436f-82e4-380838f132f3",
      "metadata": {
        "id": "e8e3fba9-5545-436f-82e4-380838f132f3"
      },
      "outputs": [],
      "source": [
        "#set operations\n",
        "#Union: combines elements from two sets excluding duplicates\n",
        "#Intersection: only common elements btw sets\n",
        "#difference: return the elements that is present in first set and not in second\n",
        "#symmetric difference: returns elements that are present in either of sets but not in both"
      ]
    },
    {
      "cell_type": "code",
      "execution_count": null,
      "id": "6f97ec6a-317e-4f4f-a4ff-48691c99b5c5",
      "metadata": {
        "id": "6f97ec6a-317e-4f4f-a4ff-48691c99b5c5"
      },
      "outputs": [],
      "source": [
        "s1 = {\"hiking\", \"reading\", \"coding\"}\n",
        "s2 = {\"coding\", \"photography\", \"travelling\"}"
      ]
    },
    {
      "cell_type": "code",
      "execution_count": null,
      "id": "6779dd2e-8f07-4202-93dc-d37b991c5aee",
      "metadata": {
        "id": "6779dd2e-8f07-4202-93dc-d37b991c5aee",
        "outputId": "3dbffb14-63d7-4d7d-ab74-2bbab973cf5b"
      },
      "outputs": [
        {
          "data": {
            "text/plain": [
              "{'coding', 'hiking', 'reading'}"
            ]
          },
          "execution_count": 106,
          "metadata": {},
          "output_type": "execute_result"
        }
      ],
      "source": [
        "s1"
      ]
    },
    {
      "cell_type": "code",
      "execution_count": null,
      "id": "8c502691-763f-4777-8245-b337e9fabce7",
      "metadata": {
        "id": "8c502691-763f-4777-8245-b337e9fabce7",
        "outputId": "1eadfa5d-b7f9-4dfa-add6-79116e057fd0"
      },
      "outputs": [
        {
          "data": {
            "text/plain": [
              "{'coding', 'photography', 'travelling'}"
            ]
          },
          "execution_count": 107,
          "metadata": {},
          "output_type": "execute_result"
        }
      ],
      "source": [
        "s2"
      ]
    },
    {
      "cell_type": "code",
      "execution_count": null,
      "id": "b58a88c5-7f5c-4f57-88ee-5088ead78d5b",
      "metadata": {
        "id": "b58a88c5-7f5c-4f57-88ee-5088ead78d5b",
        "outputId": "795ddf0c-4ee0-4c67-a988-5915000397d1"
      },
      "outputs": [
        {
          "data": {
            "text/plain": [
              "{'coding', 'hiking', 'photography', 'reading', 'travelling'}"
            ]
          },
          "execution_count": 109,
          "metadata": {},
          "output_type": "execute_result"
        }
      ],
      "source": [
        "#union>> combine all the elements\n",
        "s1 | s2"
      ]
    },
    {
      "cell_type": "code",
      "execution_count": null,
      "id": "cf2aa0e8-4949-4f9f-b03e-8dbb41e342b3",
      "metadata": {
        "id": "cf2aa0e8-4949-4f9f-b03e-8dbb41e342b3",
        "outputId": "be364f74-9ee5-4865-ea23-e56c1feebb51"
      },
      "outputs": [
        {
          "data": {
            "text/plain": [
              "{'coding'}"
            ]
          },
          "execution_count": 110,
          "metadata": {},
          "output_type": "execute_result"
        }
      ],
      "source": [
        "#intersection >> common elements\n",
        "s1 & s2"
      ]
    },
    {
      "cell_type": "code",
      "execution_count": null,
      "id": "e23ba50c-d30e-497f-83f6-8a3bf5f8567c",
      "metadata": {
        "id": "e23ba50c-d30e-497f-83f6-8a3bf5f8567c",
        "outputId": "1df55f8a-e110-4ca2-c624-06b3c91886d9"
      },
      "outputs": [
        {
          "data": {
            "text/plain": [
              "{'hiking', 'reading'}"
            ]
          },
          "execution_count": 111,
          "metadata": {},
          "output_type": "execute_result"
        }
      ],
      "source": [
        "#difference\n",
        "s1-s2"
      ]
    },
    {
      "cell_type": "code",
      "execution_count": null,
      "id": "95403388-cb1e-4d32-8734-04ee4bb54bb4",
      "metadata": {
        "id": "95403388-cb1e-4d32-8734-04ee4bb54bb4",
        "outputId": "17ea1f2d-6e1d-42b2-ab96-d1fbcf5d51d1"
      },
      "outputs": [
        {
          "data": {
            "text/plain": [
              "{'hiking', 'photography', 'reading', 'travelling'}"
            ]
          },
          "execution_count": 112,
          "metadata": {},
          "output_type": "execute_result"
        }
      ],
      "source": [
        "#symmetric difference\n",
        "s1 ^ s2"
      ]
    },
    {
      "cell_type": "code",
      "execution_count": null,
      "id": "cb2e44a1-829e-429c-91d7-30d219532017",
      "metadata": {
        "id": "cb2e44a1-829e-429c-91d7-30d219532017"
      },
      "outputs": [],
      "source": [
        "#frozen sets"
      ]
    },
    {
      "cell_type": "code",
      "execution_count": null,
      "id": "3aebad0a-1942-4f8e-8672-45d7e1d9d90e",
      "metadata": {
        "id": "3aebad0a-1942-4f8e-8672-45d7e1d9d90e"
      },
      "outputs": [],
      "source": [
        "s = {1, 2, 3}\n",
        "s.add(100)"
      ]
    },
    {
      "cell_type": "code",
      "execution_count": null,
      "id": "31340586-7218-4980-ac61-ae0d5ca60574",
      "metadata": {
        "id": "31340586-7218-4980-ac61-ae0d5ca60574",
        "outputId": "50be6e33-75fe-4b24-a789-bf208e57def4"
      },
      "outputs": [
        {
          "data": {
            "text/plain": [
              "{1, 2, 3, 100}"
            ]
          },
          "execution_count": 115,
          "metadata": {},
          "output_type": "execute_result"
        }
      ],
      "source": [
        "s"
      ]
    },
    {
      "cell_type": "code",
      "execution_count": null,
      "id": "d715fa1c-85d9-4454-93a8-cb3313f96153",
      "metadata": {
        "id": "d715fa1c-85d9-4454-93a8-cb3313f96153"
      },
      "outputs": [],
      "source": [
        "#frozen sets>>immutable version of set, cannot be added or removed any new element\n",
        "my_fs = frozenset([1, 2, 2, 2, 3, 3, 4, 5])"
      ]
    },
    {
      "cell_type": "code",
      "execution_count": null,
      "id": "e3989ba1-35a4-4274-ab96-23ea9452202d",
      "metadata": {
        "id": "e3989ba1-35a4-4274-ab96-23ea9452202d",
        "outputId": "4a3a2924-fdd9-4937-f79a-66c8cf9509e6"
      },
      "outputs": [
        {
          "data": {
            "text/plain": [
              "frozenset({1, 2, 3, 4, 5})"
            ]
          },
          "execution_count": 117,
          "metadata": {},
          "output_type": "execute_result"
        }
      ],
      "source": [
        "my_fs"
      ]
    },
    {
      "cell_type": "code",
      "execution_count": null,
      "id": "7301cc43-4488-443f-ae2d-d728c1011310",
      "metadata": {
        "id": "7301cc43-4488-443f-ae2d-d728c1011310",
        "outputId": "ac455ba2-9a25-4431-aaeb-2ed08f72580f"
      },
      "outputs": [
        {
          "data": {
            "text/plain": [
              "frozenset"
            ]
          },
          "execution_count": 118,
          "metadata": {},
          "output_type": "execute_result"
        }
      ],
      "source": [
        "type(my_fs)"
      ]
    },
    {
      "cell_type": "code",
      "execution_count": null,
      "id": "dd0a9c71-8ade-4b31-94f0-1bc6ff7e8c4a",
      "metadata": {
        "id": "dd0a9c71-8ade-4b31-94f0-1bc6ff7e8c4a",
        "outputId": "e400aa3e-1e41-41bf-9a44-9ae40dccad9a"
      },
      "outputs": [
        {
          "ename": "AttributeError",
          "evalue": "'frozenset' object has no attribute 'add'",
          "output_type": "error",
          "traceback": [
            "\u001b[0;31m---------------------------------------------------------------------------\u001b[0m",
            "\u001b[0;31mAttributeError\u001b[0m                            Traceback (most recent call last)",
            "Cell \u001b[0;32mIn[119], line 1\u001b[0m\n\u001b[0;32m----> 1\u001b[0m \u001b[43mmy_fs\u001b[49m\u001b[38;5;241;43m.\u001b[39;49m\u001b[43madd\u001b[49m(\u001b[38;5;241m5\u001b[39m)\n",
            "\u001b[0;31mAttributeError\u001b[0m: 'frozenset' object has no attribute 'add'"
          ]
        }
      ],
      "source": [
        "my_fs.add(5)"
      ]
    },
    {
      "cell_type": "code",
      "execution_count": null,
      "id": "6095831a-05e5-4e7f-ad82-3be3f7c01126",
      "metadata": {
        "id": "6095831a-05e5-4e7f-ad82-3be3f7c01126",
        "outputId": "c028d4c0-400a-420a-c229-4b5df5cea393"
      },
      "outputs": [
        {
          "ename": "AttributeError",
          "evalue": "'frozenset' object has no attribute 'add'",
          "output_type": "error",
          "traceback": [
            "\u001b[0;31m---------------------------------------------------------------------------\u001b[0m",
            "\u001b[0;31mAttributeError\u001b[0m                            Traceback (most recent call last)",
            "Cell \u001b[0;32mIn[120], line 1\u001b[0m\n\u001b[0;32m----> 1\u001b[0m \u001b[43mmy_fs\u001b[49m\u001b[38;5;241;43m.\u001b[39;49m\u001b[43madd\u001b[49m(\u001b[38;5;241m5\u001b[39m, \u001b[38;5;241m6\u001b[39m)\n",
            "\u001b[0;31mAttributeError\u001b[0m: 'frozenset' object has no attribute 'add'"
          ]
        }
      ],
      "source": [
        "my_fs.add(5, 6)"
      ]
    },
    {
      "cell_type": "code",
      "execution_count": null,
      "id": "7c9b144d-21b1-42f4-ae37-9ff654600c96",
      "metadata": {
        "id": "7c9b144d-21b1-42f4-ae37-9ff654600c96",
        "outputId": "76e6c19b-7833-4623-8e37-68266bf10eee"
      },
      "outputs": [
        {
          "ename": "AttributeError",
          "evalue": "'frozenset' object has no attribute 'pop'",
          "output_type": "error",
          "traceback": [
            "\u001b[0;31m---------------------------------------------------------------------------\u001b[0m",
            "\u001b[0;31mAttributeError\u001b[0m                            Traceback (most recent call last)",
            "Cell \u001b[0;32mIn[121], line 1\u001b[0m\n\u001b[0;32m----> 1\u001b[0m \u001b[43mmy_fs\u001b[49m\u001b[38;5;241;43m.\u001b[39;49m\u001b[43mpop\u001b[49m()\n",
            "\u001b[0;31mAttributeError\u001b[0m: 'frozenset' object has no attribute 'pop'"
          ]
        }
      ],
      "source": [
        "my_fs.pop()"
      ]
    },
    {
      "cell_type": "code",
      "execution_count": null,
      "id": "a8aa9c9f-f9d4-4991-a710-af4ea353f990",
      "metadata": {
        "id": "a8aa9c9f-f9d4-4991-a710-af4ea353f990"
      },
      "outputs": [],
      "source": []
    }
  ],
  "metadata": {
    "kernelspec": {
      "display_name": "Python 3 (ipykernel)",
      "language": "python",
      "name": "python3"
    },
    "language_info": {
      "codemirror_mode": {
        "name": "ipython",
        "version": 3
      },
      "file_extension": ".py",
      "mimetype": "text/x-python",
      "name": "python",
      "nbconvert_exporter": "python",
      "pygments_lexer": "ipython3",
      "version": "3.10.8"
    },
    "colab": {
      "provenance": [],
      "include_colab_link": true
    }
  },
  "nbformat": 4,
  "nbformat_minor": 5
}