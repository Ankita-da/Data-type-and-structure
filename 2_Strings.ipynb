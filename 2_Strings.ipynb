{
  "cells": [
    {
      "cell_type": "markdown",
      "metadata": {
        "id": "view-in-github",
        "colab_type": "text"
      },
      "source": [
        "<a href=\"https://colab.research.google.com/github/Ankita-da/Data-type-and-structure/blob/main/2_Strings.ipynb\" target=\"_parent\"><img src=\"https://colab.research.google.com/assets/colab-badge.svg\" alt=\"Open In Colab\"/></a>"
      ]
    },
    {
      "cell_type": "code",
      "execution_count": null,
      "id": "e6f14dd9-d46e-4b3a-8ea0-adef4dfccb91",
      "metadata": {
        "id": "e6f14dd9-d46e-4b3a-8ea0-adef4dfccb91"
      },
      "outputs": [],
      "source": [
        "#string is a sequence of character>represent and manipulate textual data\n",
        "#characters are represented using numerical values>> each character is assigned a unique no\n",
        "#ASCII (7 bits) and UNICODE (16 bits)>>ascii>>2to power8>>128 character has been encoded whereas utf is 2 to power 16, almost covered every character of every langauage\n",
        "#UTF-8, UTF 16 >> popular encoding schemes for unicode>>widely accepeted in industry\n",
        "#ASCII>>American Standard Code for Information Interchange\n",
        "#UTF(unicode transformation format)"
      ]
    },
    {
      "cell_type": "code",
      "execution_count": null,
      "id": "030b3e96-6ea6-45bb-b34a-da37db5543e8",
      "metadata": {
        "id": "030b3e96-6ea6-45bb-b34a-da37db5543e8",
        "outputId": "3cc81f9a-8d4f-4c8f-fc81-4c7b502460ea"
      },
      "outputs": [
        {
          "data": {
            "text/plain": [
              "65"
            ]
          },
          "execution_count": 2,
          "metadata": {},
          "output_type": "execute_result"
        }
      ],
      "source": [
        "#ASCII representation\n",
        "char = \"A\"\n",
        "ord(char) #ord>>ordinal, means what is numerical order of character"
      ]
    },
    {
      "cell_type": "code",
      "execution_count": null,
      "id": "a527fb41-475a-418e-a9ad-a22daf531593",
      "metadata": {
        "id": "a527fb41-475a-418e-a9ad-a22daf531593",
        "outputId": "afa2386d-7e01-423e-ed4a-ba9d17e711f9"
      },
      "outputs": [
        {
          "data": {
            "text/plain": [
              "'A'"
            ]
          },
          "execution_count": 4,
          "metadata": {},
          "output_type": "execute_result"
        }
      ],
      "source": [
        "chr(65) #character>> give the character corresponding to that no"
      ]
    },
    {
      "cell_type": "code",
      "execution_count": null,
      "id": "7fadbc44-c202-4b97-a043-f1125276c076",
      "metadata": {
        "id": "7fadbc44-c202-4b97-a043-f1125276c076",
        "outputId": "c943a471-59b7-4787-9ad3-76c6cbe92dea"
      },
      "outputs": [
        {
          "data": {
            "text/plain": [
              "97"
            ]
          },
          "execution_count": 5,
          "metadata": {},
          "output_type": "execute_result"
        }
      ],
      "source": [
        "ord(\"a\")"
      ]
    },
    {
      "cell_type": "code",
      "execution_count": null,
      "id": "98142822-0a57-4cad-ad14-45c586d75c47",
      "metadata": {
        "id": "98142822-0a57-4cad-ad14-45c586d75c47",
        "outputId": "90ce089c-7830-4f4e-93ff-c899f5f7c56e"
      },
      "outputs": [
        {
          "data": {
            "text/plain": [
              "'a'"
            ]
          },
          "execution_count": 6,
          "metadata": {},
          "output_type": "execute_result"
        }
      ],
      "source": [
        "chr(97)"
      ]
    },
    {
      "cell_type": "code",
      "execution_count": null,
      "id": "edc30be2-5889-45f4-bae1-e93a4dcf6840",
      "metadata": {
        "id": "edc30be2-5889-45f4-bae1-e93a4dcf6840",
        "outputId": "4c7adc03-6878-4824-e231-13dcd08977dc"
      },
      "outputs": [
        {
          "data": {
            "text/plain": [
              "'B'"
            ]
          },
          "execution_count": 7,
          "metadata": {},
          "output_type": "execute_result"
        }
      ],
      "source": [
        "chr(66)"
      ]
    },
    {
      "cell_type": "code",
      "execution_count": null,
      "id": "d8eb2bc4-d085-4310-8a38-c9c4cf9b1094",
      "metadata": {
        "id": "d8eb2bc4-d085-4310-8a38-c9c4cf9b1094",
        "outputId": "9db173e6-78ab-412b-dbaa-55e740bbceb1"
      },
      "outputs": [
        {
          "data": {
            "text/plain": [
              "66"
            ]
          },
          "execution_count": 9,
          "metadata": {},
          "output_type": "execute_result"
        }
      ],
      "source": [
        "ord(\"B\")"
      ]
    },
    {
      "cell_type": "code",
      "execution_count": null,
      "id": "c092f5ac-efbb-462a-ad7e-62d5f6d76ed1",
      "metadata": {
        "id": "c092f5ac-efbb-462a-ad7e-62d5f6d76ed1"
      },
      "outputs": [],
      "source": [
        "#UNICODE REPRESENTATION\n",
        "#Omega"
      ]
    },
    {
      "cell_type": "code",
      "execution_count": null,
      "id": "4d7bae21-1a52-41cf-a080-ab2293fdf26b",
      "metadata": {
        "id": "4d7bae21-1a52-41cf-a080-ab2293fdf26b",
        "outputId": "f5804bff-04ad-4a48-e568-841e24f5ae2b"
      },
      "outputs": [
        {
          "data": {
            "text/plain": [
              "'Ω'"
            ]
          },
          "execution_count": 11,
          "metadata": {},
          "output_type": "execute_result"
        }
      ],
      "source": [
        "'\\u03A9'"
      ]
    },
    {
      "cell_type": "code",
      "execution_count": null,
      "id": "31c7b63c-5c3c-4f81-b143-9f2b96fa8fd9",
      "metadata": {
        "id": "31c7b63c-5c3c-4f81-b143-9f2b96fa8fd9",
        "outputId": "18cf3279-0d8e-410c-e143-db14ec409689"
      },
      "outputs": [
        {
          "data": {
            "text/plain": [
              "'Σ'"
            ]
          },
          "execution_count": 12,
          "metadata": {},
          "output_type": "execute_result"
        }
      ],
      "source": [
        "'\\u03A3'"
      ]
    },
    {
      "cell_type": "code",
      "execution_count": null,
      "id": "e1d275a3-c86b-474e-92a8-6ee390c0122c",
      "metadata": {
        "id": "e1d275a3-c86b-474e-92a8-6ee390c0122c",
        "outputId": "e41d31cd-869c-439b-fba3-0b735e6a3468"
      },
      "outputs": [
        {
          "data": {
            "text/plain": [
              "'ॳ'"
            ]
          },
          "execution_count": 13,
          "metadata": {},
          "output_type": "execute_result"
        }
      ],
      "source": [
        "'\\u0973'"
      ]
    },
    {
      "cell_type": "code",
      "execution_count": null,
      "id": "2bffe759-27ae-43a5-b667-ed7805369301",
      "metadata": {
        "id": "2bffe759-27ae-43a5-b667-ed7805369301",
        "outputId": "72fde274-e16c-43ea-9bdc-b0ab3d0fcbb3"
      },
      "outputs": [
        {
          "data": {
            "text/plain": [
              "'ॴ'"
            ]
          },
          "execution_count": 14,
          "metadata": {},
          "output_type": "execute_result"
        }
      ],
      "source": [
        "'\\u0974'"
      ]
    },
    {
      "cell_type": "code",
      "execution_count": null,
      "id": "db6c5274-63b4-4838-974f-0ee987d916c5",
      "metadata": {
        "id": "db6c5274-63b4-4838-974f-0ee987d916c5",
        "outputId": "c396eb30-adb3-4716-b7ae-1a52fd659383"
      },
      "outputs": [
        {
          "data": {
            "text/plain": [
              "'ॵ'"
            ]
          },
          "execution_count": 15,
          "metadata": {},
          "output_type": "execute_result"
        }
      ],
      "source": [
        "'\\u0975'"
      ]
    },
    {
      "cell_type": "code",
      "execution_count": null,
      "id": "956d26e2-8d4f-474a-b496-806d13a9db78",
      "metadata": {
        "id": "956d26e2-8d4f-474a-b496-806d13a9db78",
        "outputId": "da2be1a1-bcb4-43bf-90fd-8c31bf19341b"
      },
      "outputs": [
        {
          "data": {
            "text/plain": [
              "'Τ'"
            ]
          },
          "execution_count": 16,
          "metadata": {},
          "output_type": "execute_result"
        }
      ],
      "source": [
        "'\\u03A4'"
      ]
    },
    {
      "cell_type": "code",
      "execution_count": null,
      "id": "4fa98116-26b1-4211-954e-d636abf3fbe3",
      "metadata": {
        "id": "4fa98116-26b1-4211-954e-d636abf3fbe3"
      },
      "outputs": [],
      "source": [
        "#strings\n",
        "string1 = \"pwskills\""
      ]
    },
    {
      "cell_type": "code",
      "execution_count": null,
      "id": "3feca7ff-4574-4be8-bec3-f3f7f128e8af",
      "metadata": {
        "id": "3feca7ff-4574-4be8-bec3-f3f7f128e8af"
      },
      "outputs": [],
      "source": [
        "string1 = 'pwskills'"
      ]
    },
    {
      "cell_type": "code",
      "execution_count": null,
      "id": "ae584c23-8b2d-4883-9fb3-81993c33ccfa",
      "metadata": {
        "id": "ae584c23-8b2d-4883-9fb3-81993c33ccfa",
        "outputId": "a0c25134-3c7c-4517-c6c3-46985effa5de"
      },
      "outputs": [
        {
          "data": {
            "text/plain": [
              "'pwskills'"
            ]
          },
          "execution_count": 20,
          "metadata": {},
          "output_type": "execute_result"
        }
      ],
      "source": [
        "string1"
      ]
    },
    {
      "cell_type": "code",
      "execution_count": null,
      "id": "2ac0a540-db65-4a97-b7a7-11dd35963024",
      "metadata": {
        "id": "2ac0a540-db65-4a97-b7a7-11dd35963024",
        "outputId": "1a3042ee-ca88-4c28-b4f4-d4a5dce7f470"
      },
      "outputs": [
        {
          "data": {
            "text/plain": [
              "str"
            ]
          },
          "execution_count": 22,
          "metadata": {},
          "output_type": "execute_result"
        }
      ],
      "source": [
        "type(string1)"
      ]
    },
    {
      "cell_type": "code",
      "execution_count": null,
      "id": "de64a8ec-9be7-4a55-9d28-6b235ae0e278",
      "metadata": {
        "id": "de64a8ec-9be7-4a55-9d28-6b235ae0e278",
        "outputId": "94d2fbba-6fe6-453b-9eb3-e4cb69b1582b"
      },
      "outputs": [
        {
          "data": {
            "text/plain": [
              "'pwskills'"
            ]
          },
          "execution_count": 23,
          "metadata": {},
          "output_type": "execute_result"
        }
      ],
      "source": [
        "'pwskills'"
      ]
    },
    {
      "cell_type": "code",
      "execution_count": null,
      "id": "ecb65bac-37e9-41af-89f5-b757a76d9e08",
      "metadata": {
        "id": "ecb65bac-37e9-41af-89f5-b757a76d9e08",
        "outputId": "3d7be953-05b9-4383-cf11-45ed988750bf"
      },
      "outputs": [
        {
          "data": {
            "text/plain": [
              "\"I'm a student\""
            ]
          },
          "execution_count": 25,
          "metadata": {},
          "output_type": "execute_result"
        }
      ],
      "source": [
        "\"I'm a student\""
      ]
    },
    {
      "cell_type": "code",
      "execution_count": null,
      "id": "e8c28a6e-ed4e-4121-bed3-a2c8fdb0a1a5",
      "metadata": {
        "id": "e8c28a6e-ed4e-4121-bed3-a2c8fdb0a1a5",
        "outputId": "bafcc03c-559e-4ece-a8f9-a074cad9a552"
      },
      "outputs": [
        {
          "ename": "SyntaxError",
          "evalue": "unterminated string literal (detected at line 1) (1373017057.py, line 1)",
          "output_type": "error",
          "traceback": [
            "\u001b[0;36m  Cell \u001b[0;32mIn[27], line 1\u001b[0;36m\u001b[0m\n\u001b[0;31m    \"I'm a student #it will give you error\u001b[0m\n\u001b[0m    ^\u001b[0m\n\u001b[0;31mSyntaxError\u001b[0m\u001b[0;31m:\u001b[0m unterminated string literal (detected at line 1)\n"
          ]
        }
      ],
      "source": [
        "#it will give you error\n",
        "\"I'm a student"
      ]
    },
    {
      "cell_type": "code",
      "execution_count": null,
      "id": "7c28c664-e39b-41af-a619-787180f21874",
      "metadata": {
        "id": "7c28c664-e39b-41af-a619-787180f21874",
        "outputId": "e12e5b76-7d02-401b-c8ef-ac912f681967"
      },
      "outputs": [
        {
          "data": {
            "text/plain": [
              "'I\"m a student'"
            ]
          },
          "execution_count": 30,
          "metadata": {},
          "output_type": "execute_result"
        }
      ],
      "source": [
        "\"\"\"I\"m a student\"\"\""
      ]
    },
    {
      "cell_type": "code",
      "execution_count": null,
      "id": "0d7cffc2-11c7-4b0b-87a1-ca381dca6992",
      "metadata": {
        "id": "0d7cffc2-11c7-4b0b-87a1-ca381dca6992",
        "outputId": "a61cc077-a93c-4ec2-e25e-c94cfb2bae5e"
      },
      "outputs": [
        {
          "data": {
            "text/plain": [
              "'I\"m a student'"
            ]
          },
          "execution_count": 31,
          "metadata": {},
          "output_type": "execute_result"
        }
      ],
      "source": [
        "'''I\"m a student'''"
      ]
    },
    {
      "cell_type": "code",
      "execution_count": null,
      "id": "b9b4599d-8e31-4826-a671-e321a0de544c",
      "metadata": {
        "id": "b9b4599d-8e31-4826-a671-e321a0de544c",
        "outputId": "266d9f04-7f8d-41ba-ff98-8857121a5dbc"
      },
      "outputs": [
        {
          "data": {
            "text/plain": [
              "'I\"m a student\\nI study in pwskills\\nI am a data scientist'"
            ]
          },
          "execution_count": 32,
          "metadata": {},
          "output_type": "execute_result"
        }
      ],
      "source": [
        "'''I\"m a student\n",
        "I study in pwskills\n",
        "I am a data scientist'''"
      ]
    },
    {
      "cell_type": "code",
      "execution_count": null,
      "id": "9a65c6d1-ede9-40a6-88d0-9cc05fe669f6",
      "metadata": {
        "id": "9a65c6d1-ede9-40a6-88d0-9cc05fe669f6"
      },
      "outputs": [],
      "source": [
        "#concatenation of string>> combination of two string"
      ]
    },
    {
      "cell_type": "code",
      "execution_count": null,
      "id": "38c4e8e6-a149-4eee-a048-f619c80da643",
      "metadata": {
        "id": "38c4e8e6-a149-4eee-a048-f619c80da643",
        "outputId": "a2339e20-9bb5-48fb-fa6f-16b45fdb65f0"
      },
      "outputs": [
        {
          "data": {
            "text/plain": [
              "'Hello world'"
            ]
          },
          "execution_count": 35,
          "metadata": {},
          "output_type": "execute_result"
        }
      ],
      "source": [
        "\"Hello\" + \" world\""
      ]
    },
    {
      "cell_type": "code",
      "execution_count": null,
      "id": "ded29dff-87e5-470a-8e0c-9151c8084c00",
      "metadata": {
        "id": "ded29dff-87e5-470a-8e0c-9151c8084c00",
        "outputId": "bf9ab4d3-1486-415e-dc15-6466c1dbbec1"
      },
      "outputs": [
        {
          "ename": "TypeError",
          "evalue": "unsupported operand type(s) for -: 'str' and 'str'",
          "output_type": "error",
          "traceback": [
            "\u001b[0;31m---------------------------------------------------------------------------\u001b[0m",
            "\u001b[0;31mTypeError\u001b[0m                                 Traceback (most recent call last)",
            "Cell \u001b[0;32mIn[36], line 1\u001b[0m\n\u001b[0;32m----> 1\u001b[0m \u001b[38;5;124;43m\"\u001b[39;49m\u001b[38;5;124;43mHello\u001b[39;49m\u001b[38;5;124;43m\"\u001b[39;49m\u001b[43m \u001b[49m\u001b[38;5;241;43m-\u001b[39;49m\u001b[43m \u001b[49m\u001b[38;5;124;43m\"\u001b[39;49m\u001b[38;5;124;43m world\u001b[39;49m\u001b[38;5;124;43m\"\u001b[39;49m\n",
            "\u001b[0;31mTypeError\u001b[0m: unsupported operand type(s) for -: 'str' and 'str'"
          ]
        }
      ],
      "source": [
        "\"Hello\" - \" world\" #it will give you error"
      ]
    },
    {
      "cell_type": "code",
      "execution_count": null,
      "id": "1d50b3b2-803c-4062-957c-61ac5de4ab84",
      "metadata": {
        "id": "1d50b3b2-803c-4062-957c-61ac5de4ab84",
        "outputId": "f5c59d2a-df74-47e0-a051-4ab27fa0db76"
      },
      "outputs": [
        {
          "data": {
            "text/plain": [
              "'hello, world!'"
            ]
          },
          "execution_count": 37,
          "metadata": {},
          "output_type": "execute_result"
        }
      ],
      "source": [
        "string1 = \"hello\"\n",
        "string2 = \"world!\"\n",
        "string1 + \", \"+string2"
      ]
    },
    {
      "cell_type": "code",
      "execution_count": null,
      "id": "cc20bf25-4f45-4feb-beb4-9643f2c24a87",
      "metadata": {
        "id": "cc20bf25-4f45-4feb-beb4-9643f2c24a87",
        "outputId": "001f787f-0bd3-4ff4-9a15-22066cd4527d"
      },
      "outputs": [
        {
          "data": {
            "text/plain": [
              "'string>>concatenation'"
            ]
          },
          "execution_count": 38,
          "metadata": {},
          "output_type": "execute_result"
        }
      ],
      "source": [
        "\"string\" + \">>\" +\"concatenation\""
      ]
    },
    {
      "cell_type": "code",
      "execution_count": null,
      "id": "f7b349e8-a309-4313-bcdb-3341e0183a6f",
      "metadata": {
        "id": "f7b349e8-a309-4313-bcdb-3341e0183a6f",
        "outputId": "335e8212-9ec2-4736-aec6-adbd77c6f1c4"
      },
      "outputs": [
        {
          "data": {
            "text/plain": [
              "'string >> concatenation'"
            ]
          },
          "execution_count": 39,
          "metadata": {},
          "output_type": "execute_result"
        }
      ],
      "source": [
        "\"string\" + \" >> \" +\"concatenation\""
      ]
    },
    {
      "cell_type": "code",
      "execution_count": null,
      "id": "07222df5-03f8-4a07-ae58-4d200e23a29b",
      "metadata": {
        "id": "07222df5-03f8-4a07-ae58-4d200e23a29b",
        "outputId": "56e3b765-16d3-4e29-bed5-303b147f6870"
      },
      "outputs": [
        {
          "data": {
            "text/plain": [
              "'string >$ concatenation'"
            ]
          },
          "execution_count": 40,
          "metadata": {},
          "output_type": "execute_result"
        }
      ],
      "source": [
        "\"string\" + \" >$ \" +\"concatenation\""
      ]
    },
    {
      "cell_type": "code",
      "execution_count": null,
      "id": "32465a84-b286-4a12-ba61-9fedee4a8d1f",
      "metadata": {
        "id": "32465a84-b286-4a12-ba61-9fedee4a8d1f",
        "outputId": "b2d49346-8501-481b-8266-22a0c750e89c"
      },
      "outputs": [
        {
          "data": {
            "text/plain": [
              "'A'"
            ]
          },
          "execution_count": 41,
          "metadata": {},
          "output_type": "execute_result"
        }
      ],
      "source": [
        "#Extract/slicing of string\n",
        "a = \"Ajay\"\n",
        "a[0]"
      ]
    },
    {
      "cell_type": "code",
      "execution_count": null,
      "id": "31d01d6e-a51a-4a15-853e-775fdac3d7ec",
      "metadata": {
        "id": "31d01d6e-a51a-4a15-853e-775fdac3d7ec",
        "outputId": "dc9254b2-6ab5-46d5-8d2f-4441a4eeac86"
      },
      "outputs": [
        {
          "data": {
            "text/plain": [
              "'j'"
            ]
          },
          "execution_count": 42,
          "metadata": {},
          "output_type": "execute_result"
        }
      ],
      "source": [
        "a[1]"
      ]
    },
    {
      "cell_type": "code",
      "execution_count": null,
      "id": "404f04ec-da3c-4b79-9d36-8f03b15a12fd",
      "metadata": {
        "id": "404f04ec-da3c-4b79-9d36-8f03b15a12fd",
        "outputId": "f5251e25-d50c-4dd4-9944-7a3c666f8760"
      },
      "outputs": [
        {
          "data": {
            "text/plain": [
              "'y'"
            ]
          },
          "execution_count": 43,
          "metadata": {},
          "output_type": "execute_result"
        }
      ],
      "source": [
        "a[-1]"
      ]
    },
    {
      "cell_type": "code",
      "execution_count": null,
      "id": "50bebb2d-60ac-449e-a115-a5bab9360a76",
      "metadata": {
        "id": "50bebb2d-60ac-449e-a115-a5bab9360a76",
        "outputId": "da7aa0d5-8ed9-4bad-b5e3-3d2d45103bf4"
      },
      "outputs": [
        {
          "data": {
            "text/plain": [
              "'y'"
            ]
          },
          "execution_count": 44,
          "metadata": {},
          "output_type": "execute_result"
        }
      ],
      "source": [
        "a[3]"
      ]
    },
    {
      "cell_type": "code",
      "execution_count": null,
      "id": "adbb8adf-2215-4bbe-b062-a9d20cc28f31",
      "metadata": {
        "id": "adbb8adf-2215-4bbe-b062-a9d20cc28f31",
        "outputId": "b1cefcce-a315-465d-88ea-062209c1231e"
      },
      "outputs": [
        {
          "ename": "IndexError",
          "evalue": "string index out of range",
          "output_type": "error",
          "traceback": [
            "\u001b[0;31m---------------------------------------------------------------------------\u001b[0m",
            "\u001b[0;31mIndexError\u001b[0m                                Traceback (most recent call last)",
            "Cell \u001b[0;32mIn[45], line 1\u001b[0m\n\u001b[0;32m----> 1\u001b[0m \u001b[43ma\u001b[49m\u001b[43m[\u001b[49m\u001b[38;5;241;43m4\u001b[39;49m\u001b[43m]\u001b[49m\n",
            "\u001b[0;31mIndexError\u001b[0m: string index out of range"
          ]
        }
      ],
      "source": [
        "a[4] #it will throw an error as 4th index doesnt exist"
      ]
    },
    {
      "cell_type": "code",
      "execution_count": null,
      "id": "2072f896-a6fb-48ef-976a-c770f5336e67",
      "metadata": {
        "id": "2072f896-a6fb-48ef-976a-c770f5336e67",
        "outputId": "a22ea67c-1aba-443b-ac03-7aa93bd2db33"
      },
      "outputs": [
        {
          "data": {
            "text/plain": [
              "'I am'"
            ]
          },
          "execution_count": 46,
          "metadata": {},
          "output_type": "execute_result"
        }
      ],
      "source": [
        "string1 = \"Id  am a goostudent\"\n",
        "string1[0:4] #4 is exclusive [a, b]>>it will give result till b-1 index"
      ]
    },
    {
      "cell_type": "code",
      "execution_count": null,
      "id": "1adc407e-df4d-4d42-a649-b755becd51fd",
      "metadata": {
        "id": "1adc407e-df4d-4d42-a649-b755becd51fd",
        "outputId": "6ad542e4-755d-4091-a995-461f768c48d8"
      },
      "outputs": [
        {
          "data": {
            "text/plain": [
              "'a good '"
            ]
          },
          "execution_count": 47,
          "metadata": {},
          "output_type": "execute_result"
        }
      ],
      "source": [
        "string1[5:12]"
      ]
    },
    {
      "cell_type": "code",
      "execution_count": null,
      "id": "ab323032-a8d1-49d0-97d4-123a71e72d03",
      "metadata": {
        "id": "ab323032-a8d1-49d0-97d4-123a71e72d03",
        "outputId": "affd0443-ae63-4643-d570-1905cd3e9cd4"
      },
      "outputs": [
        {
          "data": {
            "text/plain": [
              "'I am a good student'"
            ]
          },
          "execution_count": 49,
          "metadata": {},
          "output_type": "execute_result"
        }
      ],
      "source": [
        "string1[0:]#start_index:end_index>> if you not provide end idex, it will be default give substring till the last index"
      ]
    },
    {
      "cell_type": "code",
      "execution_count": null,
      "id": "041cfdf7-20ee-4555-a582-e441cef68dd1",
      "metadata": {
        "id": "041cfdf7-20ee-4555-a582-e441cef68dd1",
        "outputId": "a48a2d93-2a4b-4e1e-bc22-c3b13b47cb45"
      },
      "outputs": [
        {
          "data": {
            "text/plain": [
              "'m a good student'"
            ]
          },
          "execution_count": 50,
          "metadata": {},
          "output_type": "execute_result"
        }
      ],
      "source": [
        "string1[3:]"
      ]
    },
    {
      "cell_type": "code",
      "execution_count": null,
      "id": "c965d874-8f0f-4e48-a1ea-21280d227275",
      "metadata": {
        "id": "c965d874-8f0f-4e48-a1ea-21280d227275"
      },
      "outputs": [],
      "source": [
        "strings2 = \"pwskills\""
      ]
    },
    {
      "cell_type": "code",
      "execution_count": null,
      "id": "a5277eed-6baa-467e-bf0b-ffa08a9a8293",
      "metadata": {
        "id": "a5277eed-6baa-467e-bf0b-ffa08a9a8293",
        "outputId": "e96c7756-41cf-47e0-f679-b8e7098f2221"
      },
      "outputs": [
        {
          "data": {
            "text/plain": [
              "'w'"
            ]
          },
          "execution_count": 53,
          "metadata": {},
          "output_type": "execute_result"
        }
      ],
      "source": [
        "strings2[1]"
      ]
    },
    {
      "cell_type": "code",
      "execution_count": null,
      "id": "a0b090f1-5826-42cb-8e1b-36944cbb07e3",
      "metadata": {
        "id": "a0b090f1-5826-42cb-8e1b-36944cbb07e3",
        "outputId": "5a824563-88b9-4a33-ecb3-9dfab4edc3d4"
      },
      "outputs": [
        {
          "data": {
            "text/plain": [
              "'s'"
            ]
          },
          "execution_count": 54,
          "metadata": {},
          "output_type": "execute_result"
        }
      ],
      "source": [
        "strings2[-1]"
      ]
    },
    {
      "cell_type": "code",
      "execution_count": null,
      "id": "41b238c9-91fb-4c2f-b845-898e17986ad6",
      "metadata": {
        "id": "41b238c9-91fb-4c2f-b845-898e17986ad6",
        "outputId": "c1fd99d4-1da7-4f8f-f030-dfd606eebb64"
      },
      "outputs": [
        {
          "data": {
            "text/plain": [
              "'l'"
            ]
          },
          "execution_count": 55,
          "metadata": {},
          "output_type": "execute_result"
        }
      ],
      "source": [
        "strings2[-2]"
      ]
    },
    {
      "cell_type": "code",
      "execution_count": null,
      "id": "7976db9e-fce1-493c-af69-61ce3047d89b",
      "metadata": {
        "id": "7976db9e-fce1-493c-af69-61ce3047d89b",
        "outputId": "fe8abb20-437e-4986-d103-524115cf4253"
      },
      "outputs": [
        {
          "data": {
            "text/plain": [
              "'pwskills'"
            ]
          },
          "execution_count": 56,
          "metadata": {},
          "output_type": "execute_result"
        }
      ],
      "source": [
        "strings2"
      ]
    },
    {
      "cell_type": "code",
      "execution_count": null,
      "id": "b28eb7a4-8077-4733-a5b5-41ccb0d92ee1",
      "metadata": {
        "id": "b28eb7a4-8077-4733-a5b5-41ccb0d92ee1",
        "outputId": "dbd360c1-7c8f-469d-ee01-d8b6abb5fada"
      },
      "outputs": [
        {
          "data": {
            "text/plain": [
              "'pwski'"
            ]
          },
          "execution_count": 57,
          "metadata": {},
          "output_type": "execute_result"
        }
      ],
      "source": [
        "#except the last three character\n",
        "strings2[:-3]"
      ]
    },
    {
      "cell_type": "code",
      "execution_count": null,
      "id": "a1c506c2-a765-4dfc-be09-93a712396a42",
      "metadata": {
        "id": "a1c506c2-a765-4dfc-be09-93a712396a42",
        "outputId": "c90de322-c38e-45d7-e5a5-fc81b5ebc69b"
      },
      "outputs": [
        {
          "data": {
            "text/plain": [
              "'lls'"
            ]
          },
          "execution_count": 59,
          "metadata": {},
          "output_type": "execute_result"
        }
      ],
      "source": [
        "#you want only last characters\n",
        "strings2[-3:]"
      ]
    },
    {
      "cell_type": "code",
      "execution_count": null,
      "id": "1a682a6f-f658-478e-b5f5-98f6325fcbb6",
      "metadata": {
        "id": "1a682a6f-f658-478e-b5f5-98f6325fcbb6"
      },
      "outputs": [],
      "source": [
        "string2 = \"hello world!\""
      ]
    },
    {
      "cell_type": "code",
      "execution_count": null,
      "id": "9d3e4609-f04e-4b37-8f2a-27cec5c19fdd",
      "metadata": {
        "id": "9d3e4609-f04e-4b37-8f2a-27cec5c19fdd",
        "outputId": "2067dc3e-1ffc-4950-ce20-a4ef3955358a"
      },
      "outputs": [
        {
          "data": {
            "text/plain": [
              "'hello'"
            ]
          },
          "execution_count": 65,
          "metadata": {},
          "output_type": "execute_result"
        }
      ],
      "source": [
        "string2[0:5:1] #by default step is 1"
      ]
    },
    {
      "cell_type": "code",
      "execution_count": null,
      "id": "8d56420a-95eb-4213-bb07-450caf440514",
      "metadata": {
        "id": "8d56420a-95eb-4213-bb07-450caf440514",
        "outputId": "4405d14d-3952-41a1-aff8-54540a7f34fb"
      },
      "outputs": [
        {
          "data": {
            "text/plain": [
              "'hlo'"
            ]
          },
          "execution_count": 66,
          "metadata": {},
          "output_type": "execute_result"
        }
      ],
      "source": [
        "string2[0:5:2]#syntax>> [start:end:step]"
      ]
    },
    {
      "cell_type": "code",
      "execution_count": null,
      "id": "ba814341-36af-48bf-aacf-e1d44ef2c5be",
      "metadata": {
        "id": "ba814341-36af-48bf-aacf-e1d44ef2c5be",
        "outputId": "f0d29604-a861-488f-a5b0-0b8f6799e70f"
      },
      "outputs": [
        {
          "data": {
            "text/plain": [
              "'hello world!'"
            ]
          },
          "execution_count": 67,
          "metadata": {},
          "output_type": "execute_result"
        }
      ],
      "source": [
        "string2[::1]"
      ]
    },
    {
      "cell_type": "code",
      "execution_count": null,
      "id": "90aca4e6-aff1-4b79-8c63-47e01f93fc3b",
      "metadata": {
        "id": "90aca4e6-aff1-4b79-8c63-47e01f93fc3b",
        "outputId": "df449fec-d150-4189-866f-358a8e725bb2"
      },
      "outputs": [
        {
          "data": {
            "text/plain": [
              "'hlowrd'"
            ]
          },
          "execution_count": 68,
          "metadata": {},
          "output_type": "execute_result"
        }
      ],
      "source": [
        "string2[::2]"
      ]
    },
    {
      "cell_type": "code",
      "execution_count": null,
      "id": "3b314408-2021-4a6e-8a72-c91f1afbf979",
      "metadata": {
        "id": "3b314408-2021-4a6e-8a72-c91f1afbf979",
        "outputId": "438391df-0ad5-4b7f-dc52-c278e617aaa1"
      },
      "outputs": [
        {
          "data": {
            "text/plain": [
              "'hello world!'"
            ]
          },
          "execution_count": 69,
          "metadata": {},
          "output_type": "execute_result"
        }
      ],
      "source": [
        "string2"
      ]
    },
    {
      "cell_type": "code",
      "execution_count": null,
      "id": "e2c9dc54-12c9-452b-baa5-740e9e5f87b6",
      "metadata": {
        "id": "e2c9dc54-12c9-452b-baa5-740e9e5f87b6",
        "outputId": "09cab1da-5142-4496-90a4-8cf2f847a800"
      },
      "outputs": [
        {
          "data": {
            "text/plain": [
              "'!dlrow olleh'"
            ]
          },
          "execution_count": 70,
          "metadata": {},
          "output_type": "execute_result"
        }
      ],
      "source": [
        " #iterate over the sequence in reverse order\n",
        "#it means start from the end, move to beginning an dstep backwards by one character\n",
        "string2[::-1]"
      ]
    },
    {
      "cell_type": "code",
      "execution_count": null,
      "id": "64491310-fb49-498f-bf84-41c97748c435",
      "metadata": {
        "id": "64491310-fb49-498f-bf84-41c97748c435"
      },
      "outputs": [],
      "source": [
        "#strings are immuatble"
      ]
    },
    {
      "cell_type": "code",
      "execution_count": null,
      "id": "3c3419d1-1a00-4fa3-9839-7d42c43e49e6",
      "metadata": {
        "id": "3c3419d1-1a00-4fa3-9839-7d42c43e49e6",
        "outputId": "63b3a97f-98e6-4171-a5f6-cbd02826a1eb"
      },
      "outputs": [
        {
          "data": {
            "text/plain": [
              "'p'"
            ]
          },
          "execution_count": 72,
          "metadata": {},
          "output_type": "execute_result"
        }
      ],
      "source": [
        "s = \"pwskills\"\n",
        "s[0]"
      ]
    },
    {
      "cell_type": "code",
      "execution_count": null,
      "id": "1f7e9ec2-7bfb-4c36-9330-02edbf3591f9",
      "metadata": {
        "id": "1f7e9ec2-7bfb-4c36-9330-02edbf3591f9",
        "outputId": "9b16462f-bae4-4b03-8c02-1afa276e0535"
      },
      "outputs": [
        {
          "ename": "TypeError",
          "evalue": "'str' object does not support item assignment",
          "output_type": "error",
          "traceback": [
            "\u001b[0;31m---------------------------------------------------------------------------\u001b[0m",
            "\u001b[0;31mTypeError\u001b[0m                                 Traceback (most recent call last)",
            "Cell \u001b[0;32mIn[73], line 1\u001b[0m\n\u001b[0;32m----> 1\u001b[0m \u001b[43ms\u001b[49m\u001b[43m[\u001b[49m\u001b[38;5;241;43m0\u001b[39;49m\u001b[43m]\u001b[49m \u001b[38;5;241m=\u001b[39m \u001b[38;5;124m\"\u001b[39m\u001b[38;5;124ma\u001b[39m\u001b[38;5;124m\"\u001b[39m\n",
            "\u001b[0;31mTypeError\u001b[0m: 'str' object does not support item assignment"
          ]
        }
      ],
      "source": [
        "s[0] = \"a\""
      ]
    },
    {
      "cell_type": "code",
      "execution_count": null,
      "id": "95a6ec04-65bb-408f-8211-de45e7e9b807",
      "metadata": {
        "id": "95a6ec04-65bb-408f-8211-de45e7e9b807",
        "outputId": "6435f6c9-1322-45a4-c16c-8240099aea09"
      },
      "outputs": [
        {
          "data": {
            "text/plain": [
              "'pwskills'"
            ]
          },
          "execution_count": 74,
          "metadata": {},
          "output_type": "execute_result"
        }
      ],
      "source": [
        "s"
      ]
    },
    {
      "cell_type": "code",
      "execution_count": null,
      "id": "8fb133ff-9de7-43a4-9127-1df711ccb69f",
      "metadata": {
        "id": "8fb133ff-9de7-43a4-9127-1df711ccb69f",
        "outputId": "fd655bf8-4d5a-4ac8-a051-0ac920bb3bab"
      },
      "outputs": [
        {
          "data": {
            "text/plain": [
              "8"
            ]
          },
          "execution_count": 75,
          "metadata": {},
          "output_type": "execute_result"
        }
      ],
      "source": [
        "#no of characters\n",
        "len(s)"
      ]
    },
    {
      "cell_type": "code",
      "execution_count": null,
      "id": "50816080-11ac-4df5-942a-2dd486631006",
      "metadata": {
        "id": "50816080-11ac-4df5-942a-2dd486631006",
        "outputId": "e759a69c-fb42-4ba9-d3c8-7111867c5858"
      },
      "outputs": [
        {
          "data": {
            "text/plain": [
              "14"
            ]
          },
          "execution_count": 76,
          "metadata": {},
          "output_type": "execute_result"
        }
      ],
      "source": [
        "s = \"I am a student\"\n",
        "len(s)"
      ]
    },
    {
      "cell_type": "code",
      "execution_count": null,
      "id": "07ab17d4-da13-4bbd-afb3-e7a5f0e3fdb0",
      "metadata": {
        "id": "07ab17d4-da13-4bbd-afb3-e7a5f0e3fdb0",
        "outputId": "d8e79b6c-20bb-491b-f99a-2307ce254180"
      },
      "outputs": [
        {
          "data": {
            "text/plain": [
              "'I am a teacher'"
            ]
          },
          "execution_count": 79,
          "metadata": {},
          "output_type": "execute_result"
        }
      ],
      "source": [
        "#modification of string\n",
        "s = \"I am a student\"\n",
        "s.replace(\"student\", \"teacher\")"
      ]
    },
    {
      "cell_type": "code",
      "execution_count": null,
      "id": "9e76e736-b717-48f9-94cf-cc74a4c7a080",
      "metadata": {
        "id": "9e76e736-b717-48f9-94cf-cc74a4c7a080",
        "outputId": "852dd395-2e44-4a7d-a720-f2c9e1fd4e64"
      },
      "outputs": [
        {
          "data": {
            "text/plain": [
              "'123 suhana apt, marathalli, Banaglore'"
            ]
          },
          "execution_count": 80,
          "metadata": {},
          "output_type": "execute_result"
        }
      ],
      "source": [
        "#use case\n",
        "address = \"123 suhana apt, marathalli, Banaglore\"\n",
        "address"
      ]
    },
    {
      "cell_type": "code",
      "execution_count": null,
      "id": "ed418340-e783-4a40-bd0c-da54bd084ca4",
      "metadata": {
        "id": "ed418340-e783-4a40-bd0c-da54bd084ca4",
        "outputId": "a8aa12d8-4dae-49f5-a968-f34f314b727d"
      },
      "outputs": [
        {
          "data": {
            "text/plain": [
              "'123 suhana apartment, marathalli, Banaglore'"
            ]
          },
          "execution_count": 81,
          "metadata": {},
          "output_type": "execute_result"
        }
      ],
      "source": [
        "address.replace(\"apt\", \"apartment\")"
      ]
    },
    {
      "cell_type": "code",
      "execution_count": null,
      "id": "343841bb-7892-460a-a5e5-06f7044f7202",
      "metadata": {
        "id": "343841bb-7892-460a-a5e5-06f7044f7202",
        "outputId": "ca0fab2e-29ff-4015-c6bf-aaca04d1ebb6"
      },
      "outputs": [
        {
          "data": {
            "text/plain": [
              "'Be right back, talk to you later, Laughing out loud'"
            ]
          },
          "execution_count": 83,
          "metadata": {},
          "output_type": "execute_result"
        }
      ],
      "source": [
        "text = \"BRB, TTYL, LOL\"\n",
        "text.replace(\"BRB\", \"Be right back\").replace(\"TTYL\",\"talk to you later\").replace(\"LOL\", \"Laughing out loud\")"
      ]
    },
    {
      "cell_type": "code",
      "execution_count": null,
      "id": "67159cd9-38e8-49cd-94b6-7f3dfafc0b6b",
      "metadata": {
        "id": "67159cd9-38e8-49cd-94b6-7f3dfafc0b6b",
        "outputId": "5a7413f3-7dfc-4066-d5d4-3bd48ea1425b"
      },
      "outputs": [
        {
          "data": {
            "text/plain": [
              "'hello world'"
            ]
          },
          "execution_count": 85,
          "metadata": {},
          "output_type": "execute_result"
        }
      ],
      "source": [
        "text = \"Hello World\"\n",
        "text.lower()"
      ]
    },
    {
      "cell_type": "code",
      "execution_count": null,
      "id": "eb08bbcb-1385-4f1a-9656-753bb64c06bb",
      "metadata": {
        "id": "eb08bbcb-1385-4f1a-9656-753bb64c06bb",
        "outputId": "dd88a0bd-9169-49d3-874f-628c423780d9"
      },
      "outputs": [
        {
          "data": {
            "text/plain": [
              "'HELLO WORLD'"
            ]
          },
          "execution_count": 86,
          "metadata": {},
          "output_type": "execute_result"
        }
      ],
      "source": [
        "text.upper()"
      ]
    },
    {
      "cell_type": "code",
      "execution_count": null,
      "id": "a84a50b1-22dc-4632-a605-f15998b4f216",
      "metadata": {
        "id": "a84a50b1-22dc-4632-a605-f15998b4f216",
        "outputId": "9e95bf8d-7264-4ed5-b2e8-50d484e9283d"
      },
      "outputs": [
        {
          "data": {
            "text/plain": [
              "'Hello World'"
            ]
          },
          "execution_count": 87,
          "metadata": {},
          "output_type": "execute_result"
        }
      ],
      "source": [
        "text.title()"
      ]
    },
    {
      "cell_type": "code",
      "execution_count": null,
      "id": "e46dc10e-7415-4350-b072-d31388c3dba7",
      "metadata": {
        "id": "e46dc10e-7415-4350-b072-d31388c3dba7",
        "outputId": "5b79da8b-921c-445b-f415-199388ac341a"
      },
      "outputs": [
        {
          "data": {
            "text/plain": [
              "'i AM A sTUDENT'"
            ]
          },
          "execution_count": 88,
          "metadata": {},
          "output_type": "execute_result"
        }
      ],
      "source": [
        "text = \" Iam a Student\"\n",
        "text.swapcase()"
      ]
    },
    {
      "cell_type": "code",
      "execution_count": null,
      "id": "dcb8a804-1608-423f-ae66-ae5c9133565a",
      "metadata": {
        "id": "dcb8a804-1608-423f-ae66-ae5c9133565a",
        "outputId": "15273e45-aec0-4896-9631-fa3689b3239a"
      },
      "outputs": [
        {
          "data": {
            "text/plain": [
              "'I am a student'"
            ]
          },
          "execution_count": 89,
          "metadata": {},
          "output_type": "execute_result"
        }
      ],
      "source": [
        "text.capitalize()"
      ]
    },
    {
      "cell_type": "code",
      "execution_count": null,
      "id": "07853dcb-9d25-4a85-9bb5-1783054d035c",
      "metadata": {
        "id": "07853dcb-9d25-4a85-9bb5-1783054d035c",
        "outputId": "87d74d11-7260-4539-afa9-c9fcb3b8c036"
      },
      "outputs": [
        {
          "data": {
            "text/plain": [
              "True"
            ]
          },
          "execution_count": 92,
          "metadata": {},
          "output_type": "execute_result"
        }
      ],
      "source": [
        "#string searching\n",
        "sentence = \"I am a student at pwskills\"\n",
        "\"am\" in sentence"
      ]
    },
    {
      "cell_type": "code",
      "execution_count": null,
      "id": "ad290e81-31a2-4ddd-a523-06caf6c87be6",
      "metadata": {
        "id": "ad290e81-31a2-4ddd-a523-06caf6c87be6",
        "outputId": "aafbd1ae-b004-42f3-940a-643504c76fa7"
      },
      "outputs": [
        {
          "name": "stdout",
          "output_type": "stream",
          "text": [
            "Not present\n"
          ]
        }
      ],
      "source": [
        "sentence = \"I am a student at pwskills\"\n",
        "search_word = \"mat\"\n",
        "if search_word in sentence:\n",
        "    print(\"The search word is present\")\n",
        "else:\n",
        "    print(\"Not present\")"
      ]
    },
    {
      "cell_type": "code",
      "execution_count": null,
      "id": "ec65e4db-7c8c-400f-a85d-5f3f8bfdd9dd",
      "metadata": {
        "id": "ec65e4db-7c8c-400f-a85d-5f3f8bfdd9dd",
        "outputId": "a42c25eb-ed82-45c3-a954-dffce9dafc54"
      },
      "outputs": [
        {
          "name": "stdout",
          "output_type": "stream",
          "text": [
            "valid email\n"
          ]
        }
      ],
      "source": [
        "email = \"ajay123@gmail.com\"\n",
        "if \"@\" in email:\n",
        "    print(\"valid email\")\n",
        "else:\n",
        "    print(\"Invalid email\")"
      ]
    },
    {
      "cell_type": "code",
      "execution_count": null,
      "id": "3e0bbc8e-c6e8-4559-91e9-1a54c51a711f",
      "metadata": {
        "id": "3e0bbc8e-c6e8-4559-91e9-1a54c51a711f",
        "outputId": "4ae434e0-cd72-45e0-d5db-8bae25ffa18a"
      },
      "outputs": [
        {
          "name": "stdout",
          "output_type": "stream",
          "text": [
            "Its a pdf file\n"
          ]
        }
      ],
      "source": [
        "document = \"some_file.pdf\"\n",
        "if \".pdf\" in document:\n",
        "    print(\"Its a pdf file\")\n",
        "else:\n",
        "    print(\"Not a pdf file\")"
      ]
    },
    {
      "cell_type": "code",
      "execution_count": null,
      "id": "da0c3a16-449b-4aef-9c41-32d205e85119",
      "metadata": {
        "id": "da0c3a16-449b-4aef-9c41-32d205e85119",
        "outputId": "e06c8dbc-5c22-4295-d0d3-403690a6e494"
      },
      "outputs": [
        {
          "data": {
            "text/plain": [
              "True"
            ]
          },
          "execution_count": 98,
          "metadata": {},
          "output_type": "execute_result"
        }
      ],
      "source": [
        "#string comparison\n",
        "str1 = \"hello\"\n",
        "str2 = \"hello\"\n",
        "str1 == str2"
      ]
    },
    {
      "cell_type": "code",
      "execution_count": null,
      "id": "3fe1d843-1393-466f-adc6-d517153023be",
      "metadata": {
        "id": "3fe1d843-1393-466f-adc6-d517153023be",
        "outputId": "930384ab-b9a5-4e9c-c8c0-4af0022ad7bf"
      },
      "outputs": [
        {
          "data": {
            "text/plain": [
              "False"
            ]
          },
          "execution_count": 99,
          "metadata": {},
          "output_type": "execute_result"
        }
      ],
      "source": [
        "str1 = \"Hello\"\n",
        "str2 = \"hello\"\n",
        "str1 == str2"
      ]
    },
    {
      "cell_type": "code",
      "execution_count": null,
      "id": "876975e7-c6bf-4dde-bdea-e62a4fe25a26",
      "metadata": {
        "id": "876975e7-c6bf-4dde-bdea-e62a4fe25a26",
        "outputId": "5486a0bd-964c-4879-c809-7148e4d56a2b"
      },
      "outputs": [
        {
          "data": {
            "text/plain": [
              "True"
            ]
          },
          "execution_count": 100,
          "metadata": {},
          "output_type": "execute_result"
        }
      ],
      "source": [
        "str1 = \"Hello\"\n",
        "str2 = \"hello\"\n",
        "str1.lower() == str2.lower()"
      ]
    },
    {
      "cell_type": "code",
      "execution_count": null,
      "id": "18198a3b-64b7-4ca9-a8b4-40d3e252fc6e",
      "metadata": {
        "id": "18198a3b-64b7-4ca9-a8b4-40d3e252fc6e",
        "outputId": "f97e3152-fe5f-4551-99f2-0292ca862fb4"
      },
      "outputs": [
        {
          "name": "stdout",
          "output_type": "stream",
          "text": [
            "username is available\n"
          ]
        }
      ],
      "source": [
        "reg_username = [\"pw\", \"PW\", \"pW\"]\n",
        "new_user = \"PW1\"\n",
        "if new_user in reg_username:\n",
        "    print(\"already in use\")\n",
        "else:\n",
        "    print(\"username is available\")"
      ]
    },
    {
      "cell_type": "code",
      "execution_count": null,
      "id": "4ee0f628-5bac-4102-9353-bec43030bc35",
      "metadata": {
        "id": "4ee0f628-5bac-4102-9353-bec43030bc35",
        "outputId": "c0e64d98-8e59-4c71-dade-da7582cb93a0"
      },
      "outputs": [
        {
          "name": "stdin",
          "output_type": "stream",
          "text": [
            "scan the product code P124\n"
          ]
        },
        {
          "name": "stdout",
          "output_type": "stream",
          "text": [
            "Talk to receptionist\n"
          ]
        }
      ],
      "source": [
        "product_code = \"P123\"\n",
        "scanned_code = input(\"scan the product code\")\n",
        "if product_code == scanned_code:\n",
        "    print(\"The price is 100\")\n",
        "else:\n",
        "    print(\"Talk to receptionist\")"
      ]
    },
    {
      "cell_type": "code",
      "execution_count": null,
      "id": "af5faed8-b887-4081-9026-9b3f6f179d10",
      "metadata": {
        "id": "af5faed8-b887-4081-9026-9b3f6f179d10",
        "outputId": "55080271-26e0-40fc-e6c3-1667444bf1de"
      },
      "outputs": [
        {
          "data": {
            "text/plain": [
              "['Ajay', 'Bijay', 'Sanjay']"
            ]
          },
          "execution_count": 105,
          "metadata": {},
          "output_type": "execute_result"
        }
      ],
      "source": [
        "#STRING ORDERING\n",
        "name = [\"Ajay\", \"Sanjay\", \"Bijay\"]\n",
        "sorted(name)"
      ]
    },
    {
      "cell_type": "code",
      "execution_count": null,
      "id": "fc24547b-4899-46a7-a0b0-730a81332d43",
      "metadata": {
        "id": "fc24547b-4899-46a7-a0b0-730a81332d43",
        "outputId": "a7a8e571-4461-4849-b289-4c8643de2df6"
      },
      "outputs": [
        {
          "data": {
            "text/plain": [
              "['Aalishan', 'KKKH', 'Magic', 'Singham']"
            ]
          },
          "execution_count": 106,
          "metadata": {},
          "output_type": "execute_result"
        }
      ],
      "source": [
        "playlist = [\"KKKH\", \"Magic\", \"Singham\", \"Aalishan\"]\n",
        "sorted(playlist)"
      ]
    },
    {
      "cell_type": "code",
      "execution_count": null,
      "id": "c32eb0c6-ac92-488b-a165-6c2ba777a496",
      "metadata": {
        "id": "c32eb0c6-ac92-488b-a165-6c2ba777a496",
        "outputId": "6637e406-2f38-40ff-d8e3-4283ffb12515"
      },
      "outputs": [
        {
          "data": {
            "text/plain": [
              "'            pwskills       '"
            ]
          },
          "execution_count": 107,
          "metadata": {},
          "output_type": "execute_result"
        }
      ],
      "source": [
        "#common string operations\n",
        "input_str = \"            pwskills       \"\n",
        "input_str"
      ]
    },
    {
      "cell_type": "code",
      "execution_count": null,
      "id": "ac9c6d1f-5ebd-4da7-b8fb-2f57855ba0dd",
      "metadata": {
        "id": "ac9c6d1f-5ebd-4da7-b8fb-2f57855ba0dd",
        "outputId": "9d3b8139-29ee-4faf-d5c4-77b48198a724"
      },
      "outputs": [
        {
          "data": {
            "text/plain": [
              "'pwskills'"
            ]
          },
          "execution_count": 108,
          "metadata": {},
          "output_type": "execute_result"
        }
      ],
      "source": [
        "input_str.strip()"
      ]
    },
    {
      "cell_type": "code",
      "execution_count": null,
      "id": "1b6f79ae-8d26-4259-960e-12e2825f7730",
      "metadata": {
        "id": "1b6f79ae-8d26-4259-960e-12e2825f7730",
        "outputId": "84e4fdd5-8ee9-475f-952c-4eb69e9ad996"
      },
      "outputs": [
        {
          "data": {
            "text/plain": [
              "'Apple'"
            ]
          },
          "execution_count": 109,
          "metadata": {},
          "output_type": "execute_result"
        }
      ],
      "source": [
        "row = \"Apple      \"\n",
        "row.strip()"
      ]
    },
    {
      "cell_type": "code",
      "execution_count": null,
      "id": "cb4147d3-4814-434d-b758-55291a4a97f3",
      "metadata": {
        "id": "cb4147d3-4814-434d-b758-55291a4a97f3",
        "outputId": "fcdd5a57-3e1f-44a2-d89f-4abc19e68ec1"
      },
      "outputs": [
        {
          "data": {
            "text/plain": [
              "'Ajay, data science, teacher'"
            ]
          },
          "execution_count": 110,
          "metadata": {},
          "output_type": "execute_result"
        }
      ],
      "source": [
        "#string splitting\n",
        "data = \"Ajay, data science, teacher\"\n",
        "data"
      ]
    },
    {
      "cell_type": "code",
      "execution_count": null,
      "id": "9fb46971-292c-4934-a72e-16b1fd3e3685",
      "metadata": {
        "id": "9fb46971-292c-4934-a72e-16b1fd3e3685"
      },
      "outputs": [],
      "source": [
        "teacher_info = data.split(',')"
      ]
    },
    {
      "cell_type": "code",
      "execution_count": null,
      "id": "fdaecab7-494d-4e9d-a5c0-05ae18f016a3",
      "metadata": {
        "id": "fdaecab7-494d-4e9d-a5c0-05ae18f016a3",
        "outputId": "c0369f14-986f-4a35-9dd9-02df8b0ae060"
      },
      "outputs": [
        {
          "data": {
            "text/plain": [
              "['Ajay', ' data science', ' teacher']"
            ]
          },
          "execution_count": 112,
          "metadata": {},
          "output_type": "execute_result"
        }
      ],
      "source": [
        "teacher_info"
      ]
    },
    {
      "cell_type": "code",
      "execution_count": null,
      "id": "23a65815-c260-4510-974e-154d887e069a",
      "metadata": {
        "id": "23a65815-c260-4510-974e-154d887e069a"
      },
      "outputs": [],
      "source": [
        "name = teacher_info[0]\n",
        "sub = teacher_info[1]\n",
        "des = teacher_info[2]"
      ]
    },
    {
      "cell_type": "code",
      "execution_count": null,
      "id": "763d7535-060a-4b48-988f-4f218f660cfe",
      "metadata": {
        "id": "763d7535-060a-4b48-988f-4f218f660cfe",
        "outputId": "be2c51b5-41aa-4b41-b213-f560489a7335"
      },
      "outputs": [
        {
          "data": {
            "text/plain": [
              "'Ajay'"
            ]
          },
          "execution_count": 114,
          "metadata": {},
          "output_type": "execute_result"
        }
      ],
      "source": [
        "name"
      ]
    },
    {
      "cell_type": "code",
      "execution_count": null,
      "id": "17287743-6814-4660-8cb6-c18a68adce91",
      "metadata": {
        "id": "17287743-6814-4660-8cb6-c18a68adce91",
        "outputId": "1480173f-2d42-49c5-9dff-24c0134b676c"
      },
      "outputs": [
        {
          "data": {
            "text/plain": [
              "' data science'"
            ]
          },
          "execution_count": 115,
          "metadata": {},
          "output_type": "execute_result"
        }
      ],
      "source": [
        "sub"
      ]
    },
    {
      "cell_type": "code",
      "execution_count": null,
      "id": "c49f629f-c843-43f6-a223-32345462f068",
      "metadata": {
        "id": "c49f629f-c843-43f6-a223-32345462f068",
        "outputId": "0df9b3e2-157f-4f84-be3c-2b6b4eb55e89"
      },
      "outputs": [
        {
          "data": {
            "text/plain": [
              "' teacher'"
            ]
          },
          "execution_count": 116,
          "metadata": {},
          "output_type": "execute_result"
        }
      ],
      "source": [
        "des"
      ]
    },
    {
      "cell_type": "code",
      "execution_count": null,
      "id": "f231590d-4955-4edb-a656-3fdc3725c736",
      "metadata": {
        "id": "f231590d-4955-4edb-a656-3fdc3725c736",
        "outputId": "92e95546-2b17-4e82-ef14-532b94da7186"
      },
      "outputs": [
        {
          "data": {
            "text/plain": [
              "'teacher'"
            ]
          },
          "execution_count": 117,
          "metadata": {},
          "output_type": "execute_result"
        }
      ],
      "source": [
        "des.strip()"
      ]
    },
    {
      "cell_type": "code",
      "execution_count": null,
      "id": "5b2eb83c-54f6-4aa5-b0fc-5ae2b64b6ce2",
      "metadata": {
        "id": "5b2eb83c-54f6-4aa5-b0fc-5ae2b64b6ce2"
      },
      "outputs": [],
      "source": [
        "#Escape sequences >> special combination of characters used within a string"
      ]
    },
    {
      "cell_type": "code",
      "execution_count": null,
      "id": "150c081f-1c88-4385-8fbc-a98e36c60eeb",
      "metadata": {
        "id": "150c081f-1c88-4385-8fbc-a98e36c60eeb"
      },
      "outputs": [],
      "source": [
        "address = \"\"\"123, sanmukha villa,\n",
        "marathalii,\n",
        "bangalore\"\"\""
      ]
    },
    {
      "cell_type": "code",
      "execution_count": null,
      "id": "6214b7d7-3e99-4543-beff-af8ab87f4d34",
      "metadata": {
        "id": "6214b7d7-3e99-4543-beff-af8ab87f4d34",
        "outputId": "e8eb07f3-3c4c-4128-9998-d9d89fddc768"
      },
      "outputs": [
        {
          "data": {
            "text/plain": [
              "'123, sanmukha villa,\\nmarathalii,\\nbangalore'"
            ]
          },
          "execution_count": 120,
          "metadata": {},
          "output_type": "execute_result"
        }
      ],
      "source": [
        "address"
      ]
    },
    {
      "cell_type": "code",
      "execution_count": null,
      "id": "2b10a0b4-2468-43a5-9204-e1c16cb91a7a",
      "metadata": {
        "id": "2b10a0b4-2468-43a5-9204-e1c16cb91a7a",
        "outputId": "7b7fd7a9-6621-4eac-a643-64932a9e3678"
      },
      "outputs": [
        {
          "name": "stdout",
          "output_type": "stream",
          "text": [
            "123, sanmukha villa,\n",
            "marathalii,\n",
            "bangalore\n"
          ]
        }
      ],
      "source": [
        "print(address)"
      ]
    },
    {
      "cell_type": "code",
      "execution_count": null,
      "id": "f3a0c61f-7311-4177-ae4e-3b6ec6ae76eb",
      "metadata": {
        "id": "f3a0c61f-7311-4177-ae4e-3b6ec6ae76eb"
      },
      "outputs": [],
      "source": [
        "address = \"\"\"123, sanmukha villa,\\nmarathalii, \\nbangalore\"\"\""
      ]
    },
    {
      "cell_type": "code",
      "execution_count": null,
      "id": "b1b8b9e7-0616-45d0-b62b-d72e7a79a888",
      "metadata": {
        "id": "b1b8b9e7-0616-45d0-b62b-d72e7a79a888",
        "outputId": "b4e8da82-8e71-4e1b-bc3c-375135bf6747"
      },
      "outputs": [
        {
          "name": "stdout",
          "output_type": "stream",
          "text": [
            "123, sanmukha villa,\n",
            "marathalii, \n",
            "bangalore\n"
          ]
        }
      ],
      "source": [
        "print(address) #\\n >> to insert a new line character"
      ]
    },
    {
      "cell_type": "code",
      "execution_count": null,
      "id": "04e409f5-357d-43ab-8a07-e0a14ecc63c1",
      "metadata": {
        "id": "04e409f5-357d-43ab-8a07-e0a14ecc63c1",
        "outputId": "04125ef5-8e36-4ac0-ba61-66c21217688c"
      },
      "outputs": [
        {
          "name": "stdout",
          "output_type": "stream",
          "text": [
            "Name\tAge\tGrade\n",
            "Ajay\t21\tA\n",
            "Bijay\t22\tA+\n"
          ]
        }
      ],
      "source": [
        "#\\t escape character \\t>> tab\n",
        "table = \"Name\\tAge\\tGrade\\nAjay\\t21\\tA\\nBijay\\t22\\tA+\"\n",
        "print(table)"
      ]
    },
    {
      "cell_type": "code",
      "execution_count": null,
      "id": "63d3d72e-8e60-4d07-afa1-3242c95fedb7",
      "metadata": {
        "id": "63d3d72e-8e60-4d07-afa1-3242c95fedb7",
        "outputId": "d8e8bae7-3e2f-46f0-e9a0-2ee84a84fff3"
      },
      "outputs": [
        {
          "name": "stdout",
          "output_type": "stream",
          "text": [
            "C:\\USERS\\DOWNLOADS\\FILES.txt\n"
          ]
        }
      ],
      "source": [
        "file_path = \"C:\\\\USERS\\\\DOWNLOADS\\\\FILES.txt\"\n",
        "print(file_path)"
      ]
    },
    {
      "cell_type": "code",
      "execution_count": null,
      "id": "96d26398-ef63-4164-9e08-63dbd51f035f",
      "metadata": {
        "id": "96d26398-ef63-4164-9e08-63dbd51f035f",
        "outputId": "440ef7c0-0b9c-4bc5-e910-3d63a17034f1"
      },
      "outputs": [
        {
          "name": "stdout",
          "output_type": "stream",
          "text": [
            "I can't believe its friday\n"
          ]
        }
      ],
      "source": [
        "#\\' single quote escape\n",
        "str1 = 'I can\\'t believe its friday'\n",
        "print(str1)"
      ]
    },
    {
      "cell_type": "code",
      "execution_count": null,
      "id": "66db2aa7-fa1b-4419-a2ad-a4c7e5af5a0b",
      "metadata": {
        "id": "66db2aa7-fa1b-4419-a2ad-a4c7e5af5a0b",
        "outputId": "a4799ac0-f222-4eae-c6a2-039ed0e5d001"
      },
      "outputs": [
        {
          "name": "stdout",
          "output_type": "stream",
          "text": [
            "Ajay, I am going to delhi\n"
          ]
        }
      ],
      "source": [
        "#carriage return \\r >> moves the cursor to the beginning of line\n",
        "print(\"Hello, I am \\rAjay, I am going to delhi\")"
      ]
    },
    {
      "cell_type": "code",
      "execution_count": null,
      "id": "e761b453-f8b0-4cdd-8089-6479d5fea2c2",
      "metadata": {
        "id": "e761b453-f8b0-4cdd-8089-6479d5fea2c2",
        "outputId": "607af354-8551-4ceb-bb51-4bd04096dd51"
      },
      "outputs": [
        {
          "name": "stdout",
          "output_type": "stream",
          "text": [
            "My name is Ajay\n"
          ]
        }
      ],
      "source": [
        "#string formatting>> creating string with placeholder for variables\n",
        "print(\"My name is Ajay\")\n",
        "print(\"My name is Bijay\")\n",
        "print(\"My name is Sanjay\")"
      ]
    },
    {
      "cell_type": "code",
      "execution_count": null,
      "id": "60d3f17b-7184-4c51-9403-83cea99950a9",
      "metadata": {
        "id": "60d3f17b-7184-4c51-9403-83cea99950a9",
        "outputId": "68f4b932-723a-4833-b6c6-ae6d31b0329a"
      },
      "outputs": [
        {
          "name": "stdout",
          "output_type": "stream",
          "text": [
            "hello Bijay, how are you?\n"
          ]
        }
      ],
      "source": [
        "name = \"Bijay\"\n",
        "greetings = f\"hello {name}, how are you?\"\n",
        "print(greetings)"
      ]
    },
    {
      "cell_type": "code",
      "execution_count": null,
      "id": "d4144fc5-710c-4319-972b-b9ce2f09e210",
      "metadata": {
        "id": "d4144fc5-710c-4319-972b-b9ce2f09e210",
        "outputId": "0ef2ac00-7414-4ae2-816f-782d5a38ef00"
      },
      "outputs": [
        {
          "name": "stdout",
          "output_type": "stream",
          "text": [
            "hello Ajay, how are you?\n"
          ]
        }
      ],
      "source": [
        "print(\"hello Ajay, how are you?\")"
      ]
    },
    {
      "cell_type": "code",
      "execution_count": null,
      "id": "d511ce70-a2cc-4230-8122-b1f5eb96a77b",
      "metadata": {
        "id": "d511ce70-a2cc-4230-8122-b1f5eb96a77b",
        "outputId": "3aeadb42-5ae0-46dd-9cb2-d9b698d3b64e"
      },
      "outputs": [
        {
          "name": "stdout",
          "output_type": "stream",
          "text": [
            "Hello PW Skills, wish you a wonderful day\n"
          ]
        }
      ],
      "source": [
        "#string formatting\n",
        "name = \"PW Skills\"\n",
        "greeting = \"Hello %s, wish you a wonderful day\"%name\n",
        "print(greeting)"
      ]
    },
    {
      "cell_type": "code",
      "execution_count": null,
      "id": "435643a7-c2ff-4330-a547-425b1874e627",
      "metadata": {
        "id": "435643a7-c2ff-4330-a547-425b1874e627",
        "outputId": "ea0c8ba6-c0f0-4f58-efc1-bf8e75601743"
      },
      "outputs": [
        {
          "name": "stdout",
          "output_type": "stream",
          "text": [
            "Hello, Ajay welcome to Data Science\n"
          ]
        }
      ],
      "source": [
        "#.format\n",
        "template = \"Hello, {} welcome to {}\"\n",
        "message = template.format(\"Ajay\", \"Data Science\")\n",
        "print(message)"
      ]
    },
    {
      "cell_type": "code",
      "execution_count": null,
      "id": "e3cc53d9-2cfd-4eb9-a1c1-f130f7c812bd",
      "metadata": {
        "id": "e3cc53d9-2cfd-4eb9-a1c1-f130f7c812bd",
        "outputId": "095c22b8-ff8e-413f-f9f4-ccb79c50c610"
      },
      "outputs": [
        {
          "data": {
            "text/plain": [
              "'My course is pw data + frontend and its duration is 4 years.'"
            ]
          },
          "execution_count": 140,
          "metadata": {},
          "output_type": "execute_result"
        }
      ],
      "source": [
        "#f string (formatted string literals)\n",
        "course = \"pw data + frontend\"\n",
        "duration = 4\n",
        "f\"My course is {course} and its duration is {duration} years.\""
      ]
    },
    {
      "cell_type": "code",
      "execution_count": null,
      "id": "528c0145-30ad-430d-9caf-7ce85ff253f7",
      "metadata": {
        "id": "528c0145-30ad-430d-9caf-7ce85ff253f7",
        "outputId": "a03dce5e-d1c8-400f-d77a-2140c32497bd"
      },
      "outputs": [
        {
          "name": "stdout",
          "output_type": "stream",
          "text": [
            "Hello user, Ajay, Today is 2024-06-03 post.\n"
          ]
        }
      ],
      "source": [
        "user_name = \"Ajay\"\n",
        "post_date = \"2024-06-03\"\n",
        "\n",
        "print(f\"Hello user, {user_name}, Today is {post_date} post.\")"
      ]
    },
    {
      "cell_type": "code",
      "execution_count": null,
      "id": "b16d7b3e-1d98-49a0-a9f7-34b7681b708a",
      "metadata": {
        "id": "b16d7b3e-1d98-49a0-a9f7-34b7681b708a",
        "outputId": "8eb6726d-aae3-4d29-f467-eb1613fe11fa"
      },
      "outputs": [
        {
          "data": {
            "text/plain": [
              "'30 is equals to 86.0F'"
            ]
          },
          "execution_count": 142,
          "metadata": {},
          "output_type": "execute_result"
        }
      ],
      "source": [
        "celsius = 30\n",
        "f\"{celsius} is equals to {(celsius * 9/5)+32}F\""
      ]
    },
    {
      "cell_type": "code",
      "execution_count": null,
      "id": "3c4cbb93-e3d0-496f-9c2a-c278ecb2c01d",
      "metadata": {
        "id": "3c4cbb93-e3d0-496f-9c2a-c278ecb2c01d",
        "outputId": "66af6526-9f89-405b-bedc-0c87820a8ef2"
      },
      "outputs": [
        {
          "data": {
            "text/plain": [
              "True"
            ]
          },
          "execution_count": 143,
          "metadata": {},
          "output_type": "execute_result"
        }
      ],
      "source": [
        "str1 = \"pwskills\"\n",
        "str1.startswith(\"p\")"
      ]
    },
    {
      "cell_type": "code",
      "execution_count": null,
      "id": "992721cb-9784-43e7-bcfa-a047883e4cd5",
      "metadata": {
        "id": "992721cb-9784-43e7-bcfa-a047883e4cd5",
        "outputId": "af74f625-4b59-423c-d0ef-1ae3db138046"
      },
      "outputs": [
        {
          "data": {
            "text/plain": [
              "True"
            ]
          },
          "execution_count": 144,
          "metadata": {},
          "output_type": "execute_result"
        }
      ],
      "source": [
        "str1 = \"pwskills\"\n",
        "str1.startswith(\"pws\")"
      ]
    },
    {
      "cell_type": "code",
      "execution_count": null,
      "id": "d21578ee-794a-43c9-9bc1-4e7f4d66475f",
      "metadata": {
        "id": "d21578ee-794a-43c9-9bc1-4e7f4d66475f",
        "outputId": "074f1580-f375-40ad-ff83-a2172d4b8186"
      },
      "outputs": [
        {
          "data": {
            "text/plain": [
              "False"
            ]
          },
          "execution_count": 145,
          "metadata": {},
          "output_type": "execute_result"
        }
      ],
      "source": [
        "str1 = \"pwskills\"\n",
        "str1.startswith(\"aws\")"
      ]
    },
    {
      "cell_type": "code",
      "execution_count": null,
      "id": "e8d95082-43fb-4fff-b6f5-23b07f25effe",
      "metadata": {
        "id": "e8d95082-43fb-4fff-b6f5-23b07f25effe",
        "outputId": "d54e91b1-6038-489b-e635-180977ea99e0"
      },
      "outputs": [
        {
          "data": {
            "text/plain": [
              "True"
            ]
          },
          "execution_count": 146,
          "metadata": {},
          "output_type": "execute_result"
        }
      ],
      "source": [
        "str1.endswith(\"lls\")"
      ]
    },
    {
      "cell_type": "code",
      "execution_count": null,
      "id": "66123aa0-d02d-4031-bcb8-22da6adcb9e8",
      "metadata": {
        "id": "66123aa0-d02d-4031-bcb8-22da6adcb9e8",
        "outputId": "14818536-bb98-4992-93ad-208d0625862a"
      },
      "outputs": [
        {
          "data": {
            "text/plain": [
              "False"
            ]
          },
          "execution_count": 147,
          "metadata": {},
          "output_type": "execute_result"
        }
      ],
      "source": [
        "str1.endswith(\"lly\")"
      ]
    },
    {
      "cell_type": "code",
      "execution_count": null,
      "id": "20973f9a-7177-4934-8d05-cba238841a69",
      "metadata": {
        "id": "20973f9a-7177-4934-8d05-cba238841a69",
        "outputId": "05e3960f-c933-4f10-98d1-28c27165a72b"
      },
      "outputs": [
        {
          "data": {
            "text/plain": [
              "True"
            ]
          },
          "execution_count": 148,
          "metadata": {},
          "output_type": "execute_result"
        }
      ],
      "source": [
        "a = \"123abc\"\n",
        "a.isalnum()"
      ]
    },
    {
      "cell_type": "code",
      "execution_count": null,
      "id": "5cf293ab-88ad-40ee-8043-5464b1bed826",
      "metadata": {
        "id": "5cf293ab-88ad-40ee-8043-5464b1bed826",
        "outputId": "019ce536-d1ec-4a30-e3cd-9b9c181ada45"
      },
      "outputs": [
        {
          "data": {
            "text/plain": [
              "True"
            ]
          },
          "execution_count": 149,
          "metadata": {},
          "output_type": "execute_result"
        }
      ],
      "source": [
        "a = \"Abs\"\n",
        "a.isalnum()"
      ]
    },
    {
      "cell_type": "code",
      "execution_count": null,
      "id": "44a1a7f5-045c-4dcc-ac09-32bf33ea1460",
      "metadata": {
        "id": "44a1a7f5-045c-4dcc-ac09-32bf33ea1460",
        "outputId": "3173e4eb-4621-405c-b78d-10271174fc69"
      },
      "outputs": [
        {
          "data": {
            "text/plain": [
              "True"
            ]
          },
          "execution_count": 151,
          "metadata": {},
          "output_type": "execute_result"
        }
      ],
      "source": [
        "a = \"123\"\n",
        "a.isalnum()"
      ]
    },
    {
      "cell_type": "code",
      "execution_count": null,
      "id": "a468210f-4715-412b-9df5-70d1ad0a04e9",
      "metadata": {
        "id": "a468210f-4715-412b-9df5-70d1ad0a04e9",
        "outputId": "f6818408-d788-43d0-868c-ff04b2d57bc6"
      },
      "outputs": [
        {
          "data": {
            "text/plain": [
              "8"
            ]
          },
          "execution_count": 152,
          "metadata": {},
          "output_type": "execute_result"
        }
      ],
      "source": [
        "s = \"pwskills\"\n",
        "len(s)"
      ]
    },
    {
      "cell_type": "code",
      "execution_count": null,
      "id": "ba9dfc51-5eb1-4a58-a723-9bc90da1cdb8",
      "metadata": {
        "id": "ba9dfc51-5eb1-4a58-a723-9bc90da1cdb8",
        "outputId": "911be264-f7a0-429f-ecb4-c01c51862906"
      },
      "outputs": [
        {
          "name": "stdout",
          "output_type": "stream",
          "text": [
            "p\n",
            "w\n",
            "s\n",
            "k\n",
            "i\n",
            "l\n",
            "l\n",
            "s\n",
            "8\n"
          ]
        }
      ],
      "source": [
        "count = 0\n",
        "for i in s:\n",
        "    print(i)\n",
        "    count = count+1\n",
        "print(count)"
      ]
    },
    {
      "cell_type": "code",
      "execution_count": null,
      "id": "13bec54b-4a15-46df-a341-04eb52a70c55",
      "metadata": {
        "id": "13bec54b-4a15-46df-a341-04eb52a70c55",
        "outputId": "e5dc85a8-5233-4640-a344-2a2a004a3fdf"
      },
      "outputs": [
        {
          "data": {
            "text/plain": [
              "8"
            ]
          },
          "execution_count": 154,
          "metadata": {},
          "output_type": "execute_result"
        }
      ],
      "source": [
        "count"
      ]
    },
    {
      "cell_type": "code",
      "execution_count": null,
      "id": "efeb23f4-c7d3-4067-98dc-329e623cacaa",
      "metadata": {
        "id": "efeb23f4-c7d3-4067-98dc-329e623cacaa"
      },
      "outputs": [],
      "source": []
    }
  ],
  "metadata": {
    "kernelspec": {
      "display_name": "Python 3 (ipykernel)",
      "language": "python",
      "name": "python3"
    },
    "language_info": {
      "codemirror_mode": {
        "name": "ipython",
        "version": 3
      },
      "file_extension": ".py",
      "mimetype": "text/x-python",
      "name": "python",
      "nbconvert_exporter": "python",
      "pygments_lexer": "ipython3",
      "version": "3.10.8"
    },
    "colab": {
      "provenance": [],
      "include_colab_link": true
    }
  },
  "nbformat": 4,
  "nbformat_minor": 5
}