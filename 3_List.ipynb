{
  "cells": [
    {
      "cell_type": "markdown",
      "metadata": {
        "id": "view-in-github",
        "colab_type": "text"
      },
      "source": [
        "<a href=\"https://colab.research.google.com/github/Ankita-da/Data-type-and-structure/blob/main/3_List.ipynb\" target=\"_parent\"><img src=\"https://colab.research.google.com/assets/colab-badge.svg\" alt=\"Open In Colab\"/></a>"
      ]
    },
    {
      "cell_type": "code",
      "execution_count": null,
      "id": "e6168066-e3e7-49de-bdde-01ad0c85586a",
      "metadata": {
        "id": "e6168066-e3e7-49de-bdde-01ad0c85586a"
      },
      "outputs": [],
      "source": [
        "#List are ordered collection of items\n",
        "#[]\n",
        "#list is like a shopping bag which can store everything\n",
        "#cab store any datatype"
      ]
    },
    {
      "cell_type": "code",
      "execution_count": null,
      "id": "a031843c-1c1c-4120-a10d-e255fab112ad",
      "metadata": {
        "id": "a031843c-1c1c-4120-a10d-e255fab112ad",
        "outputId": "a1376dda-0e3d-49fa-f2fb-02c7b7a4f6a4"
      },
      "outputs": [
        {
          "data": {
            "text/plain": [
              "list"
            ]
          },
          "execution_count": 2,
          "metadata": {},
          "output_type": "execute_result"
        }
      ],
      "source": [
        "type([])"
      ]
    },
    {
      "cell_type": "code",
      "execution_count": null,
      "id": "f84ab760-d903-454c-b1ab-5f28fd509376",
      "metadata": {
        "id": "f84ab760-d903-454c-b1ab-5f28fd509376"
      },
      "outputs": [],
      "source": [
        "grocery_list = [\"Milk\", \"Orange\", 1, 2.2, True, 3+5j]"
      ]
    },
    {
      "cell_type": "code",
      "execution_count": null,
      "id": "3ecc1d2c-522c-4fd0-b6ab-48351a5636a4",
      "metadata": {
        "id": "3ecc1d2c-522c-4fd0-b6ab-48351a5636a4",
        "outputId": "d3e3fb0c-f760-40a8-f3d9-a2359d0d9b2d"
      },
      "outputs": [
        {
          "data": {
            "text/plain": [
              "list"
            ]
          },
          "execution_count": 4,
          "metadata": {},
          "output_type": "execute_result"
        }
      ],
      "source": [
        "type(grocery_list)"
      ]
    },
    {
      "cell_type": "code",
      "execution_count": null,
      "id": "a7b6ed2d-b543-4adc-b54d-bedf9129b115",
      "metadata": {
        "id": "a7b6ed2d-b543-4adc-b54d-bedf9129b115"
      },
      "outputs": [],
      "source": [
        "#lists are mutable"
      ]
    },
    {
      "cell_type": "code",
      "execution_count": null,
      "id": "4a70fd08-c5d9-47a8-8fe4-166035817d7b",
      "metadata": {
        "id": "4a70fd08-c5d9-47a8-8fe4-166035817d7b",
        "outputId": "71ebf4df-bc91-4082-817c-cf2142b0d154"
      },
      "outputs": [
        {
          "data": {
            "text/plain": [
              "'Milk'"
            ]
          },
          "execution_count": 6,
          "metadata": {},
          "output_type": "execute_result"
        }
      ],
      "source": [
        "grocery_list[0]"
      ]
    },
    {
      "cell_type": "code",
      "execution_count": null,
      "id": "6a07561a-4620-461e-801b-a83e7e583eba",
      "metadata": {
        "id": "6a07561a-4620-461e-801b-a83e7e583eba",
        "outputId": "1912b8c1-2b79-4114-a7f4-6b67c428071f"
      },
      "outputs": [
        {
          "data": {
            "text/plain": [
              "(3+5j)"
            ]
          },
          "execution_count": 7,
          "metadata": {},
          "output_type": "execute_result"
        }
      ],
      "source": [
        "grocery_list[-1]"
      ]
    },
    {
      "cell_type": "code",
      "execution_count": null,
      "id": "c5ce4eb0-60fe-4f76-9850-e85c1f9daac4",
      "metadata": {
        "id": "c5ce4eb0-60fe-4f76-9850-e85c1f9daac4",
        "outputId": "6cae217c-63ad-4d82-c2ec-6383f7485537"
      },
      "outputs": [
        {
          "data": {
            "text/plain": [
              "['Orange', 1, 2.2, True, (3+5j)]"
            ]
          },
          "execution_count": 8,
          "metadata": {},
          "output_type": "execute_result"
        }
      ],
      "source": [
        "grocery_list[1:]"
      ]
    },
    {
      "cell_type": "code",
      "execution_count": null,
      "id": "d8f724ee-0e92-4977-b0c0-a420eea3dbfc",
      "metadata": {
        "id": "d8f724ee-0e92-4977-b0c0-a420eea3dbfc",
        "outputId": "8efdd6c8-8a70-4d8e-ff92-2ea309e8bb73"
      },
      "outputs": [
        {
          "data": {
            "text/plain": [
              "['Orange', 1, 2.2]"
            ]
          },
          "execution_count": 9,
          "metadata": {},
          "output_type": "execute_result"
        }
      ],
      "source": [
        "grocery_list[1:4]"
      ]
    },
    {
      "cell_type": "code",
      "execution_count": null,
      "id": "2ede2c98-72f3-446d-b8da-b80aeb1a2d87",
      "metadata": {
        "id": "2ede2c98-72f3-446d-b8da-b80aeb1a2d87",
        "outputId": "3a504c9d-03e9-4e9f-904a-81fd422ebf16"
      },
      "outputs": [
        {
          "data": {
            "text/plain": [
              "['Action2', 'Comdey', 'thriller']"
            ]
          },
          "execution_count": 10,
          "metadata": {},
          "output_type": "execute_result"
        }
      ],
      "source": [
        "movies = [\"Action1\",\"Action2\", \"Comdey\", \"thriller\"]\n",
        "movies[1:]"
      ]
    },
    {
      "cell_type": "code",
      "execution_count": null,
      "id": "7e31daae-1ca3-4608-bfb9-63a5604a3459",
      "metadata": {
        "id": "7e31daae-1ca3-4608-bfb9-63a5604a3459",
        "outputId": "a4b7890e-fe51-4e43-b735-c950a2da1714"
      },
      "outputs": [
        {
          "data": {
            "text/plain": [
              "['Action1', 'Action2', 'Comdey']"
            ]
          },
          "execution_count": 11,
          "metadata": {},
          "output_type": "execute_result"
        }
      ],
      "source": [
        "movies[0:3]"
      ]
    },
    {
      "cell_type": "code",
      "execution_count": null,
      "id": "c61e7236-84e4-4095-8e78-4e6f070a8e25",
      "metadata": {
        "id": "c61e7236-84e4-4095-8e78-4e6f070a8e25",
        "outputId": "a4557c7e-2be7-400d-8765-767d58424da4"
      },
      "outputs": [
        {
          "data": {
            "text/plain": [
              "'index'"
            ]
          },
          "execution_count": 12,
          "metadata": {},
          "output_type": "execute_result"
        }
      ],
      "source": [
        "pages = [\"Title page\", \"chap1\", \"chap2\", \"conclusion\", \"index\"]\n",
        "pages[-1]"
      ]
    },
    {
      "cell_type": "code",
      "execution_count": null,
      "id": "09005d75-a978-4101-8c99-0cfecc72c34c",
      "metadata": {
        "id": "09005d75-a978-4101-8c99-0cfecc72c34c",
        "outputId": "3b93783a-97b7-4723-901b-a230bbb2ca24"
      },
      "outputs": [
        {
          "data": {
            "text/plain": [
              "'conclusion'"
            ]
          },
          "execution_count": 13,
          "metadata": {},
          "output_type": "execute_result"
        }
      ],
      "source": [
        "pages[-2]"
      ]
    },
    {
      "cell_type": "code",
      "execution_count": null,
      "id": "a801073c-f31b-472e-a50e-e4a287624c1a",
      "metadata": {
        "id": "a801073c-f31b-472e-a50e-e4a287624c1a",
        "outputId": "2bb62bcb-c07e-41b6-e150-d99d6ea337da"
      },
      "outputs": [
        {
          "data": {
            "text/plain": [
              "'Ajay'"
            ]
          },
          "execution_count": 14,
          "metadata": {},
          "output_type": "execute_result"
        }
      ],
      "source": [
        "queue = [\"Ranjan\",\"Sanjay\",\"Bijay\",\"Ajay\"]\n",
        "queue[-1]"
      ]
    },
    {
      "cell_type": "code",
      "execution_count": null,
      "id": "8f9ce62e-d17c-4421-aa06-9dbb7dee6ecb",
      "metadata": {
        "id": "8f9ce62e-d17c-4421-aa06-9dbb7dee6ecb",
        "outputId": "ef8536b8-9946-4011-c15c-d7a06f053266"
      },
      "outputs": [
        {
          "data": {
            "text/plain": [
              "'Bijay'"
            ]
          },
          "execution_count": 15,
          "metadata": {},
          "output_type": "execute_result"
        }
      ],
      "source": [
        "queue[-2]"
      ]
    },
    {
      "cell_type": "code",
      "execution_count": null,
      "id": "081cee3a-543b-4df4-a614-e369f2636768",
      "metadata": {
        "id": "081cee3a-543b-4df4-a614-e369f2636768",
        "outputId": "d15db921-0568-46a1-e59b-1fe66cf09a0d"
      },
      "outputs": [
        {
          "data": {
            "text/plain": [
              "['Apple', 'Orange']"
            ]
          },
          "execution_count": 16,
          "metadata": {},
          "output_type": "execute_result"
        }
      ],
      "source": [
        "lis = [\"Apple\", \"Orange\"]\n",
        "lis"
      ]
    },
    {
      "cell_type": "code",
      "execution_count": null,
      "id": "5c0631e5-72b0-497b-bbb6-8e2124f0813a",
      "metadata": {
        "id": "5c0631e5-72b0-497b-bbb6-8e2124f0813a"
      },
      "outputs": [],
      "source": [
        "lis.append(\"Banana\")"
      ]
    },
    {
      "cell_type": "code",
      "execution_count": null,
      "id": "540a9885-37a7-41dd-ab27-7079d328f0bd",
      "metadata": {
        "id": "540a9885-37a7-41dd-ab27-7079d328f0bd",
        "outputId": "84756e25-8492-46aa-9beb-5531ddf41172"
      },
      "outputs": [
        {
          "data": {
            "text/plain": [
              "['Apple', 'Orange', 'Banana']"
            ]
          },
          "execution_count": 18,
          "metadata": {},
          "output_type": "execute_result"
        }
      ],
      "source": [
        "lis"
      ]
    },
    {
      "cell_type": "code",
      "execution_count": null,
      "id": "90a3993d-1de2-4221-9c69-39e4bc13739e",
      "metadata": {
        "id": "90a3993d-1de2-4221-9c69-39e4bc13739e"
      },
      "outputs": [],
      "source": [
        "#use cases\n",
        "playlist = []\n",
        "playlist.append(\"sare jahan se acha\")\n",
        "playlist.append(\"Ae mere watan ke logo\")\n",
        "playlist.append(\"Tughe dekha toh\")"
      ]
    },
    {
      "cell_type": "code",
      "execution_count": null,
      "id": "d255d7ed-b8f4-4904-ad1c-0ba26ac06257",
      "metadata": {
        "id": "d255d7ed-b8f4-4904-ad1c-0ba26ac06257",
        "outputId": "f264a0d2-4bf6-4976-fe25-ed78698f32c7"
      },
      "outputs": [
        {
          "data": {
            "text/plain": [
              "['sare jahan se acha', 'Ae mere watan ke logo', 'Tughe dekha toh']"
            ]
          },
          "execution_count": 20,
          "metadata": {},
          "output_type": "execute_result"
        }
      ],
      "source": [
        "playlist"
      ]
    },
    {
      "cell_type": "code",
      "execution_count": null,
      "id": "f627eead-05ee-45d5-8444-59c84546398d",
      "metadata": {
        "id": "f627eead-05ee-45d5-8444-59c84546398d"
      },
      "outputs": [],
      "source": [
        "bookshelf = []\n",
        "bookshelf.append(\"Book1\")\n",
        "bookshelf.append(\"Book2\")"
      ]
    },
    {
      "cell_type": "code",
      "execution_count": null,
      "id": "4a36d207-ccfa-4368-9196-e2540c42ad7c",
      "metadata": {
        "id": "4a36d207-ccfa-4368-9196-e2540c42ad7c",
        "outputId": "ab0048fa-fe01-4995-fe7b-9527f7dc7222"
      },
      "outputs": [
        {
          "data": {
            "text/plain": [
              "['Book1', 'Book2']"
            ]
          },
          "execution_count": 22,
          "metadata": {},
          "output_type": "execute_result"
        }
      ],
      "source": [
        "bookshelf"
      ]
    },
    {
      "cell_type": "code",
      "execution_count": null,
      "id": "99d0b2f6-229c-4299-beac-b7367449b9be",
      "metadata": {
        "id": "99d0b2f6-229c-4299-beac-b7367449b9be",
        "outputId": "67212f64-fe91-4d17-bc5b-e14d15feac46"
      },
      "outputs": [
        {
          "data": {
            "text/plain": [
              "['Apple', 'Orange', 'Banana']"
            ]
          },
          "execution_count": 23,
          "metadata": {},
          "output_type": "execute_result"
        }
      ],
      "source": [
        "lis"
      ]
    },
    {
      "cell_type": "code",
      "execution_count": null,
      "id": "906c3a21-4473-463b-8364-2685083dd1dc",
      "metadata": {
        "id": "906c3a21-4473-463b-8364-2685083dd1dc",
        "outputId": "1589de78-7c48-4f60-8145-4f0470f8d385"
      },
      "outputs": [
        {
          "data": {
            "text/plain": [
              "'Apple'"
            ]
          },
          "execution_count": 24,
          "metadata": {},
          "output_type": "execute_result"
        }
      ],
      "source": [
        "#list is mutable\n",
        "lis[0]"
      ]
    },
    {
      "cell_type": "code",
      "execution_count": null,
      "id": "7efd8c0c-d8f9-40e3-bbb8-6ec5cd02fdda",
      "metadata": {
        "id": "7efd8c0c-d8f9-40e3-bbb8-6ec5cd02fdda"
      },
      "outputs": [],
      "source": [
        "lis[0] = \"Mango\""
      ]
    },
    {
      "cell_type": "code",
      "execution_count": null,
      "id": "7b6f7cd5-641f-4a08-a351-e5e8f22fd811",
      "metadata": {
        "id": "7b6f7cd5-641f-4a08-a351-e5e8f22fd811",
        "outputId": "3120f49f-c685-44cc-f9e9-82761c0bc61f"
      },
      "outputs": [
        {
          "data": {
            "text/plain": [
              "['Mango', 'Orange', 'Banana']"
            ]
          },
          "execution_count": 26,
          "metadata": {},
          "output_type": "execute_result"
        }
      ],
      "source": [
        "lis"
      ]
    },
    {
      "cell_type": "code",
      "execution_count": null,
      "id": "cacf355a-417a-4112-941c-334f54722385",
      "metadata": {
        "id": "cacf355a-417a-4112-941c-334f54722385"
      },
      "outputs": [],
      "source": [
        "lis[1] = \"Brinjal\""
      ]
    },
    {
      "cell_type": "code",
      "execution_count": null,
      "id": "408910a0-cfb8-4e61-a91c-9b05825bf483",
      "metadata": {
        "id": "408910a0-cfb8-4e61-a91c-9b05825bf483",
        "outputId": "507eb03a-5249-4a74-f5fd-7770499e66d7"
      },
      "outputs": [
        {
          "data": {
            "text/plain": [
              "['Mango', 'Brinjal', 'Banana']"
            ]
          },
          "execution_count": 28,
          "metadata": {},
          "output_type": "execute_result"
        }
      ],
      "source": [
        "lis"
      ]
    },
    {
      "cell_type": "code",
      "execution_count": null,
      "id": "4509ca5d-30c9-4113-b3d1-17f0af36b701",
      "metadata": {
        "id": "4509ca5d-30c9-4113-b3d1-17f0af36b701"
      },
      "outputs": [],
      "source": [
        "lis.append(\"apple\")"
      ]
    },
    {
      "cell_type": "code",
      "execution_count": null,
      "id": "54bdc3d0-1992-4951-9600-f89bcefb5bb0",
      "metadata": {
        "id": "54bdc3d0-1992-4951-9600-f89bcefb5bb0",
        "outputId": "8bb60511-8287-43d1-cc87-1bba33f8f82b"
      },
      "outputs": [
        {
          "data": {
            "text/plain": [
              "['Mango', 'Brinjal', 'Banana', 'apple']"
            ]
          },
          "execution_count": 30,
          "metadata": {},
          "output_type": "execute_result"
        }
      ],
      "source": [
        "lis"
      ]
    },
    {
      "cell_type": "code",
      "execution_count": null,
      "id": "be9e2f4b-b0e0-43aa-8656-7ce641ad781a",
      "metadata": {
        "id": "be9e2f4b-b0e0-43aa-8656-7ce641ad781a"
      },
      "outputs": [],
      "source": [
        "lis.insert(1, \"potato\") # Insert object before index."
      ]
    },
    {
      "cell_type": "code",
      "execution_count": null,
      "id": "02c9e9d5-0016-43f8-af59-aa9fe13b6d17",
      "metadata": {
        "id": "02c9e9d5-0016-43f8-af59-aa9fe13b6d17",
        "outputId": "c5f96232-75f0-49f8-c4ca-8c6d595e424c"
      },
      "outputs": [
        {
          "data": {
            "text/plain": [
              "['Mango', 'potato', 'Brinjal', 'Banana', 'apple']"
            ]
          },
          "execution_count": 32,
          "metadata": {},
          "output_type": "execute_result"
        }
      ],
      "source": [
        "lis"
      ]
    },
    {
      "cell_type": "code",
      "execution_count": null,
      "id": "2048a4c1-2109-42e3-b075-293244fb025e",
      "metadata": {
        "id": "2048a4c1-2109-42e3-b075-293244fb025e"
      },
      "outputs": [],
      "source": [
        "#use case\n",
        "bus_seat = [\"Ajay\", \"Aman\", \"Kishan\"]\n",
        "bus_seat.insert(2, \"Khushi\")"
      ]
    },
    {
      "cell_type": "code",
      "execution_count": null,
      "id": "c1731f74-41d3-4512-ae7f-7186e508969c",
      "metadata": {
        "id": "c1731f74-41d3-4512-ae7f-7186e508969c",
        "outputId": "95da7f90-7c4d-40bb-d2e7-22305bf45458"
      },
      "outputs": [
        {
          "data": {
            "text/plain": [
              "['Ajay', 'Aman', 'Khushi', 'Kishan']"
            ]
          },
          "execution_count": 34,
          "metadata": {},
          "output_type": "execute_result"
        }
      ],
      "source": [
        "bus_seat"
      ]
    },
    {
      "cell_type": "code",
      "execution_count": null,
      "id": "7bd65403-d509-43e4-8c97-561b97019fff",
      "metadata": {
        "id": "7bd65403-d509-43e4-8c97-561b97019fff"
      },
      "outputs": [],
      "source": [
        "#extend >> used to append elements from another list\n",
        "my_list = [\"Apple\", \"Banana\", \"orange\"]\n",
        "brothers_list = [\"brinjal\", \"potato\"]\n",
        "my_list.extend(brothers_list) #will extend the first list"
      ]
    },
    {
      "cell_type": "code",
      "execution_count": null,
      "id": "ae0ec954-743a-46eb-98df-8d7b610b9a17",
      "metadata": {
        "id": "ae0ec954-743a-46eb-98df-8d7b610b9a17",
        "outputId": "0220cd86-a9d2-4b93-96f5-9d990be862bf"
      },
      "outputs": [
        {
          "data": {
            "text/plain": [
              "['Apple', 'Banana', 'orange', 'brinjal', 'potato']"
            ]
          },
          "execution_count": 36,
          "metadata": {},
          "output_type": "execute_result"
        }
      ],
      "source": [
        "my_list"
      ]
    },
    {
      "cell_type": "code",
      "execution_count": null,
      "id": "81d7d91a-9d3e-41ce-a75d-1ef0cbd5c888",
      "metadata": {
        "id": "81d7d91a-9d3e-41ce-a75d-1ef0cbd5c888"
      },
      "outputs": [],
      "source": [
        "my_list = [\"Apple\", \"Banana\", \"orange\"]\n",
        "brothers_list = [\"brinjal\", \"potato\"]\n",
        "brothers_list.extend(my_list)"
      ]
    },
    {
      "cell_type": "code",
      "execution_count": null,
      "id": "b7d3aae5-7c7e-42cc-9220-8142ef715e1e",
      "metadata": {
        "id": "b7d3aae5-7c7e-42cc-9220-8142ef715e1e",
        "outputId": "54a6d2b9-cc17-4683-bfdd-da9f06bbf770"
      },
      "outputs": [
        {
          "data": {
            "text/plain": [
              "['brinjal', 'potato', 'Apple', 'Banana', 'orange']"
            ]
          },
          "execution_count": 38,
          "metadata": {},
          "output_type": "execute_result"
        }
      ],
      "source": [
        "brothers_list"
      ]
    },
    {
      "cell_type": "code",
      "execution_count": null,
      "id": "5961dafe-a6f4-48f8-8d19-81cbb90522ed",
      "metadata": {
        "id": "5961dafe-a6f4-48f8-8d19-81cbb90522ed",
        "outputId": "a5655b28-084e-48b7-9801-511024ba1bc5"
      },
      "outputs": [
        {
          "data": {
            "text/plain": [
              "['Apple', 'Banana', 'orange']"
            ]
          },
          "execution_count": 39,
          "metadata": {},
          "output_type": "execute_result"
        }
      ],
      "source": [
        "my_list"
      ]
    },
    {
      "cell_type": "code",
      "execution_count": null,
      "id": "97bc1f05-c312-418a-af34-38dae5d262fd",
      "metadata": {
        "id": "97bc1f05-c312-418a-af34-38dae5d262fd",
        "outputId": "65588241-6b76-4e4a-d8d4-6d8645bcdddd"
      },
      "outputs": [
        {
          "data": {
            "text/plain": [
              "['Apple', 'Banana', 'orange', 'brinjal', 'potato']"
            ]
          },
          "execution_count": 40,
          "metadata": {},
          "output_type": "execute_result"
        }
      ],
      "source": [
        "#concatenate\n",
        "my_list = [\"Apple\", \"Banana\", \"orange\"]\n",
        "brothers_list = [\"brinjal\", \"potato\"]\n",
        "my_list + brothers_list #will create new list"
      ]
    },
    {
      "cell_type": "code",
      "execution_count": null,
      "id": "7120822e-a888-41a5-9fc8-443c5425ab67",
      "metadata": {
        "id": "7120822e-a888-41a5-9fc8-443c5425ab67",
        "outputId": "0dd02afa-9463-449b-d9a1-a2df5f41eebc"
      },
      "outputs": [
        {
          "data": {
            "text/plain": [
              "['Apple', 'Banana', 'orange']"
            ]
          },
          "execution_count": 41,
          "metadata": {},
          "output_type": "execute_result"
        }
      ],
      "source": [
        "my_list"
      ]
    },
    {
      "cell_type": "code",
      "execution_count": null,
      "id": "6a62b269-e172-4a7a-bce6-6a7e05e1fe3e",
      "metadata": {
        "id": "6a62b269-e172-4a7a-bce6-6a7e05e1fe3e",
        "outputId": "c93f409a-da55-466c-c7c9-54c9585042e7"
      },
      "outputs": [
        {
          "data": {
            "text/plain": [
              "['brinjal', 'potato']"
            ]
          },
          "execution_count": 42,
          "metadata": {},
          "output_type": "execute_result"
        }
      ],
      "source": [
        "brothers_list"
      ]
    },
    {
      "cell_type": "code",
      "execution_count": null,
      "id": "3e3543d9-9707-4185-a0f6-a283a5c6d30c",
      "metadata": {
        "id": "3e3543d9-9707-4185-a0f6-a283a5c6d30c",
        "outputId": "74aed842-1220-4d27-a87d-59799bbb6818"
      },
      "outputs": [
        {
          "data": {
            "text/plain": [
              "'***************'"
            ]
          },
          "execution_count": 43,
          "metadata": {},
          "output_type": "execute_result"
        }
      ],
      "source": [
        "#repeatation operation\n",
        "\n",
        "\"*\" * 15"
      ]
    },
    {
      "cell_type": "code",
      "execution_count": null,
      "id": "ec62a0f8-fdb8-45b1-8056-9053cdd3d516",
      "metadata": {
        "id": "ec62a0f8-fdb8-45b1-8056-9053cdd3d516",
        "outputId": "7508da83-2aa6-4851-81cc-06fc8c6107b5"
      },
      "outputs": [
        {
          "data": {
            "text/plain": [
              "'----------'"
            ]
          },
          "execution_count": 44,
          "metadata": {},
          "output_type": "execute_result"
        }
      ],
      "source": [
        "\"-\"*10"
      ]
    },
    {
      "cell_type": "code",
      "execution_count": null,
      "id": "a5c2b808-ae92-4c59-8a0e-f0dfd337232d",
      "metadata": {
        "id": "a5c2b808-ae92-4c59-8a0e-f0dfd337232d",
        "outputId": "d92125ed-95c3-4016-e3c5-e2c5e9162df1"
      },
      "outputs": [
        {
          "data": {
            "text/plain": [
              "[0, 0, 0, 0, 0, 0, 0, 0, 0, 0]"
            ]
          },
          "execution_count": 45,
          "metadata": {},
          "output_type": "execute_result"
        }
      ],
      "source": [
        "[0] * 10"
      ]
    },
    {
      "cell_type": "code",
      "execution_count": null,
      "id": "c47896ae-a775-481f-a982-d4a5c4f88dae",
      "metadata": {
        "id": "c47896ae-a775-481f-a982-d4a5c4f88dae",
        "outputId": "d98396f2-e1eb-4138-e7ee-821aef379661"
      },
      "outputs": [
        {
          "data": {
            "text/plain": [
              "[1, 2, 3, 1, 2, 3, 1, 2, 3, 1, 2, 3, 1, 2, 3]"
            ]
          },
          "execution_count": 46,
          "metadata": {},
          "output_type": "execute_result"
        }
      ],
      "source": [
        "[1, 2, 3] * 5"
      ]
    },
    {
      "cell_type": "code",
      "execution_count": null,
      "id": "68586d3e-e926-4394-bdf7-84a2419fa73f",
      "metadata": {
        "id": "68586d3e-e926-4394-bdf7-84a2419fa73f",
        "outputId": "c324cb0b-5a23-4210-e500-a525c1c8ce2b"
      },
      "outputs": [
        {
          "data": {
            "text/plain": [
              "[0,\n",
              " 1,\n",
              " 2,\n",
              " 3,\n",
              " 4,\n",
              " 5,\n",
              " 6,\n",
              " 7,\n",
              " 8,\n",
              " 9,\n",
              " 0,\n",
              " 1,\n",
              " 2,\n",
              " 3,\n",
              " 4,\n",
              " 5,\n",
              " 6,\n",
              " 7,\n",
              " 8,\n",
              " 9,\n",
              " 0,\n",
              " 1,\n",
              " 2,\n",
              " 3,\n",
              " 4,\n",
              " 5,\n",
              " 6,\n",
              " 7,\n",
              " 8,\n",
              " 9]"
            ]
          },
          "execution_count": 47,
          "metadata": {},
          "output_type": "execute_result"
        }
      ],
      "source": [
        "list(range(10)) * 3"
      ]
    },
    {
      "cell_type": "code",
      "execution_count": null,
      "id": "0a1abe80-4ab6-4b0d-816c-3515ebbb28bf",
      "metadata": {
        "id": "0a1abe80-4ab6-4b0d-816c-3515ebbb28bf",
        "outputId": "878ab38e-64bd-4fc6-a118-f63787fd0411"
      },
      "outputs": [
        {
          "name": "stdout",
          "output_type": "stream",
          "text": [
            "Your appointment is tommorrow \n",
            "Your appointment is tommorrow \n",
            "Your appointment is tommorrow \n",
            "\n"
          ]
        }
      ],
      "source": [
        "msg = \"Your appointment is tommorrow \\n\"\n",
        "print(msg*3)"
      ]
    },
    {
      "cell_type": "code",
      "execution_count": null,
      "id": "8ca76c4d-c3e4-47cd-b8ef-6ce87f3125c7",
      "metadata": {
        "id": "8ca76c4d-c3e4-47cd-b8ef-6ce87f3125c7",
        "outputId": "b2d93aeb-2517-44fb-8466-3c65de57ba84"
      },
      "outputs": [
        {
          "data": {
            "text/plain": [
              "['Milk', 'Orange', 1, 2.2, True, (3+5j)]"
            ]
          },
          "execution_count": 49,
          "metadata": {},
          "output_type": "execute_result"
        }
      ],
      "source": [
        "#membership in , not in\n",
        "\n",
        "grocery_list"
      ]
    },
    {
      "cell_type": "code",
      "execution_count": null,
      "id": "defe0e69-1701-4113-9530-44b5ffec40af",
      "metadata": {
        "id": "defe0e69-1701-4113-9530-44b5ffec40af",
        "outputId": "0613205f-8ebf-47bf-dcb7-302d3adf5c5f"
      },
      "outputs": [
        {
          "data": {
            "text/plain": [
              "True"
            ]
          },
          "execution_count": 50,
          "metadata": {},
          "output_type": "execute_result"
        }
      ],
      "source": [
        "\"Milk\" in grocery_list"
      ]
    },
    {
      "cell_type": "code",
      "execution_count": null,
      "id": "80c5ddc7-3e89-4dd4-ad79-23c60028a545",
      "metadata": {
        "id": "80c5ddc7-3e89-4dd4-ad79-23c60028a545",
        "outputId": "3cad647e-633e-4067-d894-8136bf71342d"
      },
      "outputs": [
        {
          "data": {
            "text/plain": [
              "False"
            ]
          },
          "execution_count": 51,
          "metadata": {},
          "output_type": "execute_result"
        }
      ],
      "source": [
        "\"POTATO\" in grocery_list"
      ]
    },
    {
      "cell_type": "code",
      "execution_count": null,
      "id": "cb4e1020-e0dc-4592-a54f-1260793a3e3f",
      "metadata": {
        "id": "cb4e1020-e0dc-4592-a54f-1260793a3e3f",
        "outputId": "5a798982-4576-4d4d-d515-1bb9eebf01e6"
      },
      "outputs": [
        {
          "data": {
            "text/plain": [
              "True"
            ]
          },
          "execution_count": 52,
          "metadata": {},
          "output_type": "execute_result"
        }
      ],
      "source": [
        "\"POTATO\" not in grocery_list"
      ]
    },
    {
      "cell_type": "code",
      "execution_count": null,
      "id": "17d4b27c-35c0-4e5e-8652-774730b1a2d2",
      "metadata": {
        "id": "17d4b27c-35c0-4e5e-8652-774730b1a2d2"
      },
      "outputs": [],
      "source": [
        "#deep copy and shallow copy\n",
        "\n",
        "#shallow copy >> value will change with change in other list"
      ]
    },
    {
      "cell_type": "code",
      "execution_count": null,
      "id": "0538581b-d1a1-4536-b482-110ccffe8ea2",
      "metadata": {
        "id": "0538581b-d1a1-4536-b482-110ccffe8ea2"
      },
      "outputs": [],
      "source": [
        "grocery_list = ['Milk', 'Orange', 1, 2.2, True, (3+5j)]"
      ]
    },
    {
      "cell_type": "code",
      "execution_count": null,
      "id": "e8b9ca8b-5765-49e7-8642-2ec7336aadaf",
      "metadata": {
        "id": "e8b9ca8b-5765-49e7-8642-2ec7336aadaf",
        "outputId": "02dabf8a-4c39-4b1b-8f4c-ba3d20693610"
      },
      "outputs": [
        {
          "data": {
            "text/plain": [
              "['A', 'B']"
            ]
          },
          "execution_count": 64,
          "metadata": {},
          "output_type": "execute_result"
        }
      ],
      "source": [
        "a = [\"A\", \"B\"]\n",
        "a"
      ]
    },
    {
      "cell_type": "code",
      "execution_count": null,
      "id": "7f427f04-71e1-483a-bbce-9d2a43986c4f",
      "metadata": {
        "id": "7f427f04-71e1-483a-bbce-9d2a43986c4f",
        "outputId": "fbbfec24-4128-4f9d-d062-770e95136426"
      },
      "outputs": [
        {
          "data": {
            "text/plain": [
              "['Milk', 'Orange', 1, 2.2, True, (3+5j)]"
            ]
          },
          "execution_count": 65,
          "metadata": {},
          "output_type": "execute_result"
        }
      ],
      "source": [
        "grocery_list"
      ]
    },
    {
      "cell_type": "code",
      "execution_count": null,
      "id": "0ae163c7-61b3-4a6e-8d02-478c658b90ea",
      "metadata": {
        "id": "0ae163c7-61b3-4a6e-8d02-478c658b90ea"
      },
      "outputs": [],
      "source": [
        "a = grocery_list #shallow copy"
      ]
    },
    {
      "cell_type": "code",
      "execution_count": null,
      "id": "022ef54b-d3bc-484f-9762-f5b0c924dd25",
      "metadata": {
        "id": "022ef54b-d3bc-484f-9762-f5b0c924dd25",
        "outputId": "920473a2-90a6-4e60-8c3d-320a4884a05f"
      },
      "outputs": [
        {
          "data": {
            "text/plain": [
              "['Milk', 'Orange', 1, 2.2, True, (3+5j)]"
            ]
          },
          "execution_count": 67,
          "metadata": {},
          "output_type": "execute_result"
        }
      ],
      "source": [
        "a"
      ]
    },
    {
      "cell_type": "code",
      "execution_count": null,
      "id": "e14e5cba-931c-4ae5-9bce-6bfb394c58cb",
      "metadata": {
        "id": "e14e5cba-931c-4ae5-9bce-6bfb394c58cb",
        "outputId": "8c5cbefc-e992-40a1-a6f6-bfe6c9259ae0"
      },
      "outputs": [
        {
          "data": {
            "text/plain": [
              "['Milk', 'Orange', 1, 2.2, True, (3+5j)]"
            ]
          },
          "execution_count": 68,
          "metadata": {},
          "output_type": "execute_result"
        }
      ],
      "source": [
        "grocery_list"
      ]
    },
    {
      "cell_type": "code",
      "execution_count": null,
      "id": "5ab3fcbd-6b7f-4b45-b891-3ad55d79eb73",
      "metadata": {
        "id": "5ab3fcbd-6b7f-4b45-b891-3ad55d79eb73"
      },
      "outputs": [],
      "source": [
        "a[0] = \"potato\""
      ]
    },
    {
      "cell_type": "code",
      "execution_count": null,
      "id": "5893960e-558d-48dc-b844-fbad4c785177",
      "metadata": {
        "id": "5893960e-558d-48dc-b844-fbad4c785177",
        "outputId": "aa89c24b-20d4-4f4f-caab-f434ec88f7e9"
      },
      "outputs": [
        {
          "data": {
            "text/plain": [
              "['potato', 'Orange', 1, 2.2, True, (3+5j)]"
            ]
          },
          "execution_count": 70,
          "metadata": {},
          "output_type": "execute_result"
        }
      ],
      "source": [
        "a"
      ]
    },
    {
      "cell_type": "code",
      "execution_count": null,
      "id": "8eada923-389d-4aae-923d-240b9eae236f",
      "metadata": {
        "id": "8eada923-389d-4aae-923d-240b9eae236f",
        "outputId": "3e2bd2e9-584e-49dc-ef0b-5011a2da5e9e"
      },
      "outputs": [
        {
          "data": {
            "text/plain": [
              "['potato', 'Orange', 1, 2.2, True, (3+5j)]"
            ]
          },
          "execution_count": 71,
          "metadata": {},
          "output_type": "execute_result"
        }
      ],
      "source": [
        "grocery_list"
      ]
    },
    {
      "cell_type": "code",
      "execution_count": null,
      "id": "f839ee48-912b-4f00-a7cd-78e9b9e2e183",
      "metadata": {
        "id": "f839ee48-912b-4f00-a7cd-78e9b9e2e183",
        "outputId": "8512f12b-7b8c-43a2-a4b1-e92f9b4d0ebb"
      },
      "outputs": [
        {
          "data": {
            "text/plain": [
              "['potato', 'Orange', 1, 2.2, True, (3+5j)]"
            ]
          },
          "execution_count": 72,
          "metadata": {},
          "output_type": "execute_result"
        }
      ],
      "source": [
        "#deep copy >> will not change the value in another list\n",
        "grocery_list"
      ]
    },
    {
      "cell_type": "code",
      "execution_count": null,
      "id": "b65940f7-dc3b-4de5-9d95-0afe23018ed4",
      "metadata": {
        "id": "b65940f7-dc3b-4de5-9d95-0afe23018ed4"
      },
      "outputs": [],
      "source": [
        "b = grocery_list.copy() #deep copy"
      ]
    },
    {
      "cell_type": "code",
      "execution_count": null,
      "id": "d8ea08fd-3d33-4723-bce6-354ee01d01ca",
      "metadata": {
        "id": "d8ea08fd-3d33-4723-bce6-354ee01d01ca"
      },
      "outputs": [],
      "source": [
        "b[0] = \"Milk\""
      ]
    },
    {
      "cell_type": "code",
      "execution_count": null,
      "id": "3be1dd1b-1c2c-4750-8c35-37e86ff1a6e7",
      "metadata": {
        "id": "3be1dd1b-1c2c-4750-8c35-37e86ff1a6e7",
        "outputId": "97aeed36-426d-43fb-d1dd-dfa5be824a5b"
      },
      "outputs": [
        {
          "data": {
            "text/plain": [
              "['Milk', 'Orange', 1, 2.2, True, (3+5j)]"
            ]
          },
          "execution_count": 78,
          "metadata": {},
          "output_type": "execute_result"
        }
      ],
      "source": [
        "b"
      ]
    },
    {
      "cell_type": "code",
      "execution_count": null,
      "id": "99910f8f-9ed6-40b9-9ccd-ff288fbbe2d5",
      "metadata": {
        "id": "99910f8f-9ed6-40b9-9ccd-ff288fbbe2d5",
        "outputId": "71f77663-ce5e-40ea-cc8d-38c287a2f28b"
      },
      "outputs": [
        {
          "data": {
            "text/plain": [
              "['potato', 'Orange', 1, 2.2, True, (3+5j)]"
            ]
          },
          "execution_count": 79,
          "metadata": {},
          "output_type": "execute_result"
        }
      ],
      "source": [
        "grocery_list"
      ]
    },
    {
      "cell_type": "code",
      "execution_count": null,
      "id": "90a79531-bf21-4c28-a6e9-df3dffeb4e10",
      "metadata": {
        "id": "90a79531-bf21-4c28-a6e9-df3dffeb4e10",
        "outputId": "70eabb0c-38e9-4171-db2b-df1b7631f92a"
      },
      "outputs": [
        {
          "data": {
            "text/plain": [
              "['Algorithm', 'Algorithm', 'Data Str', 'web']"
            ]
          },
          "execution_count": 84,
          "metadata": {},
          "output_type": "execute_result"
        }
      ],
      "source": [
        "#sorting list\n",
        "book_list = [\"Data Str\", \"Algorithm\", \"web\", \"Algorithm\"]\n",
        "sorted(book_list)"
      ]
    },
    {
      "cell_type": "code",
      "execution_count": null,
      "id": "eb345269-f6c8-43ea-8f0d-2da10ee47dbc",
      "metadata": {
        "id": "eb345269-f6c8-43ea-8f0d-2da10ee47dbc",
        "outputId": "dadb91b6-5604-4327-a652-acf9addb5ca9"
      },
      "outputs": [
        {
          "data": {
            "text/plain": [
              "1"
            ]
          },
          "execution_count": 85,
          "metadata": {},
          "output_type": "execute_result"
        }
      ],
      "source": [
        "book_list.index(\"Algorithm\") #Returns the index of first occurence"
      ]
    },
    {
      "cell_type": "code",
      "execution_count": null,
      "id": "8d3b78ef-3e7a-4cd0-8a53-be8c51a99514",
      "metadata": {
        "id": "8d3b78ef-3e7a-4cd0-8a53-be8c51a99514",
        "outputId": "33f9f616-2248-4223-b368-cc7a1851b928"
      },
      "outputs": [
        {
          "data": {
            "text/plain": [
              "2"
            ]
          },
          "execution_count": 86,
          "metadata": {},
          "output_type": "execute_result"
        }
      ],
      "source": [
        "book_list.index(\"web\")"
      ]
    },
    {
      "cell_type": "code",
      "execution_count": null,
      "id": "ddbc06be-bfb2-46c5-86a2-59a6af347960",
      "metadata": {
        "id": "ddbc06be-bfb2-46c5-86a2-59a6af347960",
        "outputId": "fdd0f3f2-e7a6-4bfe-dd5f-1599d155045e"
      },
      "outputs": [
        {
          "data": {
            "text/plain": [
              "4"
            ]
          },
          "execution_count": 87,
          "metadata": {},
          "output_type": "execute_result"
        }
      ],
      "source": [
        "len(book_list) #no of elements in the list"
      ]
    },
    {
      "cell_type": "code",
      "execution_count": null,
      "id": "5700e73a-e343-4786-a7d2-fc9e61e5b2fd",
      "metadata": {
        "id": "5700e73a-e343-4786-a7d2-fc9e61e5b2fd",
        "outputId": "3bfa520b-5e96-403e-842f-d48e038332e4"
      },
      "outputs": [
        {
          "data": {
            "text/plain": [
              "2"
            ]
          },
          "execution_count": 90,
          "metadata": {},
          "output_type": "execute_result"
        }
      ],
      "source": [
        "book_list.count(\"Algorithm\")#count gives the count of a specific element in a list"
      ]
    },
    {
      "cell_type": "code",
      "execution_count": null,
      "id": "e3725f36-6b74-47f1-87e8-2f565ee4771b",
      "metadata": {
        "id": "e3725f36-6b74-47f1-87e8-2f565ee4771b"
      },
      "outputs": [],
      "source": [
        "book_list.remove(\"Data Str\")"
      ]
    },
    {
      "cell_type": "code",
      "execution_count": null,
      "id": "e8415e6d-1c58-4c77-a4ff-00af55655159",
      "metadata": {
        "id": "e8415e6d-1c58-4c77-a4ff-00af55655159",
        "outputId": "b4b98607-b6ca-4ca0-e14b-cbd2a5dfcb72"
      },
      "outputs": [
        {
          "data": {
            "text/plain": [
              "['Algorithm', 'web', 'Algorithm']"
            ]
          },
          "execution_count": 94,
          "metadata": {},
          "output_type": "execute_result"
        }
      ],
      "source": [
        "book_list"
      ]
    },
    {
      "cell_type": "code",
      "execution_count": null,
      "id": "ad67b399-5f5a-4086-82c3-5ca8d190cfcb",
      "metadata": {
        "id": "ad67b399-5f5a-4086-82c3-5ca8d190cfcb"
      },
      "outputs": [],
      "source": [
        "book_list.sort()"
      ]
    },
    {
      "cell_type": "code",
      "execution_count": null,
      "id": "b8109560-9a64-4711-9f6a-3fa2e3d3fb44",
      "metadata": {
        "id": "b8109560-9a64-4711-9f6a-3fa2e3d3fb44",
        "outputId": "a3f2c53d-b556-4071-a428-caa4f7626e2a"
      },
      "outputs": [
        {
          "data": {
            "text/plain": [
              "['Algorithm', 'Algorithm', 'web']"
            ]
          },
          "execution_count": 96,
          "metadata": {},
          "output_type": "execute_result"
        }
      ],
      "source": [
        "book_list"
      ]
    },
    {
      "cell_type": "code",
      "execution_count": null,
      "id": "9fd4a472-d661-4fd2-9fe8-0a0785218712",
      "metadata": {
        "id": "9fd4a472-d661-4fd2-9fe8-0a0785218712"
      },
      "outputs": [],
      "source": [
        "del book_list #deletes the variable/list"
      ]
    },
    {
      "cell_type": "code",
      "execution_count": null,
      "id": "fb954ccc-18e0-4202-bef3-4a60f1504716",
      "metadata": {
        "id": "fb954ccc-18e0-4202-bef3-4a60f1504716",
        "outputId": "cbca3267-0c31-4f60-8c7c-facfbed8d598"
      },
      "outputs": [
        {
          "ename": "NameError",
          "evalue": "name 'book_list' is not defined",
          "output_type": "error",
          "traceback": [
            "\u001b[0;31m---------------------------------------------------------------------------\u001b[0m",
            "\u001b[0;31mNameError\u001b[0m                                 Traceback (most recent call last)",
            "Cell \u001b[0;32mIn[99], line 1\u001b[0m\n\u001b[0;32m----> 1\u001b[0m \u001b[43mbook_list\u001b[49m\n",
            "\u001b[0;31mNameError\u001b[0m: name 'book_list' is not defined"
          ]
        }
      ],
      "source": [
        "book_list"
      ]
    },
    {
      "cell_type": "code",
      "execution_count": null,
      "id": "a2e48bb3-3274-4881-a7d5-d2bd35824331",
      "metadata": {
        "id": "a2e48bb3-3274-4881-a7d5-d2bd35824331"
      },
      "outputs": [],
      "source": [
        "book_list = [\"Data Str\", \"Algorithm\", \"web\", \"Algorithm\"]\n",
        "book_list.clear() #it deletes the element of list, but variable list will not be deleted>>cleared"
      ]
    },
    {
      "cell_type": "code",
      "execution_count": null,
      "id": "16a75250-557c-4264-b469-ab3ff28864ad",
      "metadata": {
        "id": "16a75250-557c-4264-b469-ab3ff28864ad",
        "outputId": "761f773c-12fe-4cf0-c85f-ca95b275f36f"
      },
      "outputs": [
        {
          "data": {
            "text/plain": [
              "[]"
            ]
          },
          "execution_count": 101,
          "metadata": {},
          "output_type": "execute_result"
        }
      ],
      "source": [
        "book_list"
      ]
    },
    {
      "cell_type": "code",
      "execution_count": null,
      "id": "e67675dc-8062-403e-b14d-8f79642a7697",
      "metadata": {
        "id": "e67675dc-8062-403e-b14d-8f79642a7697",
        "outputId": "340db769-24ac-4e31-9439-57578f3b8854"
      },
      "outputs": [
        {
          "data": {
            "text/plain": [
              "'Algorithm'"
            ]
          },
          "execution_count": 103,
          "metadata": {},
          "output_type": "execute_result"
        }
      ],
      "source": [
        "book_list = [\"Data Str\", \"Algorithm\", \"web\", \"Algorithm\"]\n",
        "book_list.pop() #removes the last lement"
      ]
    },
    {
      "cell_type": "code",
      "execution_count": null,
      "id": "1c50cd51-aca7-4178-8488-dac7805c1dad",
      "metadata": {
        "id": "1c50cd51-aca7-4178-8488-dac7805c1dad",
        "outputId": "511ed605-6312-47a0-e0cd-356cf5ec8eda"
      },
      "outputs": [
        {
          "data": {
            "text/plain": [
              "['Data Str', 'Algorithm', 'web']"
            ]
          },
          "execution_count": 104,
          "metadata": {},
          "output_type": "execute_result"
        }
      ],
      "source": [
        "book_list"
      ]
    },
    {
      "cell_type": "code",
      "execution_count": null,
      "id": "f4301c84-4c7f-4862-ba60-edb0d8f04d17",
      "metadata": {
        "id": "f4301c84-4c7f-4862-ba60-edb0d8f04d17",
        "outputId": "639dd0f0-ee20-4a1b-97db-a795cc950b23"
      },
      "outputs": [
        {
          "data": {
            "text/plain": [
              "'Algorithm'"
            ]
          },
          "execution_count": 105,
          "metadata": {},
          "output_type": "execute_result"
        }
      ],
      "source": [
        "book_list.pop(1)"
      ]
    },
    {
      "cell_type": "code",
      "execution_count": null,
      "id": "51d71902-0ad4-42d5-ad8d-56197796ce8e",
      "metadata": {
        "id": "51d71902-0ad4-42d5-ad8d-56197796ce8e",
        "outputId": "2bb94727-cb2e-4066-fadb-c277643f07d5"
      },
      "outputs": [
        {
          "data": {
            "text/plain": [
              "['Data Str', 'web']"
            ]
          },
          "execution_count": 106,
          "metadata": {},
          "output_type": "execute_result"
        }
      ],
      "source": [
        "book_list"
      ]
    },
    {
      "cell_type": "code",
      "execution_count": null,
      "id": "1d83a65d-378f-48fa-8135-7f87960460e1",
      "metadata": {
        "id": "1d83a65d-378f-48fa-8135-7f87960460e1"
      },
      "outputs": [],
      "source": [
        "#list comprehension>>concise code"
      ]
    },
    {
      "cell_type": "code",
      "execution_count": null,
      "id": "747dcc42-dc0f-4e32-9c28-b1b2ac436e05",
      "metadata": {
        "id": "747dcc42-dc0f-4e32-9c28-b1b2ac436e05"
      },
      "outputs": [],
      "source": [
        "prices = [10, 20, 30, 40, 50]\n",
        "doubled_price = []\n",
        "for i in prices:\n",
        "    doubled_price.append(i*2)"
      ]
    },
    {
      "cell_type": "code",
      "execution_count": null,
      "id": "0cf76008-a174-4460-92d5-165356202b47",
      "metadata": {
        "id": "0cf76008-a174-4460-92d5-165356202b47",
        "outputId": "d252c2a1-45b5-48fc-a8f6-cc1e2969f22d"
      },
      "outputs": [
        {
          "data": {
            "text/plain": [
              "[20, 40, 60, 80, 100]"
            ]
          },
          "execution_count": 111,
          "metadata": {},
          "output_type": "execute_result"
        }
      ],
      "source": [
        "doubled_price"
      ]
    },
    {
      "cell_type": "code",
      "execution_count": null,
      "id": "5160c354-c279-4c5f-a25f-86151335944b",
      "metadata": {
        "id": "5160c354-c279-4c5f-a25f-86151335944b"
      },
      "outputs": [],
      "source": [
        "doubled_price = [price * 2 for price in prices]"
      ]
    },
    {
      "cell_type": "code",
      "execution_count": null,
      "id": "67a1793a-69bf-4fb0-8b75-3514947b93ba",
      "metadata": {
        "id": "67a1793a-69bf-4fb0-8b75-3514947b93ba",
        "outputId": "10250e9b-fe0f-4744-ff1c-a7d4250110f8"
      },
      "outputs": [
        {
          "data": {
            "text/plain": [
              "[20, 40, 60, 80, 100]"
            ]
          },
          "execution_count": 114,
          "metadata": {},
          "output_type": "execute_result"
        }
      ],
      "source": [
        "doubled_price"
      ]
    },
    {
      "cell_type": "code",
      "execution_count": null,
      "id": "588d0dd9-0e27-46c5-9287-170b4c54eff3",
      "metadata": {
        "id": "588d0dd9-0e27-46c5-9287-170b4c54eff3",
        "outputId": "6ab6dec2-428e-4634-98d3-ec5d1de70514"
      },
      "outputs": [
        {
          "data": {
            "text/plain": [
              "['Ajay', 'Bijay', 'Sanjay']"
            ]
          },
          "execution_count": 115,
          "metadata": {},
          "output_type": "execute_result"
        }
      ],
      "source": [
        "names = [\"ajay\", \"bijay\", \"sanjay\"]\n",
        "[name.capitalize() for name in names]"
      ]
    },
    {
      "cell_type": "code",
      "execution_count": null,
      "id": "c4a274cf-7e4a-46c4-8a89-625b11723f4e",
      "metadata": {
        "id": "c4a274cf-7e4a-46c4-8a89-625b11723f4e",
        "outputId": "951da659-23a8-4927-9f6b-219c0c9118ee"
      },
      "outputs": [
        {
          "data": {
            "text/plain": [
              "[1, 4, 9, 16, 25]"
            ]
          },
          "execution_count": 116,
          "metadata": {},
          "output_type": "execute_result"
        }
      ],
      "source": [
        "#use cases\n",
        "numbers = [1, 2, 3, 4, 5]\n",
        "[num**2 for num in numbers]"
      ]
    },
    {
      "cell_type": "code",
      "execution_count": null,
      "id": "1763d44f-cd69-444f-8c15-dd34f3144f7f",
      "metadata": {
        "id": "1763d44f-cd69-444f-8c15-dd34f3144f7f",
        "outputId": "b5b31d69-809d-464d-d794-46ad68555df5"
      },
      "outputs": [
        {
          "data": {
            "text/plain": [
              "'ppt'"
            ]
          },
          "execution_count": 118,
          "metadata": {},
          "output_type": "execute_result"
        }
      ],
      "source": [
        "str1 = \"doc1.ppt\"\n",
        "str1.split(\".\")[-1]"
      ]
    },
    {
      "cell_type": "code",
      "execution_count": null,
      "id": "8356ff7e-1204-4688-a7ec-d9392a5f92b0",
      "metadata": {
        "id": "8356ff7e-1204-4688-a7ec-d9392a5f92b0",
        "outputId": "4cfee38a-4222-476b-9604-acdff3b3bf75"
      },
      "outputs": [
        {
          "data": {
            "text/plain": [
              "['ppt', 'pdf', 'jpg', 'py']"
            ]
          },
          "execution_count": 119,
          "metadata": {},
          "output_type": "execute_result"
        }
      ],
      "source": [
        "file_name = [\"doc1.ppt\", \"doc2.pdf\", \"doc3.jpg\", \"doc4.py\"]\n",
        "[file.split(\".\")[-1] for file in file_name]"
      ]
    },
    {
      "cell_type": "code",
      "execution_count": null,
      "id": "dfefa5f7-6408-45fb-87ca-646549052ae8",
      "metadata": {
        "id": "dfefa5f7-6408-45fb-87ca-646549052ae8",
        "outputId": "520bbb9b-54be-4c01-fe6d-4963619fdc68"
      },
      "outputs": [
        {
          "data": {
            "text/plain": [
              "['sj@yahoo.com', 'rj@yahoo.com']"
            ]
          },
          "execution_count": 120,
          "metadata": {},
          "output_type": "execute_result"
        }
      ],
      "source": [
        "#conditional list comprehension\n",
        "email_address = [\"aj@gmail.com\", \"sj@yahoo.com\", \"rj@yahoo.com\", \"mj@gmail.com\"]\n",
        "[email for email in email_address if email.endswith(\"@yahoo.com\")]"
      ]
    },
    {
      "cell_type": "code",
      "execution_count": null,
      "id": "146bbfc9-561b-4d13-a769-5b752a003013",
      "metadata": {
        "id": "146bbfc9-561b-4d13-a769-5b752a003013"
      },
      "outputs": [],
      "source": [
        "#nested list comprehension"
      ]
    },
    {
      "cell_type": "code",
      "execution_count": null,
      "id": "494801bd-d6f9-4249-b795-d8355d7e73a4",
      "metadata": {
        "id": "494801bd-d6f9-4249-b795-d8355d7e73a4",
        "outputId": "5865a46c-8ee1-4f76-961f-de8b46a1fcee"
      },
      "outputs": [
        {
          "data": {
            "text/plain": [
              "[[1, 4], [1, 5], [1, 6], [2, 4], [2, 5], [2, 6], [3, 4], [3, 5], [3, 6]]"
            ]
          },
          "execution_count": 122,
          "metadata": {},
          "output_type": "execute_result"
        }
      ],
      "source": [
        "pairs = []\n",
        "for x in [1, 2, 3]:\n",
        "    for y in [4, 5, 6]:\n",
        "        pairs.append([x, y])\n",
        "pairs"
      ]
    },
    {
      "cell_type": "code",
      "execution_count": null,
      "id": "a94f6a70-229f-4a16-be93-564a1c65539a",
      "metadata": {
        "id": "a94f6a70-229f-4a16-be93-564a1c65539a",
        "outputId": "4f04413c-efc4-4f87-ec9c-155c3857f617"
      },
      "outputs": [
        {
          "data": {
            "text/plain": [
              "[[1, 4], [1, 5], [1, 6], [2, 4], [2, 5], [2, 6], [3, 4], [3, 5], [3, 6]]"
            ]
          },
          "execution_count": 123,
          "metadata": {},
          "output_type": "execute_result"
        }
      ],
      "source": [
        "[[x, y] for x in [1, 2, 3] for y in [4, 5, 6]]"
      ]
    },
    {
      "cell_type": "code",
      "execution_count": null,
      "id": "1349291b-54ce-41d7-8fdc-4013ab2952bd",
      "metadata": {
        "id": "1349291b-54ce-41d7-8fdc-4013ab2952bd"
      },
      "outputs": [],
      "source": [
        "#list as stack and queue (optional)"
      ]
    },
    {
      "cell_type": "code",
      "execution_count": null,
      "id": "2b7f7595-a9fb-4894-bbcc-59feaaae7ba7",
      "metadata": {
        "id": "2b7f7595-a9fb-4894-bbcc-59feaaae7ba7"
      },
      "outputs": [],
      "source": [
        "#stack>>last in first out principles>> The last element added to the stack will be the first one to be removed\n",
        "#only one end"
      ]
    },
    {
      "cell_type": "markdown",
      "id": "388e1b4f-18e0-4f6c-9af0-dfe631623430",
      "metadata": {
        "id": "388e1b4f-18e0-4f6c-9af0-dfe631623430"
      },
      "source": [
        "![image.png](attachment:f347ea88-5032-48cf-861b-95387bb23081.png)"
      ]
    },
    {
      "cell_type": "code",
      "execution_count": null,
      "id": "d8d41d34-26a2-4af5-9a45-7fe129e84546",
      "metadata": {
        "id": "d8d41d34-26a2-4af5-9a45-7fe129e84546"
      },
      "outputs": [],
      "source": [
        "stack_of_plates = []\n",
        "stack_of_plates.append(\"plate1\")\n",
        "stack_of_plates.append(\"plate2\")\n",
        "stack_of_plates.append(\"plate3\")\n",
        "stack_of_plates.append(\"plate4\")\n"
      ]
    },
    {
      "cell_type": "code",
      "execution_count": null,
      "id": "a5d14751-f43f-4d08-9c50-cf60ea6e6b1d",
      "metadata": {
        "id": "a5d14751-f43f-4d08-9c50-cf60ea6e6b1d",
        "outputId": "b34c1fe8-6ad0-4b84-b2af-562a012cf3b6"
      },
      "outputs": [
        {
          "data": {
            "text/plain": [
              "['plate1', 'plate2', 'plate3', 'plate4']"
            ]
          },
          "execution_count": 127,
          "metadata": {},
          "output_type": "execute_result"
        }
      ],
      "source": [
        "stack_of_plates"
      ]
    },
    {
      "cell_type": "code",
      "execution_count": null,
      "id": "69f6763d-c927-4dab-8874-c8f9454f7aa8",
      "metadata": {
        "id": "69f6763d-c927-4dab-8874-c8f9454f7aa8",
        "outputId": "1d9491e2-88af-4b08-feb7-8a8d3825b015"
      },
      "outputs": [
        {
          "data": {
            "text/plain": [
              "'plate4'"
            ]
          },
          "execution_count": 128,
          "metadata": {},
          "output_type": "execute_result"
        }
      ],
      "source": [
        "stack_of_plates.pop()"
      ]
    },
    {
      "cell_type": "code",
      "execution_count": null,
      "id": "150e959e-6282-4cf1-b9c7-fd2a9ffa0996",
      "metadata": {
        "id": "150e959e-6282-4cf1-b9c7-fd2a9ffa0996",
        "outputId": "00291f16-b78b-4acc-c34e-ba8afe18853b"
      },
      "outputs": [
        {
          "data": {
            "text/plain": [
              "['plate1', 'plate2', 'plate3']"
            ]
          },
          "execution_count": 129,
          "metadata": {},
          "output_type": "execute_result"
        }
      ],
      "source": [
        "stack_of_plates"
      ]
    },
    {
      "cell_type": "code",
      "execution_count": null,
      "id": "c35d7506-9ac7-4559-afdb-d96e693d57f3",
      "metadata": {
        "id": "c35d7506-9ac7-4559-afdb-d96e693d57f3"
      },
      "outputs": [],
      "source": [
        "#use case\n",
        "browsing_history = []\n",
        "browsing_history.append(\"home_page\")\n",
        "browsing_history.append(\"about us\")\n",
        "browsing_history.append(\"contact\")"
      ]
    },
    {
      "cell_type": "code",
      "execution_count": null,
      "id": "be2bcc37-39e0-4590-b1e6-873848fb773c",
      "metadata": {
        "id": "be2bcc37-39e0-4590-b1e6-873848fb773c",
        "outputId": "d5f3c675-8525-468e-910a-7b30e74f8b9c"
      },
      "outputs": [
        {
          "data": {
            "text/plain": [
              "['home_page', 'about us', 'contact']"
            ]
          },
          "execution_count": 131,
          "metadata": {},
          "output_type": "execute_result"
        }
      ],
      "source": [
        "browsing_history"
      ]
    },
    {
      "cell_type": "code",
      "execution_count": null,
      "id": "847571c7-a325-4ca6-a6c6-4b44ee68def9",
      "metadata": {
        "id": "847571c7-a325-4ca6-a6c6-4b44ee68def9",
        "outputId": "379af6c8-4c0b-44c3-9696-709a2e3413c3"
      },
      "outputs": [
        {
          "data": {
            "text/plain": [
              "'contact'"
            ]
          },
          "execution_count": 132,
          "metadata": {},
          "output_type": "execute_result"
        }
      ],
      "source": [
        "browsing_history.pop()"
      ]
    },
    {
      "cell_type": "code",
      "execution_count": null,
      "id": "a7350056-cff7-4332-b9f5-7878e18b1f7b",
      "metadata": {
        "id": "a7350056-cff7-4332-b9f5-7878e18b1f7b",
        "outputId": "670fcd8b-f3f3-4c4d-f9d1-0e14e22c72ca"
      },
      "outputs": [
        {
          "data": {
            "text/plain": [
              "['home_page', 'about us']"
            ]
          },
          "execution_count": 133,
          "metadata": {},
          "output_type": "execute_result"
        }
      ],
      "source": [
        "browsing_history"
      ]
    },
    {
      "cell_type": "code",
      "execution_count": null,
      "id": "01d08904-0d9c-48d4-8526-b3cdb42b7342",
      "metadata": {
        "id": "01d08904-0d9c-48d4-8526-b3cdb42b7342"
      },
      "outputs": [],
      "source": [
        "#Queue>> follows first in first out\n",
        "#it works in orderly sequential manner\n",
        "#two ends"
      ]
    },
    {
      "cell_type": "markdown",
      "id": "38152579-79b7-470d-85dd-c99c233cd270",
      "metadata": {
        "id": "38152579-79b7-470d-85dd-c99c233cd270"
      },
      "source": [
        "![image.png](attachment:698a1b8b-affb-4b29-affe-83656384fb78.png)"
      ]
    },
    {
      "cell_type": "code",
      "execution_count": null,
      "id": "ee1b9c91-645b-4416-8a62-b78062d377e3",
      "metadata": {
        "id": "ee1b9c91-645b-4416-8a62-b78062d377e3"
      },
      "outputs": [],
      "source": [
        "from collections import deque\n",
        "#library is a collection of python code(module)\n",
        "#collection is a library and deque is module"
      ]
    },
    {
      "cell_type": "code",
      "execution_count": null,
      "id": "ac55d505-7261-4a00-8c0c-2194610f3e15",
      "metadata": {
        "id": "ac55d505-7261-4a00-8c0c-2194610f3e15"
      },
      "outputs": [],
      "source": [
        "checkout = deque()\n",
        "checkout.append(\"cus1\")\n",
        "checkout.append(\"cus2\")\n",
        "checkout.append(\"cus3\")\n",
        "checkout.append(\"cus4\")\n",
        "checkout.append(\"cus5\")"
      ]
    },
    {
      "cell_type": "code",
      "execution_count": null,
      "id": "0c90995e-ad65-4f51-ae0f-ecd8e228a40c",
      "metadata": {
        "id": "0c90995e-ad65-4f51-ae0f-ecd8e228a40c",
        "outputId": "c309a0c6-e349-42bb-b161-c455e9b495b6"
      },
      "outputs": [
        {
          "data": {
            "text/plain": [
              "deque(['cus1', 'cus2', 'cus3', 'cus4', 'cus5'])"
            ]
          },
          "execution_count": 137,
          "metadata": {},
          "output_type": "execute_result"
        }
      ],
      "source": [
        "checkout"
      ]
    },
    {
      "cell_type": "code",
      "execution_count": null,
      "id": "98b11dd9-a835-4183-b5f2-0f1ab1543ae8",
      "metadata": {
        "id": "98b11dd9-a835-4183-b5f2-0f1ab1543ae8",
        "outputId": "e7253e64-d081-4cef-84b3-41dc88bdc67d"
      },
      "outputs": [
        {
          "name": "stdout",
          "output_type": "stream",
          "text": [
            "serving cus1\n",
            "serving cus2\n",
            "serving cus3\n",
            "serving cus4\n",
            "serving cus5\n"
          ]
        }
      ],
      "source": [
        "while checkout:\n",
        "    customer = checkout.popleft()\n",
        "    print(\"serving\", customer)"
      ]
    },
    {
      "cell_type": "code",
      "execution_count": null,
      "id": "374e5996-9f6b-4382-840f-40fe489bbc6f",
      "metadata": {
        "id": "374e5996-9f6b-4382-840f-40fe489bbc6f",
        "outputId": "557b88e4-7f99-4df3-ad44-648c8958174c"
      },
      "outputs": [
        {
          "name": "stdout",
          "output_type": "stream",
          "text": [
            "printing Print the 1 pdf\n",
            "printing Print the 2 pdf\n",
            "printing Print the 3 pdf\n",
            "printing Print the 4 pdf\n",
            "printing Print the 5 pdf\n"
          ]
        }
      ],
      "source": [
        "from queue import Queue\n",
        "print_queue = Queue()\n",
        "print_queue.put(\"Print the 1 pdf\") #put is similar to push\n",
        "print_queue.put(\"Print the 2 pdf\")\n",
        "print_queue.put(\"Print the 3 pdf\")\n",
        "print_queue.put(\"Print the 4 pdf\")\n",
        "print_queue.put(\"Print the 5 pdf\")\n",
        "\n",
        "\n",
        "while not print_queue.empty():\n",
        "    print_job = print_queue.get() #get is similar pop\n",
        "    print(\"printing\", print_job)"
      ]
    },
    {
      "cell_type": "code",
      "execution_count": null,
      "id": "5e6d11cd-442b-4dad-8d87-2949e4f4ff12",
      "metadata": {
        "id": "5e6d11cd-442b-4dad-8d87-2949e4f4ff12"
      },
      "outputs": [],
      "source": []
    }
  ],
  "metadata": {
    "kernelspec": {
      "display_name": "Python 3 (ipykernel)",
      "language": "python",
      "name": "python3"
    },
    "language_info": {
      "codemirror_mode": {
        "name": "ipython",
        "version": 3
      },
      "file_extension": ".py",
      "mimetype": "text/x-python",
      "name": "python",
      "nbconvert_exporter": "python",
      "pygments_lexer": "ipython3",
      "version": "3.10.8"
    },
    "colab": {
      "provenance": [],
      "include_colab_link": true
    }
  },
  "nbformat": 4,
  "nbformat_minor": 5
}